{
 "cells": [
  {
   "cell_type": "markdown",
   "metadata": {
    "slideshow": {
     "slide_type": "slide"
    }
   },
   "source": [
    "# Angewandte Statistik II - INF4151\n",
    "Sommersemester 2018"
   ]
  },
  {
   "cell_type": "code",
   "execution_count": 12,
   "metadata": {},
   "outputs": [],
   "source": [
    "# general imports\n",
    "%matplotlib inline\n",
    "from matplotlib import pyplot as plt\n",
    "import numpy as np\n",
    "from scipy import stats"
   ]
  },
  {
   "cell_type": "markdown",
   "metadata": {
    "slideshow": {
     "slide_type": "fragment"
    }
   },
   "source": [
    "## Ziele\n",
    "Statistik-Werkzeuge mit denen der wissenschaftliche Alltag bearbeitet wird.\n",
    "\n",
    "* Kennenlernen\n",
    "* Verstehen\n",
    "    * dazu Theorie\n",
    "* Anwendunsbereiche\n",
    "* Anwenden\n",
    "* Programmieren\n",
    "* Ergebnis\n",
    "    * interpretieren und darstellen"
   ]
  },
  {
   "cell_type": "markdown",
   "metadata": {
    "slideshow": {
     "slide_type": "slide"
    }
   },
   "source": [
    "# Über mich\n",
    "\n",
    "Physiker, Biologe, Elektroingenieur, Administrator, Postdoc.\n",
    "\n",
    "Lehrstuhl ***Neuronale Informationsverarbeitung***\n",
    "http://www.nip.uni-tuebingen.de/home.html"
   ]
  },
  {
   "cell_type": "markdown",
   "metadata": {
    "slideshow": {
     "slide_type": "slide"
    }
   },
   "source": [
    "# Über Sie\n",
    "\n",
    "#### Studiengang?"
   ]
  },
  {
   "cell_type": "markdown",
   "metadata": {
    "slideshow": {
     "slide_type": "fragment"
    }
   },
   "source": [
    "#### Was sind Ihre Vorkenntnisse in\n",
    "\n",
    "1. Mathematik (Lineare Algebra, Analysis)\n",
    "2. Statistik (Angewandte Statistik I; Beispiele folgen)\n",
    "3. Programmieren mit Python\n",
    "4. Notebooks"
   ]
  },
  {
   "cell_type": "markdown",
   "metadata": {
    "slideshow": {
     "slide_type": "fragment"
    }
   },
   "source": [
    "#### Was sind Ihre Erwartungen?\n",
    "Spezielle Problemstellung?"
   ]
  },
  {
   "cell_type": "markdown",
   "metadata": {
    "slideshow": {
     "slide_type": "slide"
    }
   },
   "source": [
    "# Rückblick *Angewandte Statistik I*\n",
    "\n",
    "- Grundlagen der Statistik\n",
    "- Inferenz\n",
    "    - Punktschätzer\n",
    "    - Nullhypothesen-Signifikanz-Test, Vertrauensintervalle\n",
    "    - Lineare Modelle *OLS*\n",
    "    - ..."
   ]
  },
  {
   "cell_type": "markdown",
   "metadata": {
    "slideshow": {
     "slide_type": "subslide"
    }
   },
   "source": [
    "# Übersicht *Angewandte Statistik II*\n",
    "\n",
    "- Generalisierte Lineare Modelle *generalized linear models: GLM* 广义线性模型\n",
    "- Hauptkomponentenanalyse *principal components analysis: PCA* 主成分分析\n",
    "- Unabhängige-Komponenten-Analyse *independent components analysis: ICA* 独立成分分析\n",
    "- Bayes Statistik\n",
    "    - Vergleich mit frequentistischer Statistik: Tests und Vertrauensintervalle\n",
    "    - Psychophysik"
   ]
  },
  {
   "cell_type": "markdown",
   "metadata": {},
   "source": [
    "1. 广义线性模型 GLM\n",
    "\n",
    "2. 主成分分析 PCA\n",
    "\n",
    "3. 独立成分分析 ICA\n",
    "\n",
    "4. 贝叶斯统计 Bayes\n"
   ]
  },
  {
   "cell_type": "markdown",
   "metadata": {
    "slideshow": {
     "slide_type": "slide"
    }
   },
   "source": [
    "# Wiederholung Grundlagen der Statistik"
   ]
  },
  {
   "cell_type": "markdown",
   "metadata": {
    "slideshow": {
     "slide_type": "fragment"
    }
   },
   "source": [
    "## Zufallsvariable & Wahrscheinlichkeitsraum  $(\\Omega, \\Sigma, P)$"
   ]
  },
  {
   "cell_type": "code",
   "execution_count": 2,
   "metadata": {
    "slideshow": {
     "slide_type": "fragment"
    }
   },
   "outputs": [
    {
     "name": "stdout",
     "output_type": "stream",
     "text": [
      "(Quelle: Wikipedia. Authorin: Frau Holle Joxemai4, CC BY-SA 3.0)\n"
     ]
    },
    {
     "data": {
      "image/png": "[encoded data removed]",
      "text/plain": [
       "<IPython.core.display.Image object>"
      ]
     },
     "execution_count": 2,
     "metadata": {
      "image/png": {
       "width": "33%"
      }
     },
     "output_type": "execute_result"
    }
   ],
   "source": []
  },
  {
   "cell_type": "markdown",
   "metadata": {
    "slideshow": {
     "slide_type": "fragment"
    }
   },
   "source": [
    "- Ergebnisraum $\\Omega = \\{\\omega_i\\}$: Menge aller Ergebnisse\n",
    "- Ereignisraum $\\Sigma$, bestehend aus allen möglichen Kombinationen aus $\\Omega$\n",
    "- Wahrscheinlichkeitsmaß $P$\n",
    "    - ordnet jedem Ereignis aus $\\Sigma$ eine Wahrscheinlichkeit $P$ zu"
   ]
  },
  {
   "cell_type": "markdown",
   "metadata": {
    "slideshow": {
     "slide_type": "subslide"
    }
   },
   "source": [
    "## Kolmogorov-Axiome\n",
    "Andrei Kolmogorov (1930er Jahre);\n",
    "In Übereinstimmung mit alltäglicher Erfahrung und Umgangssprache:\n",
    "\n",
    "Gesamtheit\n",
    "$$P(\\Omega)=1$$\n",
    "\n",
    "Unmögliches Ereignis\n",
    "$$P(\\emptyset)=0$$\n",
    "\n",
    "Wahrscheinlichkeiten\n",
    "$$0 \\leq P(A) \\leq 1$$\n",
    "\n",
    "Eintreten oder Nichteintreten eines Ereignisses\n",
    "$$P(A) + P(\\bar{A}) = 1$$\n",
    "\n",
    "Disjunkte Ereignisse-不相交事件\n",
    "$$P(A\\cup B) = P(A) + P(B) \\quad \\text{falls}\\; A\\cap B=\\emptyset$$\n",
    "\n",
    "σ-Additivität-\n",
    "$$\\sum_{i=1}^n P(\\omega_i) = 1$$\n",
    "$$\\omega_i \\cap \\omega_j = \\emptyset \\;\\;\\;\\; \\forall i\\neq j$$\n",
    "$$P\\left(\\omega_1\\;\\cup \\;\\omega_2\\;\\cup\\cdots\\right) = \\sum P(\\omega_i)$$"
   ]
  },
  {
   "cell_type": "markdown",
   "metadata": {
    "slideshow": {
     "slide_type": "subslide"
    }
   },
   "source": [
    "## diskrete Wahrscheinlichkeits-(Modell-)Verteilungen\n",
    "- Laplace-Verteilung - 拉布拉斯分布\n",
    "- Bernoulli-Verteilung - 伯努利分布\n",
    "- Binomialverteilung - 二项式分布\n",
    "- Multinomialverteilung - 多项式分布\n",
    "- Poissonverteilung - 泊松分布"
   ]
  },
  {
   "cell_type": "markdown",
   "metadata": {
    "slideshow": {
     "slide_type": "subslide"
    }
   },
   "source": [
    "## Erwartungswert - 期望\n",
    "\n",
    "Sei $X$ eine diskrete Zufallsvariable mit Ergebnissen (Elementarereignissen) $x_i$ $\\; i\\in\\{1,2,\\dots, N\\}$ <br>\n",
    "und deren Wahrscheinlichkeitsverteilung $P(X\\!=\\!x)$, Abkürzung $p_i=p(X\\!=\\!x_i)$,<br>\n",
    "dann ist der **Erwartungswert** von $X$\n",
    "$$\\mathcal{E}(X) = \\mu_X = \\sum_{i=1}^N p_i\\cdot x_i$$"
   ]
  },
  {
   "cell_type": "markdown",
   "metadata": {
    "slideshow": {
     "slide_type": "subslide"
    }
   },
   "source": [
    "## Varianz - 方差\n",
    "\n",
    "Sei $X$ eine diskrete Zufallsvariable mit Ergebnissen $x_i$ $\\; i\\in\\{1,2,\\dots, N\\}$,<br>\n",
    "Erwartungswert $\\mu$ und <br>\n",
    "Wahrscheinlichkeitsverteilung $P(X=x)$, Abkürzung $p_i=p(X=x_i)$, <br>\n",
    "dann ist die **Varianz** von $X$\n",
    "\n",
    "$$Var(X) = \\sigma^2 = \\sum_{i=1}^N p_i(x_i-\\mu)^2$$\n",
    "\n",
    "und die **Standardabweichung** von $X$ - 标准差\n",
    "\n",
    "$$\\mathrm{std}(X) = \\sigma = \\sqrt{Var(X)}$$"
   ]
  },
  {
   "cell_type": "markdown",
   "metadata": {
    "slideshow": {
     "slide_type": "slide"
    }
   },
   "source": [
    "Erweiterung auf *kontinuierliche* Wahrscheinlichkeitsverteilungen\n",
    "\n",
    "## Wahrscheinlichkeitsdichte $f(x)$\n",
    "(*probability density function, pdf*)\n",
    "$$f(x) \\geq 0 \\qquad \\text{möglich: }\\;f(x) \\nleq 1$$\n",
    "\n",
    "$$P(a\\leq x \\leq b) =  \\int_{a}^{b} f(x)\\;\\mathrm{d}x \\;\\leq 1$$\n",
    "\n",
    "#### Normierung - 标准化\n",
    "$$\\int_{x=-\\infty}^{\\infty} f(x)\\mathrm{d}x = 1$$"
   ]
  },
  {
   "cell_type": "code",
   "execution_count": 6,
   "metadata": {
    "slideshow": {
     "slide_type": "fragment"
    }
   },
   "outputs": [
    {
     "data": {
      "image/png": "[encoded data removed]",
      "text/plain": [
       "<Figure size 720x216 with 1 Axes>"
      ]
     },
     "metadata": {},
     "output_type": "display_data"
    }
   ],
   "source": [
    "'''Gaussian probability density function'''\n",
    "plt.figure(figsize=(10, 3))\n",
    "x = np.linspace(-4, 4, 80+1)\n",
    "plt.plot(x, stats.norm(0, 1).pdf(x))\n",
    "plt.title('Gaussian probability density')\n",
    "plt.xlabel('x')\n",
    "plt.ylabel('probability density f(x)');"
   ]
  },
  {
   "cell_type": "markdown",
   "metadata": {
    "slideshow": {
     "slide_type": "subslide"
    }
   },
   "source": [
    "## Kontinuierliche Wahrscheinlichkeitsverteilungen - 连续概率分布\n",
    "- Rechteckverteilung - 矩形分布\n",
    "- Normalverteilung - 正态分布\n",
    "- Exponentialverteilung - 指数分布\n",
    "- Cauchy-Verteilung - 柯西分布\n",
    "- $\\chi^2$- Verteilung - $\\chi^2$分布\n",
    "- Fisher F-Verteilung - 费舍尔F分布"
   ]
  },
  {
   "cell_type": "markdown",
   "metadata": {
    "slideshow": {
     "slide_type": "slide"
    }
   },
   "source": [
    "### Wahrscheinlichkeitsfunktion $F(x)$\n",
    "(*cumulated distribution function, cdf*) - 累积分布函数\n",
    "\n",
    "Die kumulierte Wahrscheinlichkeit bis zum Punkt x ist \n",
    "$$F(x) = \\int_{x'=-\\infty}^{x'=x} f(x')\\mathrm{d}x'$$\n",
    "\n",
    "Damit\n",
    "$$F(-\\infty) = 0 \\qquad F(+\\infty) = 1$$\n",
    "\n",
    "Endliche Wahrscheinlichkeit im Intervall - 区间内的概率计算\n",
    "$$P(a\\leq x \\leq b) =  F(b) - F(a)$$\n",
    "Punktwahrscheinlichkeit\n",
    "$$P(a) =  F(a) - F(a) = 0$$"
   ]
  },
  {
   "cell_type": "code",
   "execution_count": 8,
   "metadata": {
    "slideshow": {
     "slide_type": "subslide"
    }
   },
   "outputs": [
    {
     "data": {
      "image/png": "[encoded data removed]",
      "text/plain": [
       "<Figure size 720x216 with 1 Axes>"
      ]
     },
     "metadata": {},
     "output_type": "display_data"
    }
   ],
   "source": [
    "'''Gaussian cumulative distribution function'''\n",
    "plt.figure(figsize=(10, 3))\n",
    "x = np.linspace(-4, 4, 80+1)\n",
    "plt.plot(x, stats.norm(0, 1).cdf(x))\n",
    "plt.title('Gaussian cumulative distribution')\n",
    "plt.xlabel('x')\n",
    "plt.ylabel('cumulated probability F(x)');"
   ]
  },
  {
   "cell_type": "markdown",
   "metadata": {
    "slideshow": {
     "slide_type": "subslide"
    }
   },
   "source": [
    "Sei $X$ eine Zufallsvariable auf $\\mathbb{R}$ mit Wahrscheinlichkeitsdichte $f(x)$, dann\n",
    "\n",
    "## Erwartungswert\n",
    "$$\\mathcal{E}(X) = \\mu = \\int_{-\\infty}^{\\infty} f(x)\\cdot x\\; \\mathrm{d}x$$\n",
    "\n",
    "## Varianz\n",
    "$$\\begin{aligned}\n",
    "Var(X) = \\sigma^2 & = \\int_{-\\infty}^{\\infty} (x-\\mu)^2\\cdot f(x) \\mathrm{d}x \\\\\n",
    "& = \\mathcal{E}\\left((x-\\mu)^2\\right) = \\mathcal{E}(x^2)-\\bigl(\\mathcal{E}(x)\\bigr)^2\n",
    "\\end{aligned}$$\n"
   ]
  },
  {
   "cell_type": "markdown",
   "metadata": {
    "slideshow": {
     "slide_type": "slide"
    }
   },
   "source": [
    "## Sätze der Statistik\n",
    "\n",
    "#### Gesetz der großen Zahlen\n",
    "\n",
    "Das arithmetische Mittel(算数平均值) $\\overline{X}_n = \\frac{1}{n}\\sum_{i=1}^n X_i$  konvergiert(收敛) *nach Wahrscheinlichkeit* gegen den Erwartungswert $\\mathcal{E}(\\overline{X}_n) = \\mathcal{E}(X)=\\mu$:\n",
    "\n",
    "Für eine beliebig kleine Konstante $c>0$ gilt\n",
    "$$P(|\\overline{X}_n-\\mu|\\leq c) \\;\\xrightarrow{n\\rightarrow\\infty}\\; 1$$"
   ]
  },
  {
   "cell_type": "markdown",
   "metadata": {
    "slideshow": {
     "slide_type": "subslide"
    }
   },
   "source": [
    "#### Theorem von Bernoulli\n",
    "\n",
    "Sei $X$ eine diskete Zufallsvariable mit möglichen Ereignissen $x_j$ mit Wahrscheinlichkeit $p_j=p(X\\!=\\!x_j)$. \n",
    "\n",
    "Dann gilt für die relative Häufigkeit $h_j$, mit der das Ereignis $x_j$ eintritt:\n",
    "\n",
    "$$h_j \\;\\xrightarrow{n\\rightarrow\\infty}\\; p(X\\!=\\!x_j)$$ "
   ]
  },
  {
   "cell_type": "markdown",
   "metadata": {
    "slideshow": {
     "slide_type": "subslide"
    }
   },
   "source": [
    "#### Hauptsatz der Statistik, Satz von Gliwenko-Cantelli\n",
    "\n",
    "Sei $X$ eine Zufallsvariable mit Verteilungsfunktion $F(x)$ <br>\n",
    "und $\\{X_i\\}$ mit $i\\in\\{1\\dots N\\}$ *i.i.d.* Wiederholungen. 独立同分布\n",
    "\n",
    "Dann konvergiert die relative Häufigkeit $F_n(x)$, daß $X_i\\leq x$ gegen $F(x)$ nach Wahrscheinlichkeit:\n",
    "<br>\n",
    "$$P(sup|F_n(x)-F(x)|\\leq c) \\;\\xrightarrow{n\\rightarrow\\infty}\\;1$$"
   ]
  },
  {
   "cell_type": "markdown",
   "metadata": {
    "slideshow": {
     "slide_type": "subslide"
    }
   },
   "source": [
    "#### Zentraler Grenzwertsatz\n",
    "\n",
    "Seien $X_i$ unabhängig identisch verteilte Zufallsvariablen mit Erwartungswert 期望\n",
    "$$\\mathcal{E}(X_i) = \\mu$$\n",
    "und Varianz 方差\n",
    "$$Var(X_i) = \\sigma^2$$\n",
    "dann konvergiert die Verteilungsfunktion 收敛分布函数\n",
    "$$F_n(z)=P(Z_n\\leq z)$$\n",
    "der standardisierten Summe 标准化总和\n",
    "$$Z_n = \\frac{1}{\\sqrt{n}}\\sum_{i=1}^n\\frac{X_i-\\mu}{\\sigma}$$\n",
    "für $n\\rightarrow\\infty$ an jeder Stelle $z\\in\\mathbb{R}$ gegen die Verteilungsfunktion der **Standardnormalverteilung**标准正态分布\n",
    "\n",
    "$$F_n(z)\\;\\xrightarrow{n\\rightarrow\\infty}\\;\\Phi(z)$$\n",
    "Kurz:\n",
    "$$Z_n \\stackrel{a}{\\sim} \\mathcal{N}(0, 1)$$"
   ]
  },
  {
   "cell_type": "code",
   "execution_count": 24,
   "metadata": {
    "slideshow": {
     "slide_type": "subslide"
    }
   },
   "outputs": [
    {
     "name": "stdout",
     "output_type": "stream",
     "text": [
      "sinus has mean= 0.000 and std= 0.993\n",
      "triangle has mean=-0.083 and std= 0.975\n",
      "square  has mean=-0.002 and std= 1.000\n",
      "mixture  has mean=-0.049 and std= 0.837\n"
     ]
    },
    {
     "data": {
      "image/png": "[encoded data removed]",
      "text/plain": [
       "<Figure size 720x360 with 8 Axes>"
      ]
     },
     "metadata": {},
     "output_type": "display_data"
    }
   ],
   "source": [
    "'''central limit theoreme - even for non i.i.d. mixtures'''\n",
    "x = np.linspace(0, 16, 1000)\n",
    "f = plt.figure(figsize=(10, 5))\n",
    "sinus = 1.41*np.sin(2.*np.pi*x) # sine wave distributio\n",
    "triangle=(x%5-2.5)/1.5          # sawtooth distribution\n",
    "square = 2*((x%2)>1.0)-1.       # rectangular distribu\n",
    "mixture=1./np.sqrt(3)*(sinus+triangle+square) # normaliz\n",
    "cols = ['b', 'b', 'b', 'r']     # colors for plotting\n",
    "names = ['sinus', 'triangle', 'square ', 'mixture ']\n",
    "for i, curve in enumerate([sinus, triangle, square, mixture]):\n",
    "    f.add_subplot(2, 4, 1+i)    # i_th plot upper row\n",
    "    plt.title(names[i])\n",
    "    plt.grid(True)\n",
    "    plt.plot(curve, cols[i])    # plot of i-th curve\n",
    "    plt.ylim(-1.6, 1.6)\n",
    "    plt.xlabel('#')\n",
    "    if i==0:\n",
    "        plt.ylabel('x')\n",
    "    f.add_subplot(2, 4, 5+i)    # i_th plot lower row\n",
    "    plt.xlabel('x')\n",
    "    if i==0:\n",
    "        plt.ylabel('histogram')\n",
    "    plt.axis((-2.5, 2.5, 0, 600))\n",
    "    plt.hist(curve, color=cols[i]) # histogram of i-th cur\n",
    "    print('{} has mean={:6.3f} and std={:6.3f}'\n",
    "          .format(names[i], np.mean(curve), np.var(curve)))\n",
    "\n",
    "x = np.linspace(-2, 2, 401)\n",
    "# and for comparison of mixture: add standard normal to last plot\n",
    "plt.plot(x, 400*stats.norm.pdf(x), 'k--')\n",
    "plt.tight_layout()"
   ]
  },
  {
   "cell_type": "markdown",
   "metadata": {
    "slideshow": {
     "slide_type": "subslide"
    }
   },
   "source": [
    "### Ergebnis\n",
    "- Endlicher Erwartungswert $\\mu$ - 有限的期望\n",
    "- Endliche Varianz $\\sigma^2$ - 有限的方差\n",
    "- identische, unabhängige Wiederholungen - 一致、不关联重复\n",
    "\n",
    "Modell für Zufallvariable erlaubt statistische Schlußfolgerungen 统计结果\n",
    "\n",
    "Stochastik (*ars conjectandi*) 随机指标"
   ]
  },
  {
   "cell_type": "markdown",
   "metadata": {
    "slideshow": {
     "slide_type": "slide"
    }
   },
   "source": [
    "# Philosophie der Vorlesung\n",
    "### Voraussetzungen\n",
    "- Mathematik\n",
    "    - Lineare Algebra \n",
    "    - Analysis\n",
    "- Python\n",
    "    - matplotlib\n",
    "    - numpy\n",
    "    - scipy.stats\n",
    "    - statsmodels `ols`\n",
    "- Angewandte Statistik I\n",
    "    - Zufallsvariable: \n",
    "        - Verteilungen: $\\mathcal{N}$, Student-$t$, $\\chi^2$, ...\n",
    "        - Erwartungswert, Varianz, Streuung\n",
    "    - Sätze der Statistik: Zentraler Grenzwertsatz\n",
    "    - Punktschätzer, Tests, Konfidenzintervalle\n",
    "    - Lineare Modelle und deren Lösungsansätze: *OLS* \n",
    "    - Likelihood und Log-Likelihood-Methode, Max-Likelihood-Schätzer"
   ]
  },
  {
   "cell_type": "markdown",
   "metadata": {
    "slideshow": {
     "slide_type": "subslide"
    }
   },
   "source": [
    "### Ziel\n",
    "- Methoden \n",
    "    - kennenlernen und verstehen\n",
    "    - anwenden\n",
    "    - Grenzen kennen\n",
    "- Mathematik\n",
    "    - kennenlernen \n",
    "    - *prinzipielles* Verständnis\n",
    "    - i.A. **nicht** in Prüfung "
   ]
  },
  {
   "cell_type": "markdown",
   "metadata": {
    "slideshow": {
     "slide_type": "subslide"
    }
   },
   "source": [
    "### Übungen\n",
    "- Komplexere Fragen, Diskussion\n",
    "- Besprechen der Aufgaben\n",
    "- Programmierbeispiele\n",
    "- Erweiterungen"
   ]
  },
  {
   "cell_type": "markdown",
   "metadata": {
    "slideshow": {
     "slide_type": "slide"
    }
   },
   "source": [
    "# Formalien\n",
    "\n",
    "## Links\n",
    "\n",
    "#### Homepage *Neuronale Informationsverarbeitung*\n",
    "http://www.nip.uni-tuebingen.de/teaching/lectures-seminars/summer-term-2018.html\n",
    "\n",
    "#### Informatik\n",
    "http://www.wsi.uni-tuebingen.de/studium"
   ]
  },
  {
   "cell_type": "markdown",
   "metadata": {
    "slideshow": {
     "slide_type": "subslide"
    }
   },
   "source": [
    "## ilias\n",
    "\n",
    "- Veranstaltungen\n",
    "    - Sommersemester 2018 \n",
    "        - 7 Mathematisch-Naturwissenschaftliche Fakultät\n",
    "            - Informatik \n",
    "                - Neuronale Informationsverarbeitung (Prof. Wichmann)\n",
    "                    - Angewandte Statistik II (SoSe 2018)\n",
    "\n",
    "\n",
    "#### Anmeldung mit Passwort\n",
    "\n",
    "#### Ordner\n",
    "\n",
    "- Folien der Vorlesung\n",
    "- Literatur\n",
    "- Übungsaufgaben\n",
    "\n",
    "#### Kommunikation\n",
    "\n",
    "- Sammel-Email \n",
    "- Forum für Fragen *und* Antworten\n",
    "- Abgabe der Übungsaufgaben per Email mit Anhang"
   ]
  },
  {
   "cell_type": "markdown",
   "metadata": {
    "slideshow": {
     "slide_type": "subslide"
    }
   },
   "source": [
    "## Übungsaufgaben\n",
    "- **Angewandte** Statistik\n",
    "- Zu Ihrer eigenen Verständnisvertiefung\n",
    "- jede / jede zweite Woche\n",
    "- Besprechung in der Übungsstunde\n",
    "- Voraussetzung für Teilnahme an Prüfung: 50% richtig bearbeitet\n",
    "    - Bonusregelung\n",
    "- Nicht Teil der Benotung"
   ]
  },
  {
   "cell_type": "markdown",
   "metadata": {
    "slideshow": {
     "slide_type": "subslide"
    }
   },
   "source": [
    "## Klausur \n",
    "- Schriftliche Klausur\n",
    "- Termin: Mittwoch 1. August 2018\n",
    "- Uhrzeit 14:15\n",
    "- Dauer: 90 Minuten\n",
    "- Ort: Hörsaal 1 F119\n",
    "- Zulassungsvoraussetzung: 50% der Punkte aus den Übungsaufgaben\n",
    "\n",
    "#### Anmeldung zur Klausur\n",
    "- abhängig vom Studienfach"
   ]
  },
  {
   "cell_type": "markdown",
   "metadata": {
    "slideshow": {
     "slide_type": "slide"
    }
   },
   "source": [
    "# Literatur\n",
    "#### in der UB mehrfach vorhandene Bücher: Einführung in Statistik zur Wiederholung\n",
    "- Fahrmeir, Künstler, Pigeot, Tutz: Statistik. Springer-Verlag Berlin Heidelberg, 6. Auflage 2007\n",
    "- Stahel: Statistische Datenanalyse. Vieweg&Sohn, 5. Auflage 2008\n",
    "\n",
    "#### Bücher\n",
    "- Dobson, Barnett: An Introduction to Generalized Linear Models. Chapman&Hall/CRC, 3rd ed. 2008\n",
    "- McCullagh, Nelder: Generalized Linear Models. Chapman&Hall/CRC, 2nd ed. 1989\n",
    "- Hyvärinen, Hurri, Hoyer: Natural Image Statistics - A Probabilistic Approach to Early Computational Vision. Springer 2009\n",
    "- Kruschke: Doing Bayesian Data Analysis: A Tutorial with R, JAGS, and Stan. Academic Press/Elsevier, 2nd ed. 2014\n",
    "\n",
    "#### Wissenschaftliche Artikel, Quellen im Internet\n",
    "- zu den einzelnen Kapiteln"
   ]
  },
  {
   "cell_type": "markdown",
   "metadata": {
    "slideshow": {
     "slide_type": "slide"
    }
   },
   "source": [
    "## Python, Notebooks, ...\n",
    "- http://nb.bianp.net/sort/views/\n",
    "- http://nbviewer.jupyter.org/gist/rpmuller/5920182\n",
    "- http://nbviewer.jupyter.org/github/pybokeh/ipython_notebooks/blob/master/matplotlib/Matplotlib.ipynb\n",
    "- http://nbviewer.jupyter.org/github/jorisvandenbossche/2015-PyDataParis/blob/master/pandas_introduction.ipynb"
   ]
  },
  {
   "cell_type": "markdown",
   "metadata": {
    "slideshow": {
     "slide_type": "subslide"
    }
   },
   "source": [
    "    # packages in environment  (conda list)\n",
    "    python                    3.6.5                hc3d631a_0  \n",
    "    ipython                   6.3.1                    py36_0  \n",
    "    jupyter                   1.0.0                    py36_4  \n",
    "    jupyter_core              4.4.0            py36h7c827e3_0  \n",
    "    notebook                  5.4.1                    py36_0  \n",
    "    matplotlib                2.2.2            py36h0e671d2_1  \n",
    "    scipy                     1.0.1            py36hfc37229_0 \n",
    "    numpy                     1.14.2           py36hdbf6ddf_1\n",
    "    pandas                    0.22.0           py36hf484d3e_0  \n",
    "    patsy                     0.5.0                    py36_0 \n",
    "    statsmodels               0.8.0            py36h8533d0b_0   \n",
    "    libgcc                    7.2.0                h69d50b8_2 "
   ]
  },
  {
   "cell_type": "markdown",
   "metadata": {
    "slideshow": {
     "slide_type": "slide"
    }
   },
   "source": [
    "# Terminübersicht\n",
    "(vorläufig)\n",
    "\n",
    "| Datum            | Titel\n",
    "| :-               | :-------------\n",
    "| `18. April 2018` | Einführung, Rückblick *Angewandte Statistik I*\n",
    "| `25. April 2018` | GLM\n",
    "| `02. Mai   2018` | GLM\n",
    "| `09. Mai   2018` | PCA\n",
    "| `16. Mai   2018` | PCA\n",
    "| `23. Mai   2018` | ICA\n",
    "| `30. Mai   2018` | ICA\n",
    "| `06. Juni  2018` | (Pfingsten)\n",
    "| `13. Juni  2018` | Bayes\n",
    "| `20. Juni  2018` | Bayes\n",
    "| `27. Juni  2018` | Bayes\n",
    "| `04. Juli  2018` | Bayes\n",
    "| `11. Juli  2018` | Kausalität\n",
    "| `18. Juli  2018` | Psychophysik: Psignifit\n",
    "| `25. Juli  2018` | Repetorium\n"
   ]
  }
 ],
 "metadata": {
  "kernelspec": {
   "display_name": "Python 3",
   "language": "python",
   "name": "python3"
  },
  "language_info": {
   "codemirror_mode": {
    "name": "ipython",
    "version": 3
   },
   "file_extension": ".py",
   "mimetype": "text/x-python",
   "name": "python",
   "nbconvert_exporter": "python",
   "pygments_lexer": "ipython3",
   "version": "3.6.5"
  },
  "latex_envs": {
   "LaTeX_envs_menu_present": true,
   "autoclose": false,
   "autocomplete": true,
   "bibliofile": "biblio.bib",
   "cite_by": "apalike",
   "current_citInitial": 1,
   "eqLabelWithNumbers": true,
   "eqNumInitial": 1,
   "hotkeys": {
    "equation": "Ctrl-E",
    "itemize": "Ctrl-I"
   },
   "labels_anchors": false,
   "latex_user_defs": false,
   "report_style_numbering": false,
   "user_envs_cfg": false
  }
 },
 "nbformat": 4,
 "nbformat_minor": 1
}
