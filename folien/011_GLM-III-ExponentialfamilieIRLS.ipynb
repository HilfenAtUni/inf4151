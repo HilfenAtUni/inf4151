{
 "cells": [
  {
   "cell_type": "code",
   "execution_count": 1,
   "metadata": {
    "slideshow": {
     "slide_type": "skip"
    }
   },
   "outputs": [],
   "source": [
    "import numpy as np\n",
    "from scipy import stats                  # statistical methods\n",
    "from matplotlib import pyplot as plt     # plotting methods\n",
    "%matplotlib inline\n",
    "import scipy.io                          # includes matlab\n",
    "import warnings                          # to avoid warning - but be aware\n",
    "warnings.simplefilter(action='ignore', category=FutureWarning)\n",
    "import pandas as pd                      # not yet fixed in 0.20 by anaconda\n",
    "import statsmodels.api as sm             # also existing in statsmodels\n",
    "import statsmodels.formula.api as smf\n",
    "import patsy\n"
   ]
  },
  {
   "cell_type": "markdown",
   "metadata": {
    "slideshow": {
     "slide_type": "slide"
    }
   },
   "source": [
    "# GLM III - Exponentialfamilie, IRLS\n",
    "- Link-Funktion\n",
    "- Parametervektor $\\boldsymbol\\beta$\n",
    "- Exponentialfamilie\n",
    "    - Gauß\n",
    "    - Binomial\n",
    "    - Poisson\n",
    "    - ...\n",
    "- Eigenschaften der Exponentialfamilie\n",
    "    - Erwartungswert und Varianz\n",
    "    - Likelihood und deren Ableitungen\n",
    "    - *Score Statistik* und *Information*\n",
    "- Max-Likelihood-Schätzer\n",
    "- Iterative Lösung\n",
    "    - Newton-Raphson-Methode\n",
    "    - Scoring Methode\n",
    "    - IRLS\n",
    "- `statsmodels.glm`"
   ]
  },
  {
   "cell_type": "markdown",
   "metadata": {
    "slideshow": {
     "slide_type": "slide"
    }
   },
   "source": [
    "# Lineare Modelle\n",
    "#### Zufallsvariable $Y$\n",
    "$$\\begin{align} \\mathcal{E}(Y_i) &= \\mu_i \\\\\n",
    "Y_i\\; &\\sim \\mathcal{N}(\\mu_i, \\sigma^2)\\end{align}$$\n",
    "mit \n",
    "$$ \\mu_i = \\mathbf{x}_i^T\\boldsymbol\\beta$$\n",
    "- *dieselbe* Abhängigkeit je Versuchsbedingung $i,\\;i\\in[1\\dots n]$\n",
    "- Parametervektor $\\boldsymbol\\beta \\in \\mathbb{R}^p$\n",
    "    - verdichtet Information\n",
    "    - Prediktor(en) $X \\in \\mathbb{R}^{n\\times p}$ \n",
    "    - Vorhersage für abhängige Variable $Y\\in \\mathbb{R}^n$\n",
    "- Wahrscheinlicheitsverteilung für realisierten Wert $y_i$ der Zufallsvariable $Y_i$\n",
    "$$f(y_i;\\mathbf{X}_i,\\boldsymbol\\beta) = \\mathcal{N}(\\mathbf{X}_i^T \\boldsymbol\\beta, \\sigma^2)$$"
   ]
  },
  {
   "cell_type": "markdown",
   "metadata": {
    "slideshow": {
     "slide_type": "slide"
    }
   },
   "source": [
    "# *Generalisierte Lineare Modelle*\n",
    "$$\\begin{align} \\mathcal{E}(\\mathbf{Y}) &= \\boldsymbol\\mu \\\\\n",
    "                 g(\\boldsymbol\\mu) = \\boldsymbol\\eta     &= \\mathbf{X}\\boldsymbol\\beta \\end{align}$$\n",
    "bzw.\n",
    "$$\\mathcal{E}(\\mathbf{Y}) = g^{-1}(\\mathbf{X}\\,\\boldsymbol{\\beta})$$\n",
    "- ***unabhängige*** Variablen $X$\n",
    "    - bilden Spalten der Designmatrix $\\mathbf{X} \\in \\mathbb{R}^{n\\times p}$\n",
    "    - \"Kontrollvariable\", \"Co-Variable\", \"Vorhersage-Variable\", \"Indikatorvariable\" für Kategorie, ...\n",
    "    - legen Versuchbedingungen fest\n",
    "    - wirken linear additiv\n",
    "- eine ***abhängige*** Variable $Y\\in \\mathbb{R}^n$\n",
    "    - wird gemessen in Abhängigkeit von den Versuchbedingungen $i,\\;i\\in[1\\dots n]$\n",
    "    - Fehler-behaftet $\\epsilon$\n",
    "    - Wahrscheinlichkeitsverteilung $f(y_i;\\mathbf{X}_i,\\boldsymbol\\beta)$ mit Erwartungswert $\\mu_i$"
   ]
  },
  {
   "cell_type": "markdown",
   "metadata": {
    "slideshow": {
     "slide_type": "subslide"
    }
   },
   "source": [
    "$$\\begin{align} \\mathcal{E}(\\mathbf{Y}) &= \\boldsymbol\\mu \\\\\n",
    "                 g(\\boldsymbol\\mu) = \\boldsymbol\\eta     &= \\mathbf{X}\\boldsymbol\\beta \\end{align}$$\n",
    "- ***Linearer Term*** $\\;\\boldsymbol\\eta$\n",
    "- ***Parameter*** $\\beta\\in\\mathbb{R}^p$\n",
    "    - bestimmen die *lineare* Abhängigkeit $\\eta$ von den $X$\n",
    "    - Informationsverdichtung: i.A. $p\\ll n$\n",
    "- ***Link-Funktion*** $g\\;\\;(\\mathbb{R}\\rightarrow\\mathbb{R})$\n",
    "    - transformiert lineare Abhängigkeit\n",
    "    - umkehrbar $g^{-1}$\n",
    "    - Einhaltung der Wertebereichs-Grenzen"
   ]
  },
  {
   "cell_type": "markdown",
   "metadata": {
    "slideshow": {
     "slide_type": "fragment"
    }
   },
   "source": [
    "### Spezialfall Lineare Modelle\n",
    "$$\\begin{align} \\mathcal{E}(\\mathbf{Y}) &= \\boldsymbol\\mu \\\\\n",
    "     g(\\boldsymbol\\mu) = \\boldsymbol\\mu &= \\mathbf{X}\\boldsymbol\\beta \\end{align}$$"
   ]
  },
  {
   "cell_type": "markdown",
   "metadata": {
    "slideshow": {
     "slide_type": "subslide"
    }
   },
   "source": [
    "## Verdichtung der Information\n",
    "#### Nicht von Interesse: alle einzelnen $\\mu_i$\n",
    "\n",
    "#### Von Interesse: \n",
    "- Einfluß der unabhängige Variablen (*erklärende* Variablen, Prediktoren) $X$\n",
    "    - kategorial\n",
    "    - kontinuierlich\n",
    "    - Versuchsbedingungen $i\\quad i\\in[1\\dots n]$ \n",
    "- zugehörige Parameter\n",
    "    - modellieren $X$,  *Gewichtung* der Einflüsse\n",
    "    - Parameter $\\beta_j\\quad j\\in[1\\dots k]\\quad k \\ll n$\n",
    "\n",
    "#### Link-Funktion g\n",
    "- verbindet additiven Einfluß ($\\eta_i$) der unabhängigen Variablen $\\mathbf{x}_i$ auf die (erwünschte) Verteilung ($\\mu_i$) der abhängigen $Y_i$\n",
    "$$g(\\mu_i) = \\eta_i = \\mathbf{x}_i^T\\boldsymbol\\beta$$"
   ]
  },
  {
   "cell_type": "markdown",
   "metadata": {
    "slideshow": {
     "slide_type": "subslide"
    }
   },
   "source": [
    "### Beispiel Bernoulli-Verteilung\n",
    "Exponentiell abfallende Abhängigkeit\n",
    "$$\\begin{align}\n",
    "P(Y_i\\!=\\!1) &= e^{-\\lambda t} = \\pi \\\\\n",
    "P(Y_i\\!=\\!0) &= 1-e^{-\\lambda t} = 1-\\pi \\\\\n",
    "\\end{align}$$\n",
    "führt unter Verwendung der Link-Funktion\n",
    "$$g(\\pi) = \\log(\\pi) = -\\lambda t$$\n",
    "auf eine *lineare* Abhängigkeit\n",
    "$$g(E(Y)) = -\\lambda t$$\n",
    "mit\n",
    "$$\\mathbf{x}_i=[t] \\quad \\boldsymbol\\beta=[-\\lambda] $$\n",
    "zum Generalisierten Linearen Modell\n",
    "$$E(Y) = g^{-1}(x\\beta)$$\n",
    "\n",
    "#### Anwendung\n",
    "- Biologie: Genetischer Stammbaum\n",
    "- Linguistik: Abspaltung von Sprachen zum Zeitpunkt t mit gemeinsamem Wortschatz (=1) in unteschiedliche Entwicklung von Worten (=0)\n",
    "- Physik: Spannung bei Kondensatorentladung über konstanten Widerstand"
   ]
  },
  {
   "cell_type": "markdown",
   "metadata": {
    "slideshow": {
     "slide_type": "subslide"
    }
   },
   "source": [
    "## Modell und Fragestellung\n",
    "\n",
    "**Gesucht** sind die Parameter des Modells $\\boldsymbol\\beta$\n",
    "\n",
    "- Signifikanz einer Abhängigkeit, Parameter $\\beta_j$\n",
    "- Unterschiedliche Abhängigkeit bei anderen Daten\n",
    "- Unterschiedliche Modelle"
   ]
  },
  {
   "cell_type": "markdown",
   "metadata": {
    "slideshow": {
     "slide_type": "slide"
    }
   },
   "source": [
    "# Theorie"
   ]
  },
  {
   "cell_type": "markdown",
   "metadata": {
    "slideshow": {
     "slide_type": "subslide"
    }
   },
   "source": [
    "# Exponentialfamilie für Wahrscheinlichkeitsdichteverteilungen\n",
    "<br>\n",
    "$$\\begin{align}\n",
    "f(y; \\theta, \\phi) &= \\exp\\bigl(\\alpha(\\phi)\\{y\\theta-g(\\theta)+h(y)\\}+\\beta(\\phi,y)\\bigr)\\qquad & \\text{Nelder, Wedderburn (1972)} \\\\\n",
    "f(y; \\theta, \\phi) &= \\exp\\bigl(\\frac{(y \\theta-B(\\theta)}{A(\\phi)}+C(y,\\phi)\\bigr)\\qquad & \\text{McCullagh, Nelder (1983)} \\\\\n",
    "f(y; \\theta) &= s(y)t(\\theta)\\exp\\bigl(a(y)b(\\theta)\\bigr) \\\\\n",
    "f(y; \\theta) &= \\exp\\bigl(a(y)b(\\theta)+c(\\theta)+d(y)\\bigr) \\qquad & \\text{Dobson Barnett (2008)}\\quad\\;\\;\n",
    "\\end{align}$$\n",
    "\n",
    "- Viele bekannte Verteilungen sind Mitglied der Exponentialfamilie\n",
    "- Gemeinsame Eigenschaften\n",
    "- Gemeinsame Methoden\n",
    "\n",
    "J. Nelder and R. W. M. Wedderburn: \"Generalized Linear Models\", J. R. Statist. Soc. A, 135 (1972) 370–384."
   ]
  },
  {
   "cell_type": "markdown",
   "metadata": {
    "slideshow": {
     "slide_type": "slide"
    }
   },
   "source": [
    "## 1. Mitglied: Normalverteilung\n",
    "\n",
    "$$\\mathcal{N}(\\mu, \\sigma^2):\\quad f(y | \\mu, \\sigma^2) = \\frac{1}{\\sqrt{2\\pi\\sigma^2}} \\exp\\left({-\\frac{(y-\\mu)^2}{2\\sigma^2}}\\right)$$"
   ]
  },
  {
   "cell_type": "markdown",
   "metadata": {
    "slideshow": {
     "slide_type": "fragment"
    }
   },
   "source": [
    "$$f(y | \\theta) = \\exp\\bigl(a(y)b(\\theta)+c(\\theta)+d(y)\\bigr)$$\n",
    "- Parameter $\\theta$ ist $\\mu$\n",
    "$$\\begin{align}\n",
    "a(y) &= y \\\\\n",
    "b(\\theta) &= \\frac{\\mu}{\\sigma^2} \\\\\n",
    "c(\\theta) &= -\\frac{\\mu^2}{2\\sigma^2} - \\frac{1}{2}\\log(2\\pi\\sigma^2) \\\\\n",
    "d(y) &= -\\frac{y^2}{2\\sigma^2}\n",
    "\\end{align}$$\n",
    "- *Störparameter* $\\sigma^2$, wird als bekannt vorausgesetzt."
   ]
  },
  {
   "cell_type": "markdown",
   "metadata": {
    "slideshow": {
     "slide_type": "slide"
    }
   },
   "source": [
    "## 2. Mitglied: Binomialverteilung\n",
    "Der einzige interessierende Parameter bei gegebenem $n$ ist $\\pi$. <br> \n",
    "$y \\in \\{0\\dots n\\}$\n",
    "$$\\mathcal{B}(n, \\pi):\\quad f(y, \\pi) = {n \\choose y}\\pi^y (1-\\pi)^{n-y} $$\n",
    "$$\\begin{align} \\mathcal{E}(Y) &= n\\pi \\\\\n",
    "                \\mathrm{Var}(Y) &= n\\pi(1-\\pi) \\end{align}$$"
   ]
  },
  {
   "cell_type": "markdown",
   "metadata": {
    "slideshow": {
     "slide_type": "fragment"
    }
   },
   "source": [
    "$$\\begin{align}\n",
    "a(y) &= y \\\\\n",
    "b(\\theta) &= \\log\\left(\\frac{\\pi}{1-\\pi}\\right) \\\\\n",
    "c(\\theta) &= n\\log(1-\\pi) \\\\\n",
    "d(y) &= \\log(\\binom{n}{y})\n",
    "\\end{align}$$"
   ]
  },
  {
   "cell_type": "markdown",
   "metadata": {
    "slideshow": {
     "slide_type": "slide"
    }
   },
   "source": [
    "## 3. Mitglied: Poissonverteilung\n",
    "Der einzige interessierende Parameter ist $\\lambda$. <br> \n",
    "$y \\in \\mathbb{N}$\n",
    "$$\\mathcal{Po}(\\lambda):\\quad f_Y(y,\\lambda) = \\lambda^y\\frac{e^{-\\lambda}}{y!}$$\n",
    "$$\\begin{align} \\mathcal{E}(Y) &= \\lambda \\\\\n",
    "                \\mathrm{Var}(Y) &= \\lambda \\end{align}$$"
   ]
  },
  {
   "cell_type": "markdown",
   "metadata": {
    "slideshow": {
     "slide_type": "fragment"
    }
   },
   "source": [
    "$$\\begin{align}\n",
    "a(y) &= y \\\\\n",
    "b(\\theta) &= \\log\\lambda \\\\\n",
    "c(\\theta) &= -\\lambda \\\\\n",
    "d(y) &= -\\log(y!)\n",
    "\\end{align}$$"
   ]
  },
  {
   "cell_type": "markdown",
   "metadata": {
    "slideshow": {
     "slide_type": "subslide"
    }
   },
   "source": [
    "## Zusammenfassung\n",
    "Einige wichtige Verteilungen sind Mitglieder der Exponentialfamilie.\n",
    "- Diese lassen sich mittels *GLM* lösen."
   ]
  },
  {
   "cell_type": "markdown",
   "metadata": {
    "slideshow": {
     "slide_type": "fragment"
    }
   },
   "source": [
    "### Implementiert in `statsmodels glm`:\n",
    "(Derzeit Version 0.8.0)\n",
    "\n",
    "    Binomial()          Binomial exponential family distribution.\n",
    "    Gamma()             Gamma exponential family distribution.\n",
    "    Gaussian()          Gaussian exponential family distribution.\n",
    "    InverseGaussian()   InverseGaussian exponential family.\n",
    "    NegativeBinomial()  Negative Binomial exponential family.\n",
    "    Poisson()           Poisson exponential family."
   ]
  },
  {
   "cell_type": "markdown",
   "metadata": {
    "slideshow": {
     "slide_type": "slide"
    }
   },
   "source": [
    "# Allgemeine Eigenschaften der Exponential-Familie\n",
    "## Erwartungswert und Varianz\n",
    "\n",
    "#### Erwartungswert\n",
    "$$\\mathcal{E}\\left(a(Y)\\right) = -\\frac{c'(\\theta)}{b'(\\theta)}$$"
   ]
  },
  {
   "cell_type": "markdown",
   "metadata": {
    "slideshow": {
     "slide_type": "fragment"
    }
   },
   "source": [
    "#### Beweis allgemein\n",
    "Aus der Normierung $$\\qquad\\int f(y, \\theta)\\,\\mathrm{d}y = 1$$\n",
    "folgt für deren Ableitung $$\\qquad\\frac{\\text{d}}{\\text{d}\\theta}\\int f(y, \\theta)\\,\\text{d}y = \\int f'(y, \\theta)\\,\\text{d}y = 0$$\n",
    "Für die Exponentialfamilie $$\\qquad f(y; \\theta) = \\exp\\bigl({a(y)b(\\theta)+c(\\theta)+d(y)}\\bigr)$$\n",
    "gilt $$\\qquad\\qquad f'(y; \\theta)= \\bigl( a(y)b'(\\theta)+c'(\\theta)\\bigr) f(y, \\theta)$$\n",
    "Integration $$\\begin{align}\\quad\\int f'(y; \\theta)\\,\\mathrm{d}y &= \\int\\bigl( a(y)b'(\\theta)+c'(\\theta)\\bigr) f(y, \\theta)\\,\\mathrm{d}y \\\\&= b'(\\theta)\\int a(y)f(y, \\theta) \\,\\mathrm{d}y+c'(\\theta)\\int f(y, \\theta) \\,\\mathrm{d}y \\\\&= b'(\\theta)\\mathcal{E}\\left(a(Y)\\right) + c'(\\theta) \\\\&= 0\\end{align}$$"
   ]
  },
  {
   "cell_type": "markdown",
   "metadata": {
    "slideshow": {
     "slide_type": "fragment"
    }
   },
   "source": [
    "#### Beweis speziell\n",
    "**[ÜA]** Nachzurechnen aus der Verteilung in Exponentialschreibweise"
   ]
  },
  {
   "cell_type": "markdown",
   "metadata": {
    "slideshow": {
     "slide_type": "subslide"
    }
   },
   "source": [
    "#### Varianz\n",
    "$$Var\\left(a(Y)\\right) = \\frac{b''(\\theta)c'(\\theta)-c''(\\theta)b'(\\theta)}{[b'(\\theta)]^3}$$\n",
    "\n",
    "#### Beweis\n",
    "Mittels zweiter Ableitung [ÜA]"
   ]
  },
  {
   "cell_type": "markdown",
   "metadata": {
    "slideshow": {
     "slide_type": "subslide"
    }
   },
   "source": [
    "$$\\mathcal{E}\\left(a(Y)\\right) = -\\frac{c'(\\theta)}{b'(\\theta)}\\qquad \\text{Var}\\left(a(Y)\\right) = \\frac{b''(\\theta)c'(\\theta)-c''(\\theta)b'(\\theta)}{[b'(\\theta)]^3}$$\n",
    "\n",
    "## Kanonische Verteilung\n",
    "Verteilungen mit \n",
    "$$a(Y)=Y$$\n",
    "nennt man **kanonisch**.\n",
    "\n",
    "- Normalverteilung, Poissonverteilung, Binomialverteilung sind kanonisch\n",
    "- Erwartungswert und Varianz für $y$ haben eine einfache Form\n",
    "- Der Parameter im zugehörigen Term $b(\\theta)$ heißt **natürlicher Parameter**\n",
    "\n",
    "\n",
    "| Verteilung  | natürlicher Param. $b(\\theta)$       | Funktion $c(\\theta)\\qquad\\qquad\\quad$ | Funktion $d(y) \\qquad\\quad$ |\n",
    "| ----------- | ------------------------- | ---------------- | ------------ |\n",
    "| Normal      | $\\frac{\\mu}{\\sigma^2}$    | $-\\frac{\\mu^2}{2\\sigma^2}-\\frac{1}{2}\\log(2\\pi\\sigma^2)$ | $-\\frac{y^2}{2\\sigma^2}$ |\n",
    "| Binomial    | $\\log(\\frac{\\pi}{1-\\pi})$ | $n \\log(1-\\pi)$ | $\\log \\;{n\\choose y}$ |\n",
    "| Poisson     | $\\log \\lambda$            | $-\\lambda$       | $-\\log y!$    |\n"
   ]
  },
  {
   "cell_type": "markdown",
   "metadata": {
    "slideshow": {
     "slide_type": "slide"
    }
   },
   "source": [
    "# Log-Likelihood-Funktion\n",
    "Exponentialfamilie\n",
    "$$l(\\theta;y) = \\log(f_Y) = a(y)\\cdot b(\\theta)+c(\\theta)+d(y)$$"
   ]
  },
  {
   "cell_type": "markdown",
   "metadata": {
    "slideshow": {
     "slide_type": "fragment"
    }
   },
   "source": [
    "## Score Statistik $U$\n",
    "Ableiten der Log-Likelihood-Funktion nach $\\theta$ ergibt die *score statistic* $U$, als Funktion von $Y$ eine Zufallsvariable:\n",
    "$$U(\\theta; y) := \\frac{\\mathrm{d} l(\\theta;y)}{\\mathrm{d} \\theta} = a(y)\\cdot b'(\\theta)+c'(\\theta)$$"
   ]
  },
  {
   "cell_type": "markdown",
   "metadata": {
    "slideshow": {
     "slide_type": "fragment"
    }
   },
   "source": [
    "#### mit Erwartungswert \n",
    "$$\\mathcal{E}(U) = 0$$"
   ]
  },
  {
   "cell_type": "markdown",
   "metadata": {
    "slideshow": {
     "slide_type": "fragment"
    }
   },
   "source": [
    "**Beweis:**\n",
    "$\\mathcal{E}(U) = \\mathcal{E}(a(y))\\cdot b'(\\theta)+c'(\\theta) = -\\frac{c'(\\theta)}{b'(\\theta)}b'(\\theta)+c'(\\theta) = 0$"
   ]
  },
  {
   "cell_type": "markdown",
   "metadata": {
    "slideshow": {
     "slide_type": "subslide"
    }
   },
   "source": [
    "## Information $\\mathcal{I}$\n",
    "Varianz von U oder *Information* $\\mathcal{I}$\n",
    "$$\\mathcal{I} := \\mathrm{Var}(U) = (b'(\\theta))^2\\cdot \\mathrm{Var}\\left(a(y)\\right) \\\\\n",
    "=\\frac{b''(\\theta)c'(\\theta)}{b'(\\theta)}-c''(\\theta)$$\n",
    "\n",
    "**Beweis:** aus der Definition $\\text{Var}(U)=\\mathcal{E}\\bigl((U-\\mathcal{E}(U))^2\\bigr)$ und den Ergebnissen zuvor.\n",
    "\n",
    "Aus dem **Verschiebungssatz** folgt mit $\\mathcal{E}(U) = 0$\n",
    "$$\\mathrm{Var}(U) = \\mathcal{E}(U^2)$$"
   ]
  },
  {
   "cell_type": "markdown",
   "metadata": {
    "slideshow": {
     "slide_type": "fragment"
    }
   },
   "source": [
    "Desweiteren gilt\n",
    "$$ \\mathcal{E}(U') = -\\text{Var}(U)$$\n",
    "\n",
    "**Beweis:** Aus $U' = \\frac{\\mathrm{d} U}{\\mathrm{d} \\theta} = a(Y)b''(\\theta)+c''(\\theta)$\n",
    "folgt <br>\n",
    "$\\qquad\\quad \\mathcal{E}(U') = b''(\\theta)\\mathcal{E}\\bigl(a(Y)\\bigr)+c''(\\theta) = b''(\\theta)\\left(-\\frac{c'(\\theta)}{b'(\\theta)}\\right)+c''(\\theta) = -\\text{Var}(U)$\n",
    "\n",
    "### Zusammenfassung\n",
    "#### Information \n",
    "$$\\mathcal{I} := \\text{Var}(U) = -\\mathcal{E}(U')$$"
   ]
  },
  {
   "cell_type": "markdown",
   "metadata": {
    "slideshow": {
     "slide_type": "slide"
    }
   },
   "source": [
    "# Zusammengesetzte Wahrscheinlichkeitsverteilung \n",
    "# a) ein skalarer Parmater $\\theta$\n",
    "\n",
    "Ein Satz *unabhängiger, identisch verteilter (i.i.d.)* Zufallsvariabler $\\quad\\mathbf{Y} = [Y_1\\dots Y_N]^T\\quad $\n",
    "\n",
    "mit Wahrscheinlichkeitsverteilung $f(y_i, \\theta)$ aus der *kanonischen* Exponentialfamilie\n",
    "\n",
    "hat eine gemeinsame Wahrscheinlichkeitsverteilung\n",
    "$$\\begin{align}\n",
    "f(\\mathbf{Y},\\theta) &= \\prod_{i=0}^{n} \\exp\\bigl( y_ib(\\theta)+c(\\theta)+d(y_i) \\bigr) \\\\\n",
    " &= \\exp\\bigl( \\sum_{i=0}^{n} y_ib(\\theta) + \\sum_{i=0}^{n} c(\\theta) + \\sum_{i=0}^{n}d(y_i) \\bigr)\n",
    "\\end{align}$$\n",
    "mit\n",
    "$$\\mathcal{E}(Y_i) = (\\dots) = \\mu$$"
   ]
  },
  {
   "cell_type": "markdown",
   "metadata": {
    "slideshow": {
     "slide_type": "slide"
    }
   },
   "source": [
    "# Max-Likelihood-Schätzung\n",
    "Für kanonische Verteilungen mit $a(y) = y$ gilt\n",
    "$$\\mathcal{E}(Y_i) = \\mu_i \\qquad g(\\mu_i) = \\eta_i$$ \n",
    "\n",
    "** Gesucht: ** Parameter $\\theta$\n",
    "\n",
    "** Ansatz: Max-Log-Likelihood **\n",
    "$$l_i(\\theta,y_i) =  y_i\\cdot b(\\theta)+c(\\theta)+d(y_i)$$\n",
    "$$l(\\theta,\\mathbf{y}) = \\sum_{i=0}^{n} l_i = \\sum y_ib(\\theta) + \\sum c(\\theta) + \\sum d(y_i)$$\n",
    "$$U=\\frac{\\mathrm{d}l}{\\mathrm{d}\\theta}\\stackrel{\\mathbf{!}}= 0$$\n",
    "\n",
    "** Ziel **\n",
    "- Parameter $\\widehat{\\theta}$\n",
    "- Maximum der Log-Likelihood $l_{max} = l(\\widehat{\\theta})$"
   ]
  },
  {
   "cell_type": "markdown",
   "metadata": {
    "slideshow": {
     "slide_type": "subslide"
    }
   },
   "source": [
    "## Numerische Lösung mittels Iteration nach Newton-Raphson:\n",
    "Notwendige Bedingung für Maximum: suche Nullstelle $\\alpha$\n",
    "$$U(\\widehat\\alpha)=0$$\n",
    "Steigung an einer Stelle $\\alpha^{(m-1)}$: $$\\frac{\\text{d}U}{\\text{d}\\alpha} = U'(\\alpha^{(m-1)}) = \\frac{U(\\alpha^{(m)}) - U(\\alpha^{(m-1)})}{\\alpha^{(m)} - \\alpha^{(m-1)}} $$\n",
    "An der Nullstelle gilt $U(\\alpha^{(m)}) = 0$ so daß\n",
    "$$\\alpha^{(m)} =  \\alpha^{(m-1)} - \\frac{U(\\alpha^{(m-1)})}{U'(\\alpha^{(m-1)})}$$\n",
    "die iterative Näherung an $\\widehat\\alpha$ erlaubt."
   ]
  },
  {
   "cell_type": "markdown",
   "metadata": {
    "slideshow": {
     "slide_type": "fragment"
    }
   },
   "source": [
    "Für die Mitglieder der Exponentialfamilie wird in guter Näherung $U'$ durch dessen Erwartungswert ersetzt (Fisher Score):\n",
    "$$U' \\leftarrow \\mathcal{E}(U') = -\\mathcal{I} = -\\mathrm{Var}(U)$$\n",
    "Damit ***iterative Lösung nach Newton-Raphson***\n",
    "$$\\alpha^{(m)} =  \\alpha^{(m-1)} + \\frac{U(\\alpha^{(m-1)})}{\\mathcal{I}(\\alpha^{(m-1)})}$$"
   ]
  },
  {
   "cell_type": "markdown",
   "metadata": {
    "slideshow": {
     "slide_type": "slide"
    }
   },
   "source": [
    "\n",
    "## Beispiel Ausfallwahrscheinlichkeit\n",
    "\n",
    "Weibull-Verteilung\n",
    "$$f(y,\\lambda,\\theta) = \\frac{\\lambda y^{\\lambda-1}}{\\theta^\\lambda}\\exp\\Bigl({-\\bigl(\\frac{y}{\\theta}\\bigr)^\\lambda}\\Bigr)$$\n",
    "mit\n",
    "- $y>0$ Zeit bis zum Ausfall\n",
    "- Parameter $\\lambda$ Form der Verteilung, hier $\\lambda=2$\n",
    "    - $\\lambda=1$ wäre Exponentialverteilung mit konstanter Ausfallrate\n",
    "    - *Rayleigh*-Verteilung; für gedächtnisbehaftete Lebensdauerverteilung\n",
    "- Parameter $\\theta$ Skalierung. $\\Rightarrow$ Diesen gilt es zu schätzen.\n",
    "\n",
    "#### Darstellung als Exponentialfamilienmitglied:\n",
    "- $a(y) = y^\\lambda\\quad$  (nicht kanonisch für $\\lambda\\neq 1\\;$; wir benutzen $\\lambda=2$)\n",
    "- $b(\\theta) = -\\theta^{-\\lambda}$\n",
    "- $c(\\theta) = \\log{\\lambda}-\\lambda\\log{\\theta}$\n",
    "- $d(y) = (\\lambda-1)\\log{y}$\n",
    "\n",
    "mit einem *Störparameter* $\\lambda$.\n",
    "\n",
    "Daten $Y_i\\;$, $\\;i=1\\dots n=49$ liegen vor:"
   ]
  },
  {
   "cell_type": "code",
   "execution_count": 4,
   "metadata": {
    "slideshow": {
     "slide_type": "skip"
    }
   },
   "outputs": [
    {
     "data": {
      "image/png": "[encoded data removed]",
      "text/plain": [
       "<matplotlib.figure.Figure at 0x7f89b7a15cf8>"
      ]
     },
     "metadata": {},
     "output_type": "display_data"
    }
   ],
   "source": [
    "'''data from http://lib.stat.cmu.edu/datasets/Andrews/'''\n",
    "y = np.asarray([1051, 5817, 9711, 12044, 1337, 5905, 9806,\n",
    "                13520, 1389, 5956, 10205, 13670, 1921, 6068, \n",
    "                10396, 14110, 1942, 6121, 10861, 14496, 2322, \n",
    "                6473, 11026, 15395, 3629, 7501, 11214, 16179, \n",
    "                4006, 7886, 11362, 17092, 4012, 8108, 11604, \n",
    "                17568, 4063, 8546, 11608, 17568, 4921, 8666, \n",
    "                11745, 5445, 8831, 11762, 5620, 9106, 11895\n",
    "])\n",
    "y.sort()\n",
    "bins = np.linspace(0, 20000, 15)\n",
    "plt.hist(y, bins=bins)\n",
    "plt.xlabel('time to failure [h]')\n",
    "plt.ylabel('frequency')\n",
    "plt.axis((0, 20000, 0, 10))\n",
    "plt.title('Time to Failure of Kevlar 49/Epoxy Strands Tested at 70% Stress Level');\n"
   ]
  },
  {
   "cell_type": "code",
   "execution_count": 5,
   "metadata": {
    "slideshow": {
     "slide_type": "skip"
    }
   },
   "outputs": [
    {
     "data": {
      "image/png": "[encoded data removed]",
      "text/plain": [
       "<matplotlib.figure.Figure at 0x7f89b5003240>"
      ]
     },
     "metadata": {},
     "output_type": "display_data"
    }
   ],
   "source": [
    "'''compare data to Weibull distribution'''\n",
    "x = np.linspace(.01, .99, y.size)            # evenly distributed percentiles\n",
    "z = stats.weibull_min(c=2, scale=1).ppf(x)   # if distribution was exact\n",
    "plt.loglog(y, z, 'bo')                       # original vs. hypothetical Weibull\n",
    "plt.xlabel('time to failure')\n",
    "plt.ylabel('percent')\n",
    "plt.xticks([1000, 2000, 5000, 10000], ['1E3', '2E3', '5E3', '10E3'] )\n",
    "percents = np.asarray([.01, .02, .05, .1, .2, .5, .7, .99]) # where in log to set label\n",
    "yticks = percents*z[-1]                                     # scale by Weibull.ppf(99)\n",
    "yticklabels = ['{:2.0f}%'.format(100*p) for p in percents]  # percent numbers as strings\n",
    "plt.yticks(yticks, yticklabels)\n",
    "plt.minorticks_off()\n",
    "kfit = 9890\n",
    "plt.plot([1000, 20000], [1000/kfit, 20000/kfit], 'r--')\n",
    "plt.title('probability-plot compared with Weibull($\\lambda$=2, k={})'.format(kfit))\n",
    "plt.axis((800, 20000, .04, 2.5));\n"
   ]
  },
  {
   "cell_type": "markdown",
   "metadata": {
    "slideshow": {
     "slide_type": "subslide"
    }
   },
   "source": [
    "### Log-Likelihood\n",
    "$$f=\\prod_{i=1}^{n} \\frac{2y_i}{\\theta^2}\\exp\\left(-\\bigl(\\frac{y_i}{\\theta}\\bigr)^2\\right)$$\n",
    "Daraus\n",
    "$$l = \\sum_{i=1}^{n} \\log y_i + \\log 2 - 2\\log\\theta - \\bigl(\\frac{y_i}{\\theta}\\bigr)^2$$"
   ]
  },
  {
   "cell_type": "markdown",
   "metadata": {
    "slideshow": {
     "slide_type": "fragment"
    }
   },
   "source": [
    "damit $U$\n",
    "$$\\frac{\\text{d}l}{\\text{d}\\theta} = U = \\sum (\\frac{-2}{\\theta} + \\frac{2y_i^2}{\\theta^3})$$"
   ]
  },
  {
   "cell_type": "markdown",
   "metadata": {
    "slideshow": {
     "slide_type": "subslide"
    }
   },
   "source": [
    "$\\mathcal{I}$ als Näherung $U' \\leftarrow \\mathcal{E}(U')$\n",
    "$$\\mathcal{I} = \\mathcal{E}(-U') = \\mathcal{E}(\\sum -U'_i) = \\sum\\left[ E(-U'_i)\\right]$$\n",
    "\n",
    "$$\\mathcal{I} = \\sum_{i=1}^{n} \\left[ \\frac{b''(\\theta)c'(\\theta)}{b'(\\theta)}-c''(\\theta) \\right]$$\n",
    "im Falle der Weibull-Verteilung geschlossen lösbar zu\n",
    "$$\\mathcal{I} = \\frac{\\lambda^2 n}{\\theta^2} = \\frac{4 n}{\\theta^2}$$\n",
    "\n",
    "Damit ***Scoring Methode***\n",
    "$$\\theta^{(m)} = \\theta^{(m-1)} + \\frac{U^{(m-1)}}{\\mathcal{I}^{(m-1)}}$$"
   ]
  },
  {
   "cell_type": "code",
   "execution_count": 6,
   "metadata": {
    "slideshow": {
     "slide_type": "subslide"
    }
   },
   "outputs": [
    {
     "name": "stdout",
     "output_type": "stream",
     "text": [
      "#iteration theta      Ux1E6   Ix1E6\n",
      " 0         8805.69  2915.75    2.53\n",
      " 1         9959.20  -132.01    1.98\n",
      " 2         9892.40    -0.45    2.00\n",
      " 3         9892.18    -0.00    2.00\n",
      " 4         9892.18     0.00    2.00\n",
      "final      9892.18     0.00    2.00\n"
     ]
    }
   ],
   "source": [
    "'''iterative \"scoring method\" solution for Weibull distribution'''\n",
    "N = y.size                  # amount of data  \n",
    "ysquaresum = (y**2).sum()   # const. needed later in calculating U\n",
    "\n",
    "# U depends on theta; it does not depend on y but on their squared sum\n",
    "def U(theta):\n",
    "    return(-2*N/theta + 2*ysquaresum/theta**3)\n",
    "\n",
    "# since we use only the expectation, information I simplifies to\n",
    "def I(theta):\n",
    "    return(4*N/theta**2)\n",
    "\n",
    "def nexttheta(theta):\n",
    "    return(theta + U(theta)/I(theta))\n",
    "\n",
    "ni = 5                       # number of iterations\n",
    "theta = y.mean()             # starting point\n",
    "\n",
    "print('#iteration theta      Ux1E6   Ix1E6')\n",
    "for i in range(ni):          # cycle through iterations\n",
    "    print('{:2d}       {:9.2f} {:8.2f}  {:6.2f}'\n",
    "          .format(i, theta, U(theta)*1E6, I(theta)*1E6))\n",
    "    theta = nexttheta(theta) # theta iteratively \n",
    "\n",
    "print('final    {:9.2f} {:8.2f}  {:6.2f}'\n",
    "      .format(theta, U(theta)*1E6, I(theta)*1E6))\n"
   ]
  },
  {
   "cell_type": "markdown",
   "metadata": {
    "slideshow": {
     "slide_type": "fragment"
    }
   },
   "source": [
    "#### [ÜA] exakte Variante mit U und U'; Näherung erlaubt?"
   ]
  },
  {
   "cell_type": "code",
   "execution_count": 7,
   "metadata": {
    "slideshow": {
     "slide_type": "skip"
    }
   },
   "outputs": [
    {
     "data": {
      "image/png": "[encoded data removed]",
      "text/plain": [
       "<matplotlib.figure.Figure at 0x7f89b4f3e748>"
      ]
     },
     "metadata": {},
     "output_type": "display_data"
    }
   ],
   "source": [
    "'''\n",
    "demonstate iteration for U (gain of Likelihood to be maximized)\n",
    "'''\n",
    "plt.figure(figsize=(8,5))\n",
    "theta1, theta2 = [8805.69, 9959.20]  # from iterative approach above\n",
    "mapprox = I(theta1)                  # approximative tangent gain\n",
    "trange = np.asarray([theta1-1000, theta1+2000])   # range for plotting\n",
    "Urange = U(theta1)+mapprox*(theta1-trange) # calculate edges of approx tangent\n",
    "plt.plot(trange, Urange, 'g--', label='tangent (approx.)') \n",
    "plt.plot(theta1, U(theta1), 'go')    # theta-before iteration \n",
    "plt.plot(2*[theta1], [-.005, .015], 'g:', label='$\\\\theta$1')\n",
    "plt.plot(theta2, 0, 'ko')            # found 2nd theta after 1st iteration\n",
    "plt.plot(2*[theta2], [-.005, .015], 'k:', label='$\\\\theta$2')\n",
    "\n",
    "trange = [8000, 11500]               # total ROI for theta\n",
    "thetas = np.linspace(trange[0], trange[1])    \n",
    "plt.plot(thetas, U(thetas), label='U($\\\\theta$)') # dependency U(theta)\n",
    "plt.plot(trange, 2*[0], 'r-')        # zero line to approach\n",
    "plt.plot(2*[theta], [-.004, .010], 'r:', label='$\\\\theta$_result') \n",
    "plt.plot(theta, U(theta), 'ro')      # the correct final result\n",
    "plt.axis((trange[0], trange[1], -.003, .006))\n",
    "# plt.axis((9800, 10000, -.001, .001)) # zoom in ... \n",
    "plt.xlabel('parameter $\\\\theta$')\n",
    "plt.ylabel('U; 1st derivative of Log-Likelihood($\\\\theta$)')\n",
    "plt.legend(loc='upper right');\n"
   ]
  },
  {
   "cell_type": "markdown",
   "metadata": {
    "slideshow": {
     "slide_type": "subslide"
    }
   },
   "source": [
    "### Ergebnis Anpassung\n",
    "Der Max-Likelihood-Schätzer der Weibull-Verteilung ist $\\theta=9892.18$"
   ]
  },
  {
   "cell_type": "code",
   "execution_count": 8,
   "metadata": {
    "slideshow": {
     "slide_type": "skip"
    }
   },
   "outputs": [
    {
     "data": {
      "image/png": "[encoded data removed]",
      "text/plain": [
       "<matplotlib.figure.Figure at 0x7f89b4e6a940>"
      ]
     },
     "metadata": {},
     "output_type": "display_data"
    }
   ],
   "source": [
    "'''resulting fit for Weibull distribution'''\n",
    "xgrid = np.linspace(0, 19000, 100+1)\n",
    "plt.hist(y, bins=bins, alpha=.5, normed=True, label='data')\n",
    "plt.plot(xgrid, stats.weibull_min(c=2, scale=theta).pdf(xgrid), 'r-', \n",
    "         label='Weibull($\\lambda$=2, k={:.1f})'.format(theta))\n",
    "plt.xlabel('y')\n",
    "plt.ylabel('probability density')\n",
    "plt.title('Time to Failure: fit result')\n",
    "plt.legend(loc='lower center');\n"
   ]
  },
  {
   "cell_type": "markdown",
   "metadata": {
    "slideshow": {
     "slide_type": "subslide"
    }
   },
   "source": [
    "## Ergebnis *Score Methode*\n",
    "Für Verteilungen aus der Exponentialfamilie\n",
    "$$f_Y(y|\\theta) = \\exp{\\bigl({a(y)b(\\theta)+c(\\theta)+d(y)}\\bigr)}$$\n",
    "\n",
    "führt die iterative Anpassung des Verteilungsparameters $\\theta$ durch die ***scoring Methode***\n",
    "$$\\theta^{(m)} = \\theta^{(m-1)} + \\frac{U^{(m-1)}}{\\mathcal{I}^{(m-1)}}$$\n",
    "mit der *Score-Statistik* $U$ (erste Ableitung des Log-Likelihood)\n",
    "$$U(\\theta, y) := \\frac{\\mathrm{d} l}{\\mathrm{d} \\theta} = a(y)\\cdot b'(\\theta)+c'(\\theta)$$\n",
    "und der *Information* $\\mathcal{I}$ (genäherte zweite Ableitung)\n",
    "$$\\mathcal{I} := \\mathrm{Var}(U) = \\mathcal{E}(U') = \\frac{b''(\\theta)c'(\\theta)}{b'(\\theta)}-c''(\\theta)$$\n",
    "in wenigen Schritten zum Ergebnis.\n",
    "\n",
    "Die Methode läßt sich auf mehrdimensionale Parametervektoren $\\boldsymbol\\theta$ erweitern.\n"
   ]
  },
  {
   "cell_type": "markdown",
   "metadata": {
    "slideshow": {
     "slide_type": "slide"
    }
   },
   "source": [
    "# Zusammengesetzte Wahrscheinlichkeitsverteilungen \n",
    "# b) Parametervektor $\\boldsymbol\\beta$\n",
    "\n",
    "Ein Satz *unabhängiger, gleich verteilter* Zufallsvariabler $\\quad\\mathbf{Y} = [Y_1\\dots Y_N]^T\\quad $\n",
    "\n",
    "mit Wahrscheinlichkeitsverteilungen $f(y_i, \\theta_j),\\; i\\in[1\\dots n]$ aus der selben, *kanonischen* Exponentialfamilie\n",
    "\n",
    "hat eine gemeinsame Wahrscheinlichkeitsverteilung\n",
    "$$\\begin{align}\n",
    "f(\\mathbf{Y},\\boldsymbol\\theta) &= \\prod_{i=0}^{n} \\exp\\bigl( y_ib(\\theta_i)+c(\\theta_i)+d(y_i) \\bigr) \\\\\n",
    " &= \\exp\\bigl( \\sum_{i=0}^{n} y_ib(\\theta_i) + \\sum_{i=0}^{n} c(\\theta_i) + \\sum_{i=0}^{n}d(y_i) \\bigr)\n",
    "\\end{align}$$\n",
    "mit\n",
    "$$\\mathcal{E}(Y_i) = \\mu_i$$\n",
    "wobei\n",
    "$$g(\\mu_i) = \\mathbf{x}_i^T\\boldsymbol\\beta$$\n",
    "also auch\n",
    "$$\\theta_i = fkt(\\mathbf{x}_i^T\\boldsymbol\\beta)$$\n",
    "mit unabhängigen $\\beta_j;\\; j\\in[1\\dots k];\\; k\\ll n$ "
   ]
  },
  {
   "cell_type": "markdown",
   "metadata": {
    "slideshow": {
     "slide_type": "subslide"
    }
   },
   "source": [
    "## Mehrdimensional\n",
    "***Scoring Methode: iterative Lösung***\n",
    "$$\\boldsymbol\\beta^{(m)} = \\boldsymbol\\beta^{(m-1)} + \\bigl(\\mathcal{I}(\\boldsymbol\\beta^{(m-1)})\\bigr)^{-1} \\mathbf{U}(\\boldsymbol\\beta^{(m-1)})$$\n",
    "\n",
    "- Parameter $\\alpha\\;\\Rightarrow\\;$ Parametervektor $\\;\\boldsymbol\\beta$\n",
    "- Score-Funktion $U\\;\\Rightarrow\\;$ Score-Vektor $\\mathbf{U}$\n",
    "    - Gradientenvektor der Log-Likelihood $\\mathbf{U} := \\nabla l $ \n",
    "    - mit $U_j = \\frac{\\partial l}{\\partial \\beta_j}  $\n",
    "- Information $\\mathcal{I}\\;\\Rightarrow\\;$ Informations-Matrix $\\mathcal{I}$"
   ]
  },
  {
   "cell_type": "markdown",
   "metadata": {
    "slideshow": {
     "slide_type": "subslide"
    }
   },
   "source": [
    "### Wiederholung\n",
    "$$\\mathcal{E}\\left(a(Y_i)\\right) \\stackrel{\\text{(kanonisch)}}{=} \\mathcal{E}(Y_i) = \\mu_i = -\\frac{c'(\\theta_i)}{b'(\\theta_i)}$$\n",
    "\n",
    "$$\\text{Var}\\left(a(Y_i)\\right) = \\frac{b''(\\theta_i)c'(\\theta_i)-c''(\\theta_i)b'(\\theta_i)}{[b'(\\theta_i)]^3}$$\n",
    "<br>\n",
    "$$g(\\mu_i) = \\eta_i = \\mathbf{x}_i^T\\boldsymbol\\beta$$\n",
    "\n",
    "#### Modell-Parameter\n",
    "- Datentupel $y_i, X_{ij}$, Erwartungswerte $\\mu_i$ und Verteilungs-Parameter $\\theta_i$ mit $i\\in[1\\dots n]$\n",
    "- Verdichtete Information in Parametervektor $\\boldsymbol\\beta$\n",
    "- Komponenten $\\beta_j$ mit $j\\in[1\\dots p]$ mit i.A. $p\\ll n$"
   ]
  },
  {
   "cell_type": "markdown",
   "metadata": {
    "slideshow": {
     "slide_type": "subslide"
    }
   },
   "source": [
    "### Ableitung für Max-Log-Likelihood-Schätzer\n",
    "$$\\frac{\\partial l}{\\partial \\beta_j} = U_j = \\sum_{i=1}^n \\bigl( \\frac{\\partial l_i}{\\partial \\beta_j} \\bigr) = \\sum  \\bigl( \\frac{\\partial l_i}{\\partial \\theta_i}\\;\\frac{\\partial \\theta_i}{\\partial \\mu_i}\\;\\frac{\\partial \\mu_i}{\\partial \\beta_j} \\bigr)  $$\n",
    "\n",
    "1. berechnen unter Verwendung des Erwartungswerts\n",
    "$$\\frac{\\partial l_i}{\\partial \\theta_i} = y_i b'(\\theta_i) + c'(\\theta_i) = b'(\\theta_i)(y_i-\\mu_i) $$\n",
    "\n",
    "2. Umkehrfunktion\n",
    "$$\\frac{\\partial \\theta_i}{\\partial \\mu_i} = \\frac{1}{\\frac{\\partial \\mu_i}{\\partial \\theta_i}}$$\n",
    "durch Ableitung des Erwartungswerts und Verwendung der Varianz\n",
    "$$\\begin{align}\n",
    "\\frac{\\partial \\mu_i}{\\partial \\theta_i} &=\\frac{c''}{b'}+\\frac{c'b''}{(b')^2} \\\\\n",
    "  &= b'(\\theta_i)\\text{Var}(Y_i)\n",
    "\\end{align}$$\n",
    "\n",
    "3. Kettenregel \n",
    "$$\\frac{\\partial \\mu_i}{\\partial \\beta_j} = \\frac{\\partial \\mu_i}{\\partial \\eta_i}\\;\\frac{\\partial \\eta_i}{\\partial \\beta_j} = \\frac{\\partial \\mu_i}{\\partial \\eta_j}\\;x_{ij}$$"
   ]
  },
  {
   "cell_type": "markdown",
   "metadata": {
    "slideshow": {
     "slide_type": "subslide"
    }
   },
   "source": [
    "#### 1. Teilergebnis\n",
    "Damit ergibt sich die vektorielle ***score***-Funktion\n",
    "$$U_j = \\sum_{i=1}^{n} \\bigl( \\frac{y_i-\\mu_i}{\\text{Var}(Y_i)}\\;x_{ij}\\;\\frac{\\partial \\mu_i}{\\partial \\eta_i} \\bigr)$$\n",
    "ausgedrückt durch zugängliche Größen"
   ]
  },
  {
   "cell_type": "markdown",
   "metadata": {
    "slideshow": {
     "slide_type": "subslide"
    }
   },
   "source": [
    "####  Information\n",
    "$$\\mathcal{I} := \\text{Var}(U) = -\\mathcal{E}(U')$$\n",
    "\n",
    "Im mehrdimensionalen Fall ist die die Information $\\mathcal{I}$ die Varianz-Kovarianz-Matrix der Score-Funktion U \n",
    "$$\\mathcal{I}_{jk} = \\mathcal{E}(U_j\\;U_k)$$\n"
   ]
  },
  {
   "cell_type": "markdown",
   "metadata": {
    "slideshow": {
     "slide_type": "subslide"
    }
   },
   "source": [
    "mit\n",
    "$$\\begin{align}\n",
    "\\mathcal{I}_{jk} &= \\mathcal{E}\\biggl( \\sum_{i=1}^{n} \\bigl( \\frac{y_i-\\mu_i}{\\text{Var}(Y_i)}\\;x_{ij}\\;\\frac{\\partial \\mu_i}{\\partial \\eta_i} \\bigr)\\sum_{i=1}^{n} \\bigl( \\frac{y_i-\\mu_i}{\\text{Var}(Y_i)}\\;x_{ik}\\;\\frac{\\partial \\mu_i}{\\partial \\eta_i} \\bigr)\\biggr) \\\\\n",
    " &= \\sum_{i=1}^{n}\\frac{\\mathcal{E}\\bigl((Y_i-\\mu_i)^2\\bigr)x_{ij}x_{ik}}{\\bigl(\\text{Var}(Y_i)\\bigr)^2}\\bigl(\\frac{\\partial\\mu_i}{\\partial \\eta_i}\\bigr)^2\n",
    "\\end{align}$$\n",
    "unter Ausnutzung der Unabhängigkeit $\\mathcal{E}\\bigl((Y_i-\\mu_i)(Y_l-\\mu_l)\\bigr)=0$ für $i \\neq l$. Mit $\\mathcal{E}\\bigl((Y_i-\\mu_i)^2\\bigr)=\\text{Var}(Y_i)$\n",
    "\n",
    "#### 2. Teilergebnis\n",
    "Damit ergibt sich die ***Informationsmatrix***\n",
    "$$\\mathcal{I}_{jk} = \\sum_{i=1}^{n}\\frac{x_{ij}x_{ik}}{\\text{Var}(Y_i)}\\bigl(\\frac{\\partial\\mu_i}{\\partial \\eta_i}\\bigr)^2$$"
   ]
  },
  {
   "cell_type": "markdown",
   "metadata": {
    "slideshow": {
     "slide_type": "subslide"
    }
   },
   "source": [
    "#### Zwischenergebnis\n",
    "Für die ***Scoring Methode*** ergibt sich\n",
    "$$\\mathbf{b}^{(m)} = \\mathbf{b}^{(m-1)} + \\bigl(\\mathcal{I}^{(m-1)}\\bigr)^{-1} \\mathbf{U}^{(m-1)}$$\n",
    "\n",
    "mit dem Schätzer für den Parametervektor $$\\mathbf{b} = [\\beta_1,\\dots,\\beta_k]^T$$\n",
    "der Inversen Informationsmatrix $$\\mathcal{I}^{-1}$$\n",
    "und dem *score*-Vektor $$\\mathbf{U}$$"
   ]
  },
  {
   "cell_type": "markdown",
   "metadata": {
    "slideshow": {
     "slide_type": "fragment"
    }
   },
   "source": [
    "#### Erweiterung\n",
    "$$\\mathcal{I}^{(m-1)}\\mathbf{b}^{(m)} = \\mathcal{I}^{(m-1)}\\mathbf{b}^{(m-1)} + \\mathbf{U}^{(m-1)}$$"
   ]
  },
  {
   "cell_type": "markdown",
   "metadata": {
    "slideshow": {
     "slide_type": "subslide"
    }
   },
   "source": [
    "#### Darstellung linke Seite\n",
    "$$\\mathcal{I}_{jk} = \\sum_{i=1}^{n}\\frac{x_{ij}x_{ik}}{\\text{Var}(Y_i)}\\bigl(\\frac{\\partial\\mu_i}{\\partial \\eta_i}\\bigr)^2$$\n",
    "\n",
    "kann dargestellt werden durch\n",
    "$$\\mathcal{I} = \\mathbf{X}^T\\mathbf{WX}$$\n",
    "mit Diagonalmatrix\n",
    "$$w_{ii}=\\frac{1}{\\mathrm{Var}(Y_i)}\\left( \\frac{\\partial \\mu_i}{\\partial \\eta_i} \\right)^2$$"
   ]
  },
  {
   "cell_type": "markdown",
   "metadata": {
    "slideshow": {
     "slide_type": "subslide"
    }
   },
   "source": [
    "#### Einsetzen und Zusammenfassen rechte Seite\n",
    "$$\\mathcal{I}^{(m-1)}\\mathbf{b}^{(m-1)} + \\mathbf{U}^{(m-1)}$$\n",
    "\n",
    "kann dargestellt werden als\n",
    "$$\\mathbf{X}^T\\mathbf{Wz}$$\n",
    "\n",
    "mit\n",
    "$$z_i = \\sum_{k=1}^p x_{ik} b_{k}^{(m-1)} + (y_i-\\mu_i)\\frac{\\partial \\eta_i}{\\partial \\mu_i}$$"
   ]
  },
  {
   "cell_type": "markdown",
   "metadata": {
    "slideshow": {
     "slide_type": "subslide"
    }
   },
   "source": [
    "# Ergebnis *IRLS*\n",
    "$$\\mathbf{X}^T\\mathbf{W}\\mathbf{X}\\mathbf{b}^{(m)} = \\mathbf{X}^T\\mathbf{W}\\mathbf{z}$$\n",
    "- Die selbe Form, wie die Normalengleichungen für ein lineares Modell\n",
    "    - Kleinste Quadrate Methode\n",
    "$$\\mathbf{X}^T\\mathbf{V}^{-1}\\mathbf{X}\\boldsymbol\\beta = \\mathbf{X}^T\\mathbf{V}^{-1}\\mathbf{y} $$\n",
    "- Designmatrix $\\mathbf{X}$\n",
    "- Gewichtungsmatrix $\\mathbf{W}^{(m-1)}$ \n",
    "- Zielvektor $\\mathbf{z}^{(m-1)}$\n",
    "- Lösung muß iterativ gewonnen werden\n",
    "    - Sowohl $\\mathbf{z}$\n",
    "    - als auch $\\mathbf{W}$ \n",
    "    - hängen über $\\boldsymbol\\mu$ und $Var(Y_i)$ von $\\mathbf{b}^{(m-1)}$ ab\n",
    "- ***iterative reweighted least squares*** *IRLS*\n",
    "    - wird in `GLM` der *Python* `statsmodels` verwendet"
   ]
  },
  {
   "cell_type": "markdown",
   "metadata": {
    "slideshow": {
     "slide_type": "subslide"
    }
   },
   "source": [
    "### Algorythmus\n",
    "1. Finde einen Startwert $\\quad\\mathbf{b}^{(0)}$\n",
    "2. Berechne damit $\\qquad\\quad\\mathbf{z}$ und $\\mathbf{W}$\n",
    "3. Löse $\\qquad\\qquad\\qquad\\quad\\mathbf{X}^T\\mathbf{W}\\mathbf{X}\\mathbf{b}^{(m)} = \\mathbf{X}^T\\mathbf{W}\\mathbf{z}$ \n",
    "$$\\mathbf{b}^{(m)} = \\Bigl(\\mathbf{X}^T\\mathbf{W}\\mathbf{X}\\Bigr)^{-1}\\mathbf{X}^T\\mathbf{W}\\mathbf{z} $$\n",
    "    - und wiederhole 2. und 3. bis\n",
    "4. Abbruch bei Konvergenz"
   ]
  },
  {
   "cell_type": "markdown",
   "metadata": {
    "slideshow": {
     "slide_type": "slide"
    }
   },
   "source": [
    "## Beispiel: Poisson-Verteilung\n",
    "\n",
    "$$\\mathcal{E}(Y) = \\text{Var}(Y)$$\n",
    "Lineare Abhängigkeit von $x$ mit Link-Funktion $g$ der Identität:\n",
    "$$\\mathcal{E}(Y_i) = \\mu_i = \\eta_i = \\beta_0 + \\beta_1 x_i = \\mathbf{x}_i^T\\boldsymbol\\beta$$\n",
    "mit $\\boldsymbol\\beta = [\\beta_0, \\beta_1]^T$ und $\\mathbf{x}_i^T = [1, x_i]$\n"
   ]
  },
  {
   "cell_type": "code",
   "execution_count": 9,
   "metadata": {
    "slideshow": {
     "slide_type": "skip"
    }
   },
   "outputs": [
    {
     "data": {
      "image/png": "[encoded data removed]",
      "text/plain": [
       "<matplotlib.figure.Figure at 0x7f89b4d94c88>"
      ]
     },
     "metadata": {},
     "output_type": "display_data"
    }
   ],
   "source": [
    "'''Linear Poissonian example'''\n",
    "y = np.asarray([ 2,  3, 6, 7, 8, 9, 10, 12, 15])  # responses\n",
    "x = np.asarray([-1, -1, 0, 0, 0, 0,  1,  1,  1])  # covariates\n",
    "plt.plot(x, y, 'bo', label='data')\n",
    "plt.axis((-1.8, 1.5, -1, 18))\n",
    "plt.xlabel('x')\n",
    "plt.ylabel('y')\n",
    "plt.title('Poissonian Linear Model')\n",
    "plt.legend(loc='upper left');\n"
   ]
  },
  {
   "cell_type": "markdown",
   "metadata": {
    "slideshow": {
     "slide_type": "subslide"
    }
   },
   "source": [
    "Mit $\\frac{\\partial\\mu}{\\partial\\eta}=1$ (Link: Identität) ergibt sich\n",
    "$$w_{ii} = \\frac{1}{\\text{Var}(Y_i)} = \\frac{1}{\\beta_0+\\beta_1 x_i}$$\n",
    "Daraus\n",
    "$$\\mathcal{I} = \\mathbf{X}^T\\mathbf{W}\\mathbf{X} = \\begin{pmatrix} \n",
    "\\sum\\frac{1}{b_o+b_1 x_i} & \\sum\\frac{x_i}{b_o+b_1 x_i} \\\\\n",
    "\\sum\\frac{x_i}{b_o+b_1 x_i} & \\sum\\frac{x_i^2}{b_o+b_1 x_i}\n",
    "\\end{pmatrix}$$\n",
    "und mit $z$\n",
    "$$z_i = b_0 + b_1 x_i + (y_i - b_0 - b_1 x_i) = y_i$$\n",
    "dann\n",
    "$$\\mathbf{X}^T\\mathbf{W}\\mathbf{z} = \\begin{pmatrix} \n",
    "\\sum\\frac{y_i}{b_o+b_1 x_i} \\\\\n",
    "\\sum\\frac{x_i y_i}{b_o+b_1 x_i}\n",
    "\\end{pmatrix}$$\n",
    "\n",
    "Löse damit\n",
    "$$\\qquad\\qquad\\qquad\\mathbf{X}^T\\mathbf{W}^{(m-1)}\\mathbf{X}\\mathbf{b}^{(m)} = \\mathbf{X}^T\\mathbf{W}^{(m-1)}\\mathbf{z}\\qquad$$"
   ]
  },
  {
   "cell_type": "code",
   "execution_count": 10,
   "metadata": {
    "slideshow": {
     "slide_type": "subslide"
    }
   },
   "outputs": [
    {
     "name": "stdout",
     "output_type": "stream",
     "text": [
      "[[ 1 -1]\n",
      " [ 1 -1]\n",
      " [ 1  0]\n",
      " [ 1  0]\n",
      " [ 1  0]\n",
      " [ 1  0]\n",
      " [ 1  1]\n",
      " [ 1  1]\n",
      " [ 1  1]] ...................... design matrix X\n",
      "[ 2  3  6  7  8  9 10 12 15] ... response y\n"
     ]
    }
   ],
   "source": [
    "'''(fix) design matrix and response variables'''\n",
    "X = np.vstack((np.ones_like(x), x)).T\n",
    "z = y\n",
    "print(X, '...................... design matrix X')\n",
    "print(z, '... response y')\n"
   ]
  },
  {
   "cell_type": "code",
   "execution_count": 11,
   "metadata": {
    "slideshow": {
     "slide_type": "skip"
    }
   },
   "outputs": [
    {
     "name": "stdout",
     "output_type": "stream",
     "text": [
      "[[ 1  1  1  1  1  1  1  1  1]\n",
      " [-1 -1  0  0  0  0  1  1  1]] ... the (transposed) Design matrix X^T\n",
      "\n",
      "[[ 0.5    0.     0.     0.     0.     0.     0.     0.     0.   ]\n",
      " [ 0.     0.5    0.     0.     0.     0.     0.     0.     0.   ]\n",
      " [ 0.     0.     0.143  0.     0.     0.     0.     0.     0.   ]\n",
      " [ 0.     0.     0.     0.143  0.     0.     0.     0.     0.   ]\n",
      " [ 0.     0.     0.     0.     0.143  0.     0.     0.     0.   ]\n",
      " [ 0.     0.     0.     0.     0.     0.143  0.     0.     0.   ]\n",
      " [ 0.     0.     0.     0.     0.     0.     0.083  0.     0.   ]\n",
      " [ 0.     0.     0.     0.     0.     0.     0.     0.083  0.   ]\n",
      " [ 0.     0.     0.     0.     0.     0.     0.     0.     0.083]] ... the weight matrix W\n",
      "\n",
      "[[ 0.5    0.5    0.143  0.143  0.143  0.143  0.083  0.083  0.083]\n",
      " [-0.5   -0.5    0.     0.     0.     0.     0.083  0.083  0.083]] ... X^T*W\n",
      "\n",
      "[[ 1.821 -0.75 ]\n",
      " [-0.75   1.25 ]] ... X^T*W*X\n",
      "\n",
      "[[ 0.729  0.438]\n",
      " [ 0.438  1.062]] ... and inverted\n"
     ]
    }
   ],
   "source": [
    "'''variating vector b'''\n",
    "b = np.asarray([7, 5])                # as a starter, guessed from graph\n",
    "N = x.size\n",
    "W = np.zeros((N, N))                  # provide variance-covariance matrix, yet empty\n",
    "for i in range(N):                    # but fill diagonal\n",
    "    W[i, i] = 1/(b[0] + b[1]*x[i])    # with first, yet guessed, values\n",
    "print(np.round(X.T, decimals=3), '... the (transposed) Design matrix X^T\\n')\n",
    "print(np.round(W, decimals=3), '... the weight matrix W\\n')\n",
    "XtW = X.T.dot(W)\n",
    "print(np.round(XtW, decimals=3), '... X^T*W\\n')\n",
    "XtWX = X.T.dot(W).dot(X)\n",
    "print(np.round(XtWX, decimals=3), '... X^T*W*X\\n')\n",
    "print(np.round(np.linalg.inv(XtWX), decimals=3), '... and inverted')\n"
   ]
  },
  {
   "cell_type": "code",
   "execution_count": 12,
   "metadata": {
    "slideshow": {
     "slide_type": "subslide"
    }
   },
   "outputs": [
    {
     "name": "stdout",
     "output_type": "stream",
     "text": [
      "[[ 0.729  0.438]\n",
      " [ 0.438  1.062]] ... and inverted\n"
     ]
    }
   ],
   "source": [
    "'''1st iteration of IRLS for vector b'''\n",
    "b = np.asarray([7, 5])                # as a starter, guessed from graph\n",
    "W = np.zeros((N, N))                  # provide variance-covariance matrix, yet empty\n",
    "for i in range(N):                    # but fill diagonal\n",
    "    W[i, i] = 1/(b[0] + b[1]*x[i])    # with first, yet guessed, values\n",
    "XtW = X.T.dot(W)\n",
    "XtWX = X.T.dot(W).dot(X)\n",
    "print(np.round(np.linalg.inv(XtWX), decimals=3), '... and inverted')\n"
   ]
  },
  {
   "cell_type": "code",
   "execution_count": 13,
   "metadata": {
    "slideshow": {
     "slide_type": "subslide"
    }
   },
   "outputs": [
    {
     "name": "stdout",
     "output_type": "stream",
     "text": [
      "itaration 0 leads to beta=[7.000000, 5.000000]\n",
      "itaration 1 leads to beta=[7.451389, 4.937500]\n",
      "itaration 2 leads to beta=[7.451632, 4.935314]\n",
      "itaration 3 leads to beta=[7.451633, 4.935300]\n",
      "final result     beta_hat=[7.451633, 4.935300]\n"
     ]
    }
   ],
   "source": [
    "'''calculates next iterations b^(m+1) from b^(m) given\n",
    "   using matrices I and U from X and W, inverting X^T.W.X'''\n",
    "\n",
    "'''solve LGS immediately'''\n",
    "def iterate(b):\n",
    "    W = np.zeros((N, N))       # yet empty weights matrix\n",
    "    for i in range(N):\n",
    "        # fill diagonals according to b and x\n",
    "        W[i, i] = 1/(b[0] + b[1]*x[i])\n",
    "    XtWX = X.T.dot(W).dot(X)   # left hand side, without b\n",
    "    XtWz = X.T.dot(W).dot(z)   # right hand side\n",
    "    # solve mathematically (as long as independent)\n",
    "    return np.linalg.inv(XtWX).dot(XtWz)\n",
    "\n",
    "'''IRLS by hand'''\n",
    "b = np.asarray([7., 5.])   # starting value: gain=5 intercept@zero=7\n",
    "niter=4                    # we know number of steps beforehand\n",
    "for i in range(niter):     # cycle through iteration steps\n",
    "    print('itaration {:1d} leads to beta=[{:8.6f}, {:8.6f}]'\n",
    "          .format(i, b[0], b[1])) \n",
    "    b = iterate(b)         # calculate next value\n",
    "\n",
    "print('final result     beta_hat=[{:8.6f}, {:8.6f}]'\n",
    "      .format(b[0], b[1]))     \n"
   ]
  },
  {
   "cell_type": "code",
   "execution_count": 14,
   "metadata": {
    "slideshow": {
     "slide_type": "skip"
    }
   },
   "outputs": [
    {
     "data": {
      "image/png": "[encoded data removed]",
      "text/plain": [
       "<matplotlib.figure.Figure at 0x7f89b4c9b748>"
      ]
     },
     "metadata": {},
     "output_type": "display_data"
    }
   ],
   "source": [
    "'''Linear (Poissonian) Model - by hand'''\n",
    "def g(eta):\n",
    "    return eta               # the boring identity\n",
    "\n",
    "def predict(x, beta, link):\n",
    "    X = np.vstack((np.ones_like(x), x)).T\n",
    "    return link(X.dot(beta))\n",
    "\n",
    "plt.plot(x, y, 'bo', label='data') # pure data \n",
    "xnull = -b[0]/b[1]                 # smallest value with mu>=0\n",
    "xgrid = np.linspace(xnull, 1.5)\n",
    "# predict with b-hat from iterative result above\n",
    "yhat = predict(xgrid, b, g)\n",
    "plt.plot(xgrid, yhat, 'r--', label='fit')\n",
    "plt.plot(xgrid, yhat+np.sqrt(yhat), 'r:', label='fit+/-std')\n",
    "plt.plot(xgrid, yhat-np.sqrt(yhat), 'r:')\n",
    "plt.plot([-2, 2], 2*[0], 'k-')\n",
    "plt.axis((-1.8, 1.5, -1, 18))\n",
    "plt.xlabel('x')\n",
    "plt.ylabel('y')\n",
    "plt.title('Poissonian Generalized Linear Model')\n",
    "plt.legend(loc='upper left');\n"
   ]
  },
  {
   "cell_type": "markdown",
   "metadata": {
    "slideshow": {
     "slide_type": "slide"
    }
   },
   "source": [
    "### Ergebnis IRLS\n",
    "$$\\mathbf{X}^T\\mathbf{W}^{(m-1)}\\mathbf{X}\\mathbf{b}^{(m)} = \\mathbf{X}^T\\mathbf{W}^{(m-1)}\\mathbf{z}^{(m-1)}$$\n",
    "mit mehrdimensionaler *Iterative Reweighted Least Squares*-Methode lösbar\n",
    "\n",
    "$$\\mathbf{b}^{(m)} = \\bigl(\\mathbf{X}^T\\mathbf{W}^{(m-1)}\\mathbf{X}\\bigr)^{-1}\\mathbf{X}^T\\mathbf{W}^{(m-1)}\\mathbf{z}^{(m-1)}$$\n",
    "\n",
    "konvergiert in wenigen Schritten zum Schätzer $\\mathbf{b}=\\widehat{\\boldsymbol\\beta}$"
   ]
  },
  {
   "cell_type": "code",
   "execution_count": 15,
   "metadata": {
    "collapsed": true,
    "slideshow": {
     "slide_type": "subslide"
    }
   },
   "outputs": [],
   "source": [
    "import statsmodels.api as sm\n",
    "# help(sm.GLM)\n"
   ]
  },
  {
   "cell_type": "code",
   "execution_count": 16,
   "metadata": {
    "slideshow": {
     "slide_type": "fragment"
    }
   },
   "outputs": [
    {
     "name": "stdout",
     "output_type": "stream",
     "text": [
      "                 Generalized Linear Model Regression Results                  \n",
      "==============================================================================\n",
      "Dep. Variable:                      y   No. Observations:                    9\n",
      "Model:                            GLM   Df Residuals:                        7\n",
      "Model Family:                Gaussian   Df Model:                            1\n",
      "Link Function:               identity   Scale:                    2.5974025974\n",
      "Method:                          IRLS   Log-Likelihood:                -15.935\n",
      "Date:                Mon, 12 Feb 2018   Deviance:                       18.182\n",
      "Time:                        13:22:02   Pearson chi2:                     18.2\n",
      "No. Iterations:                     2                                         \n",
      "==============================================================================\n",
      "                 coef    std err          z      P>|z|      [0.025      0.975]\n",
      "------------------------------------------------------------------------------\n",
      "const          7.4545      0.543     13.721      0.000       6.390       8.519\n",
      "x1             4.9091      0.729      6.735      0.000       3.480       6.338\n",
      "==============================================================================\n"
     ]
    }
   ],
   "source": [
    "'''\n",
    "Linear (Poissonian) Model - glm - but?\n",
    "'''\n",
    "# supplies the 1's to the design matrix\n",
    "X = sm.add_constant(x)\n",
    "# call fit: start-values, iterate ...\n",
    "pfit = sm.GLM(endog=y, exog=X).fit()\n",
    "# print result: parameter vector beta, statistics, etc\n",
    "print(pfit.summary())\n"
   ]
  },
  {
   "cell_type": "code",
   "execution_count": 17,
   "metadata": {
    "slideshow": {
     "slide_type": "subslide"
    }
   },
   "outputs": [
    {
     "name": "stdout",
     "output_type": "stream",
     "text": [
      "                 Generalized Linear Model Regression Results                  \n",
      "==============================================================================\n",
      "Dep. Variable:                      y   No. Observations:                    9\n",
      "Model:                            GLM   Df Residuals:                        7\n",
      "Model Family:                 Poisson   Df Model:                            1\n",
      "Link Function:               identity   Scale:                             1.0\n",
      "Method:                          IRLS   Log-Likelihood:                -18.004\n",
      "Date:                Mon, 12 Feb 2018   Deviance:                       1.8947\n",
      "Time:                        13:22:07   Pearson chi2:                     1.89\n",
      "No. Iterations:                     4                                         \n",
      "==============================================================================\n",
      "                 coef    std err          z      P>|z|      [0.025      0.975]\n",
      "------------------------------------------------------------------------------\n",
      "const          7.4516      0.884      8.428      0.000       5.719       9.184\n",
      "x1             4.9353      1.089      4.531      0.000       2.801       7.070\n",
      "==============================================================================\n"
     ]
    },
    {
     "name": "stderr",
     "output_type": "stream",
     "text": [
      "/home/wannek/anaconda3/envs/statistik/lib/python3.6/site-packages/statsmodels/genmod/generalized_linear_model.py:244: DomainWarning: The identity link function does not respect the domain of the Poisson family.\n",
      "  DomainWarning)\n"
     ]
    }
   ],
   "source": [
    "'''\n",
    "Linear (Poissonian) Model - glm: Poissonian with identity link function\n",
    "'''\n",
    "pfit = sm.GLM(endog=y, exog=X, \n",
    "              family=sm.families.Poisson(\n",
    "                  link=sm.families.links.identity)).fit()\n",
    "print(pfit.summary())\n"
   ]
  },
  {
   "cell_type": "markdown",
   "metadata": {
    "slideshow": {
     "slide_type": "subslide"
    }
   },
   "source": [
    "#### Warnung\n",
    "Die Warnung besagt, daß das Ergebnis außerhalb des Bereichs liegen *kann*, hier zB. negative Werte nicht ausgeschlossen werden. <br>\n",
    "https://github.com/kshedden/statsmodels/commit/d7c75a4c0e5f9a16c95455e145c9526b7527629c"
   ]
  },
  {
   "cell_type": "code",
   "execution_count": 18,
   "metadata": {
    "slideshow": {
     "slide_type": "fragment"
    }
   },
   "outputs": [
    {
     "data": {
      "text/plain": [
       "[statsmodels.genmod.families.links.log,\n",
       " statsmodels.genmod.families.links.identity,\n",
       " statsmodels.genmod.families.links.sqrt]"
      ]
     },
     "execution_count": 18,
     "metadata": {},
     "output_type": "execute_result"
    }
   ],
   "source": [
    "sm.families.family.Poisson.links\n"
   ]
  },
  {
   "cell_type": "code",
   "execution_count": 19,
   "metadata": {
    "slideshow": {
     "slide_type": "skip"
    }
   },
   "outputs": [
    {
     "data": {
      "image/png": "[encoded data removed]",
      "text/plain": [
       "<matplotlib.figure.Figure at 0x7f89b4c16048>"
      ]
     },
     "metadata": {},
     "output_type": "display_data"
    }
   ],
   "source": [
    "'''show result of GLM-fit'''\n",
    "plt.plot(x, y, 'bo', label='data')\n",
    "plt.plot(x, pfit.fittedvalues, 'ro', label='fit')\n",
    "plt.plot([-1.5, 2.5], pfit.predict([[1, -1.5], [1, 2.5]]), 'r--')\n",
    "plt.axis((-1.8, 2.0, 0, 18))\n",
    "plt.xlabel('x')\n",
    "plt.ylabel('y')\n",
    "plt.title('Poissonian Generalized Linear Model')\n",
    "plt.legend(loc='upper left');\n"
   ]
  },
  {
   "cell_type": "markdown",
   "metadata": {
    "slideshow": {
     "slide_type": "slide"
    }
   },
   "source": [
    "# Ergebnis\n",
    "\n",
    "## `statsmodels` GLM\n",
    "\n",
    "    statsmodels.GLM( endog=y, exog=X, \n",
    "                     family=sm.families.Poisson(link=sm.families.links.identity)\n",
    "                   ).fit()\n",
    "    statsmodels.formula.glm( formula='...', \n",
    "                             data=..., \n",
    "                             family=sm.families.Binomial(link=sm.families.links.logit) \n",
    "                           ).fit()\n",
    "\n",
    "#### kann *Generalized Linear Models* mit verschiedenen Verteilungsfamilien aus der Exponentialfamilie\n",
    "\n",
    "                 + ident log logit probit cloglog pow opow nbinom loglog logc\n",
    "    Gaussian     |   x    x                        x\n",
    "    binomial     |   x    x    x     x       x     x    x           x      x\n",
    "    Poission     |   x    x                        x\n",
    "    inv Gaussian |   x    x                        x\n",
    "    neg binomial |   x    x                        x          x\n",
    "    gamma        |   x    x                        x\n",
    "\n",
    "Quelle: http://statsmodels.sourceforge.net/devel/generated/statsmodels.genmod.generalized_linear_model.GLM.html"
   ]
  },
  {
   "cell_type": "markdown",
   "metadata": {
    "slideshow": {
     "slide_type": "subslide"
    }
   },
   "source": [
    "#### benutzt *IRLS*\n",
    "Um den Parametervektor $\\boldsymbol\\beta$ des Modells zu bestimmen\n",
    "\n",
    "#### liefert Ergebnis\n",
    "- `.predict`\n",
    "- `.fittedvalues`\n",
    "- `.params`\n",
    "- ...  ... ... ` # TAB-completion`"
   ]
  },
  {
   "cell_type": "markdown",
   "metadata": {
    "collapsed": true,
    "slideshow": {
     "slide_type": "slide"
    }
   },
   "source": [
    "## (erstes) Ergebnis GLM\n",
    "####  Modell\n",
    "$$\\begin{align} \\mathcal{E}(\\mathbf{Y}) &= \\boldsymbol\\mu \\\\\n",
    "                 g(\\boldsymbol\\mu) &= \\boldsymbol\\eta = \\mathbf{X}\\boldsymbol\\beta \\end{align}$$\n",
    "- abhängige ($Y$) und unabhängige ($X$) Variablen\n",
    "- Verteilung $f(Y)$ aus der Exponentialfamilie\n",
    "    - Gauß\n",
    "    - Poisson\n",
    "    - Binomial\n",
    "    - Weibull\n",
    "    - ...\n",
    "- Linkfunktion $g$\n",
    "- Linearer Prediktor $\\boldsymbol\\eta$\n",
    "\n",
    "#### Punkt-Schätzer für Parameter \n",
    "- ML-Schätzer Parameter $\\widehat{\\boldsymbol\\beta}$\n",
    "- Numerische Lösung mittels *Iterative Reweighted Least Squares*-Methode \"*IRLS*\"\n"
   ]
  },
  {
   "cell_type": "markdown",
   "metadata": {
    "slideshow": {
     "slide_type": "subslide"
    }
   },
   "source": [
    "### Ausblick\n",
    "Intervallschätzer für Parameter $\\widehat{\\boldsymbol\\beta}$"
   ]
  },
  {
   "cell_type": "markdown",
   "metadata": {
    "collapsed": true,
    "slideshow": {
     "slide_type": "slide"
    }
   },
   "source": [
    "# Fragen?"
   ]
  }
 ],
 "metadata": {
  "hide_input": false,
  "kernelspec": {
   "display_name": "Python 3",
   "language": "python",
   "name": "python3"
  },
  "language_info": {
   "codemirror_mode": {
    "name": "ipython",
    "version": 3
   },
   "file_extension": ".py",
   "mimetype": "text/x-python",
   "name": "python",
   "nbconvert_exporter": "python",
   "pygments_lexer": "ipython3",
   "version": "3.5.2"
  }
 },
 "nbformat": 4,
 "nbformat_minor": 1
}
