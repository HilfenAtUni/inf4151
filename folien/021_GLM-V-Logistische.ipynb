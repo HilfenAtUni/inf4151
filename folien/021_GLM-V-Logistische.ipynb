{
 "cells": [
  {
   "cell_type": "code",
   "execution_count": 2,
   "metadata": {
    "slideshow": {
     "slide_type": "skip"
    }
   },
   "outputs": [],
   "source": [
    "import numpy as np\n",
    "from scipy import stats                  # statistical methods\n",
    "from matplotlib import pyplot as plt     # plotting methods\n",
    "import pandas as pd\n",
    "%matplotlib inline\n",
    "import scipy.io                          # includes matlab\n",
    "import statsmodels.formula.api as smf\n",
    "import statsmodels.api as sm\n",
    "import patsy\n"
   ]
  },
  {
   "cell_type": "markdown",
   "metadata": {
    "slideshow": {
     "slide_type": "slide"
    }
   },
   "source": [
    "# GLM V - Logistische Regression\n",
    "- Dichotome / binäre abhängige Variable\n",
    "- Bernoulli-Verteilung\n",
    "- Binomialverteilung: **Binomial-Familie**\n",
    "- Parametrisierung\n",
    "- Toleranzverteilung und **Link-Funktion**\n",
    "    - Linear\n",
    "    - Logit\n",
    "    - Probit\n",
    "    - komplementäre-Log-Log\n",
    "- Beispiele\n",
    "    - LD50\n",
    "    - Psychophysik\n",
    "- `statsmodels` mit `family=binomial`\n",
    "- Zusammenfassung"
   ]
  },
  {
   "cell_type": "markdown",
   "metadata": {
    "slideshow": {
     "slide_type": "subslide"
    }
   },
   "source": [
    "# Bernoulli-Experiment\n",
    "Ereignis $A$ *tritt ein* oder *tritt nicht ein* $\\Omega = \\{A, \\bar{A}\\}$\n",
    "\n",
    "Binäre Zufallsvariable $Z$ \"*Indikatorvariable*\" kann nur Werte $\\omega \\in \\{0, 1\\}$ annehmen.\n",
    "$$Z = \\begin{cases}\n",
    "1 \\quad & \\text{wenn A zutrifft}\\\\\n",
    "0 \\quad & \\text{wenn A nicht zutrifft}\n",
    "\\end{cases}$$\n",
    "#### Beispiele\n",
    "- Münzwurf: Kopf / Zahl\n",
    "- Produktion: innerhalb Toleranz / Ausschuß\n",
    "- Geburten: Mädchen / Jungen\n",
    "- Psychophysik: gesehen / nicht gesehen"
   ]
  },
  {
   "cell_type": "markdown",
   "metadata": {
    "slideshow": {
     "slide_type": "subslide"
    }
   },
   "source": [
    "## Bernoulli-Verteilung\n",
    "Die Wahrscheinlickeit für $A$ sei $\\pi$\n",
    "$$\\begin{align}\n",
    "P(A)       \\; &= P(Z\\!=\\!1) \\: =& \\; \\pi    \\\\\n",
    "P(\\bar{A}) \\; &= P(Z\\!=\\!0) \\; =& \\; 1-\\pi\n",
    "\\end{align}$$\n",
    "Schreibweise \n",
    "$$P(Z) = \\pi^Z(1-\\pi)^{1-Z}$$"
   ]
  },
  {
   "cell_type": "markdown",
   "metadata": {
    "slideshow": {
     "slide_type": "fragment"
    }
   },
   "source": [
    "n unabhängige Zufallsvariablen $Z_1\\dots Z_n$ mit Einzel-Wahrscheinlichkeiten $P(Z_i)=\\pi_i$ haben eine gemeinsame Verbund-Wahrscheinlichkeitsverteilung\n",
    "\n",
    "$$\\prod \\pi_j^{Z_j}(1-\\pi_j)^{(1-Z_j)} = \\exp\\Bigl[{\\sum_{j=1}^{n}Z_j \\log \\Bigl(\\frac{\\pi_j}{1-\\pi_j}\\Bigr) + \\sum_{j=1}^{n} \\log \\Bigl(1-\\pi_j\\Bigr)}\\Bigr] $$\n",
    "welche Mitglied der kanonischen Exponentialfamilie ist\n"
   ]
  },
  {
   "cell_type": "markdown",
   "metadata": {
    "slideshow": {
     "slide_type": "subslide"
    }
   },
   "source": [
    "#### Im 1. Spezialfall gleicher Wahrscheinlichkeiten\n",
    "$$\\pi_i = \\pi$$\n",
    "ergibt sich für die Zufallsvariable *Anzahl der Erfolge*\n",
    "$$Y = \\sum_{i=1}^{n}Z_i$$\n",
    "## die Binomialverteilung\n",
    "$$P(Y\\!=\\!y) = {n \\choose y} \\pi^{y}(1-\\pi)^{n-y}$$\n",
    "wobei $y\\in[0\\dots n]$\n",
    "\n",
    "Die Log-Likelihood ist\n",
    "$$l(\\pi;y) = y\\ln\\bigl(\\frac{\\pi}{1-\\pi}\\bigr)+n \\ln\\bigl( 1-\\pi \\bigr) + \\ln {n \\choose y}$$"
   ]
  },
  {
   "cell_type": "markdown",
   "metadata": {
    "slideshow": {
     "slide_type": "subslide"
    }
   },
   "source": [
    "#### Im 2. allgemeineren Fall mit $N$ Kategorien\n",
    "Bei N kategorial unterschiedlichen Wahrscheinlichkeiten summiert sich die Log-Likelihood\n",
    "$$l(\\pi_1,\\dots,\\pi_N;y_1,\\dots ,y_N) = \\sum_{j=1}^{N} \\Bigl( y_j\\ln\\bigl(\\frac{\\pi_j}{1-\\pi_j}\\bigr)+n_j \\ln\\bigl( 1-\\pi_j \\bigr) + \\ln {n_j \\choose y_j} \\Bigr)$$"
   ]
  },
  {
   "cell_type": "markdown",
   "metadata": {
    "slideshow": {
     "slide_type": "fragment"
    }
   },
   "source": [
    "mit in jeder Kategorie $j$\n",
    "- $y_j\\quad $ Erfolge\n",
    "- $n_j-y_j$ Misserfolge"
   ]
  },
  {
   "cell_type": "markdown",
   "metadata": {
    "slideshow": {
     "slide_type": "subslide"
    }
   },
   "source": [
    "## Beschreiben als *Generalisiertes Lineares Modell* der *Erfolgsrate*\n",
    "Zufallsvariable $P_j = \\frac{Y_j}{n_j}$ \n",
    "\n",
    "mit Erwartungswert $\\mathcal{E}(Y_j) = n_j\\pi_j\\quad \\Rightarrow\\quad \\mathcal{E}(P_j) = \\pi_j$\n",
    "\n",
    "sei abhängig von erklärenden Variablen/Kategorien.\n",
    "$$g(\\pi_j) = \\mathbf{x}_i^T\\boldsymbol\\beta$$"
   ]
  },
  {
   "cell_type": "markdown",
   "metadata": {
    "slideshow": {
     "slide_type": "subslide"
    }
   },
   "source": [
    "## 1. Lineares Modell\n",
    "$$\\pi_j = \\mathbf{x}_i^T\\boldsymbol\\beta$$\n",
    "unangemessen (Siehe Bsp. Piloten-Ohnmacht: Grenzwertüberschreitung)"
   ]
  },
  {
   "cell_type": "markdown",
   "metadata": {
    "slideshow": {
     "slide_type": "subslide"
    }
   },
   "source": [
    "## Begrenzung: Beschränken auf eine Verteilungsfunktion (*cdf*)\n",
    "<br>\n",
    "$$\\pi = F(t) = \\int_{-\\infty}^{t} f(s)\\mathrm{d}s$$\n",
    "- $f(s) \\geq 0\\quad$ nicht-negative Wahrscheinlichkeit\n",
    "- $\\int_{-\\infty}^{\\infty} = 1\\quad$ Normierung\n",
    "- \"*Toleranzverteilung*\""
   ]
  },
  {
   "cell_type": "markdown",
   "metadata": {
    "slideshow": {
     "slide_type": "slide"
    }
   },
   "source": [
    "## 2. Beschränkt-Lineares Modell\n",
    "Wählt man als Toleranzverteilung die Rechteckverteilung\n",
    "$$f(s) = \\begin{cases}\n",
    "\\frac{1}{c_2-c_1} \\quad & \\text{wenn} \\;c_1\\leq s\\leq c_2\\\\\n",
    "0 \\quad & \\text{sonst}\n",
    "\\end{cases}$$\n"
   ]
  },
  {
   "cell_type": "markdown",
   "metadata": {
    "slideshow": {
     "slide_type": "fragment"
    }
   },
   "source": [
    "dann ist $\\pi$ kummulativ in x\n",
    "$$\\pi = \\int_{c_1}^{x}f(s)\\mathrm{d}s = \\frac{x-c_1}{c_2-c_1}\\qquad \\text{für}\\; c_1\\leq s\\leq c_2$$\n",
    "bzw.\n",
    "$$\\pi=\\beta_0+\\beta_1 x$$\n",
    "mit $\\beta_0=\\frac{-c_1}{c_2-c_1}$ und $\\beta_1=\\frac{1}{c_2-c_1}$"
   ]
  },
  {
   "cell_type": "code",
   "execution_count": 4,
   "metadata": {
    "slideshow": {
     "slide_type": "skip"
    }
   },
   "outputs": [
    {
     "data": {
      "image/png": "[encoded data removed]",
      "text/plain": [
       "<matplotlib.figure.Figure at 0x7f696d914978>"
      ]
     },
     "metadata": {},
     "output_type": "display_data"
    }
   ],
   "source": [
    "'''\n",
    "partially linear\n",
    "'''\n",
    "f=plt.figure(figsize=(10,3))\n",
    "# left plot: pdf\n",
    "f.add_subplot(1, 2, 1)\n",
    "plt.plot([-2, 0, 0, 2, 2, 4], [0, 0, 1, 1, 0, 0], 'm-')\n",
    "plt.title('tolerance distribution')\n",
    "plt.xticks([0, 2], ['c1', 'c2'])\n",
    "plt.yticks([0, 1], ['0', '1/(c2-c1)'])\n",
    "plt.ylim(0, 2)\n",
    "plt.xlabel('x')\n",
    "# right plot: cdf\n",
    "f.add_subplot(1, 2, 2)\n",
    "plt.plot([-2, 0, 2, 4], [0, 0, 1, 1], 'r-')\n",
    "plt.title('partial linear model for $\\pi$')\n",
    "plt.xticks([0, 2], ['c1', 'c2'])\n",
    "plt.xlabel('x');\n"
   ]
  },
  {
   "cell_type": "markdown",
   "metadata": {
    "slideshow": {
     "slide_type": "fragment"
    }
   },
   "source": [
    "... wird selten benutzt"
   ]
  },
  {
   "cell_type": "markdown",
   "metadata": {
    "slideshow": {
     "slide_type": "slide"
    }
   },
   "source": [
    "## 3. Probit Modell\n",
    "Wählt man als Toleranzverteilung die Normalverteilung\n",
    "$$f(s) = \\mathcal{N}(\\mu, \\sigma^2)$$\n",
    "erhält man\n",
    "$$\\pi = \\Phi\\left(\\frac{x-\\mu}{\\sigma}\\right)$$\n"
   ]
  },
  {
   "cell_type": "markdown",
   "metadata": {
    "slideshow": {
     "slide_type": "fragment"
    }
   },
   "source": [
    "Damit erhält man die gewünschte lineare Abhängigkeit von $x$\n",
    "\n",
    "$$g(\\pi) = \\Phi^{-1}(\\pi) = \\beta_0+\\beta_1x$$\n",
    "mit $\\beta_0 = \\frac{-\\mu}{\\sigma}$ und $\\beta_1=\\frac{1}{\\sigma}$\n",
    "\n",
    "Dieses Modell kommt häufig in Biologie und Sozialwissenschaften vor."
   ]
  },
  {
   "cell_type": "code",
   "execution_count": 5,
   "metadata": {
    "slideshow": {
     "slide_type": "skip"
    }
   },
   "outputs": [
    {
     "data": {
      "image/png": "[encoded data removed]",
      "text/plain": [
       "<matplotlib.figure.Figure at 0x7f6965d386d8>"
      ]
     },
     "metadata": {},
     "output_type": "display_data"
    }
   ],
   "source": [
    "'''probit'''\n",
    "f=plt.figure(figsize=(10,3))\n",
    "distrib = stats.norm(0, 1)\n",
    "# left plot: pdf\n",
    "f.add_subplot(1, 2, 1)\n",
    "plt.title('tolerance distribution')\n",
    "xgrid = np.linspace(-3.5, 3.5, 71)\n",
    "plt.plot(xgrid, distrib.pdf(xgrid), 'm-', label='Normal')\n",
    "plt.xticks([-2, 0, 2], ['$\\mu-2\\sigma$', '$\\mu$', '$\\mu+2\\sigma$'])\n",
    "plt.yticks([], [])\n",
    "plt.ylim(0, 0.8)\n",
    "plt.xlabel('x')\n",
    "plt.legend(loc='upper left')\n",
    "# right plot: cdf\n",
    "f.add_subplot(1, 2, 2)\n",
    "plt.title('probit model for $\\pi$')\n",
    "plt.plot(xgrid, distrib.cdf(xgrid), 'r-', label='Probit$^{-1} = \\Phi$')\n",
    "plt.xticks([-2, 0, 2], ['$\\mu-2\\sigma$', '$\\mu$', '$\\mu+2\\sigma$'])\n",
    "plt.legend(loc='upper left')\n",
    "plt.xlabel('x');\n"
   ]
  },
  {
   "cell_type": "markdown",
   "metadata": {
    "slideshow": {
     "slide_type": "subslide"
    }
   },
   "source": [
    "### Interpretation: versteckte Variable"
   ]
  },
  {
   "cell_type": "code",
   "execution_count": 6,
   "metadata": {
    "slideshow": {
     "slide_type": "skip"
    }
   },
   "outputs": [
    {
     "data": {
      "image/png": "[encoded data removed]",
      "text/plain": [
       "<matplotlib.figure.Figure at 0x7f6965c5ac18>"
      ]
     },
     "metadata": {},
     "output_type": "display_data"
    }
   ],
   "source": [
    "'''\n",
    "interpretation of probit as gaussian distributed hidden variable\n",
    "'''\n",
    "f=plt.figure(figsize=(10,4))\n",
    "# left plot: pdf\n",
    "f.add_subplot(1, 2, 1)\n",
    "mu, sigma = (1.5, 1.0)\n",
    "zgrid = np.linspace(-4, 4, 81)\n",
    "plt.plot(zgrid, stats.norm(mu, sigma).pdf(zgrid), 'k-', label='f(z)')\n",
    "zgrid = zgrid[zgrid>=0]\n",
    "plt.fill_between(zgrid, 0, stats.norm(mu, sigma).pdf(zgrid), alpha=.3, label='y=1')\n",
    "plt.plot(2*[0], [0., .5], 'r--', label='border 0')\n",
    "plt.plot(2*[mu], [0., .5], 'b--', label='X$\\\\beta$')\n",
    "plt.xlabel('z')\n",
    "plt.ylabel('density')\n",
    "plt.xticks([], [])\n",
    "plt.yticks([], [])\n",
    "plt.legend(loc='upper left');\n",
    "\n",
    "'''\n",
    "the probit function\n",
    "    either scalar or vector as input x and output logit(x)\n",
    "'''\n",
    "def probit(x):\n",
    "    return stats.norm(0, 1).cdf(x)\n",
    "\n",
    "# right plot: cdf\n",
    "f.add_subplot(1, 2, 2)\n",
    "zgrid = np.linspace(-5, 5, 101)\n",
    "plt.plot(zgrid, probit(zgrid), 'c-', label='probit')\n",
    "plt.plot([mu], probit(mu), 'bo', label='$\\pi=g^{-1}(X\\\\beta$)')\n",
    "plt.xlabel('$\\\\eta=X\\\\beta$')\n",
    "plt.ylabel('$\\\\pi$')\n",
    "plt.xticks([], [])\n",
    "plt.legend(loc='upper left');\n"
   ]
  },
  {
   "cell_type": "markdown",
   "metadata": {
    "slideshow": {
     "slide_type": "slide"
    }
   },
   "source": [
    "## 4. Logistisches Modell / Logit\n",
    "Wählt man als Toleranzverteilung \n",
    "\n",
    "$$f(s) = \\frac{\\beta_1 \\exp (\\beta_0+\\beta_1 s)}{\\bigl(1+\\exp(\\beta_0+\\beta_1 s)\\bigr)^2}$$\n",
    "womit\n",
    "$$\\pi = \\int_{-\\infty}^{x} f(s)\\mathrm{d}s = \\frac{\\beta_1 \\exp (\\beta_0+\\beta_1 s)}{1+\\exp(\\beta_0+\\beta_1 s)}$$"
   ]
  },
  {
   "cell_type": "markdown",
   "metadata": {
    "slideshow": {
     "slide_type": "subslide"
    }
   },
   "source": [
    "dann erhält man die gewünschte lineare Abhängigkeit von $x$ mittels *Logit-Funktion*\n",
    "\n",
    "$$g(\\pi) = \\ln\\frac{\\pi}{1-\\pi} = \\beta_0+\\beta_1x$$\n",
    "\n",
    "welche als logarithmisches Chancenverhältnis \"*log-odds-ratio*\" interpretiert werden kann.\n",
    "\n",
    "Wird oft benutzt, vor allem für Binomial-verteilte Daten, deren *natürliche* Link-Funktion."
   ]
  },
  {
   "cell_type": "code",
   "execution_count": 6,
   "metadata": {
    "slideshow": {
     "slide_type": "subslide"
    }
   },
   "outputs": [
    {
     "data": {
      "image/png": "[encoded data removed]",
      "text/plain": [
       "<matplotlib.figure.Figure at 0x7fe1c4d289b0>"
      ]
     },
     "metadata": {},
     "output_type": "display_data"
    }
   ],
   "source": [
    "'''logit'''"
   ]
  },
  {
   "cell_type": "markdown",
   "metadata": {
    "slideshow": {
     "slide_type": "slide"
    }
   },
   "source": [
    "## 5. Extremwertverteilung / c-log-log\n",
    "Wählt man als Toleranzverteilung die Extremwertverteilung\n",
    "\n",
    "$$f(s) = \\beta_1 \\exp \\Bigl( (\\beta_0+\\beta_1 s) - \\exp(\\beta_0+\\beta_1 s) \\Bigr)$$\n",
    "damit\n",
    "$$\\pi = 1 - \\exp \\bigl( -\\exp (\\beta_0+\\beta_1 t) \\bigr)$$"
   ]
  },
  {
   "cell_type": "code",
   "execution_count": 7,
   "metadata": {
    "slideshow": {
     "slide_type": "fragment"
    }
   },
   "outputs": [
    {
     "data": {
      "image/png": "[encoded data removed]",
      "text/plain": [
       "<matplotlib.figure.Figure at 0x7fe1c4d52438>"
      ]
     },
     "metadata": {},
     "output_type": "display_data"
    }
   ],
   "source": [
    "'''complementary log log'''"
   ]
  },
  {
   "cell_type": "markdown",
   "metadata": {
    "slideshow": {
     "slide_type": "subslide"
    }
   },
   "source": [
    "Mit der komplementären Log-Log-Funktion erhält man die gewünschte lineare Abhängigkeit\n",
    "\n",
    "$$g(\\pi) = \\log\\bigl(-\\log(1-\\pi)\\bigr) = \\beta_0+\\beta_1 x$$\n",
    "\n",
    "Dies ist die *komplementäre-Log-Log-Funktion*"
   ]
  },
  {
   "cell_type": "markdown",
   "metadata": {
    "slideshow": {
     "slide_type": "slide"
    }
   },
   "source": [
    "# Beispiel: Sterberate vs. Dosis\n",
    "Käfer wurden einem Gift ausgesetzt, woran sie in Abhängigkeit von der Konzentration $\\log_{10}\\frac{mg}{l}$ starben [Bliss, 1935]:\n",
    "\n",
    "#### Fragestellung\n",
    "- Was ist die 50%-Lethaldosis *LD50*?"
   ]
  },
  {
   "cell_type": "code",
   "execution_count": 9,
   "metadata": {
    "slideshow": {
     "slide_type": "skip"
    }
   },
   "outputs": [
    {
     "data": {
      "image/png": "[encoded data removed]",
      "text/plain": [
       "<matplotlib.figure.Figure at 0x7f6965d50b38>"
      ]
     },
     "metadata": {},
     "output_type": "display_data"
    }
   ],
   "source": [
    "'''example for estimators and their distribution\n",
    "   find Lethal Dose 50%'''\n",
    "logdose = np.asarray([1.691, 1.724, 1.755, 1.784, 1.811, 1.837, 1.861, 1.884])\n",
    "n       = np.asarray([59,    60,    62,    56,    63,    59,    62,    60   ])\n",
    "killed  = np.asarray([ 6,    13,    18,    28,    52,    53,    61,    60   ])\n",
    "plt.plot(logdose, killed/n, 'bo', label='data')\n",
    "plt.axis((1.6, 2.0, 0., 1.1))\n",
    "plt.title('lethal dose of $CS_2$')\n",
    "plt.xlabel('log dose mg/l')\n",
    "plt.ylabel('proportion killed')\n",
    "plt.legend(loc='lower right');\n"
   ]
  },
  {
   "cell_type": "code",
   "execution_count": 10,
   "metadata": {
    "slideshow": {
     "slide_type": "fragment"
    }
   },
   "outputs": [
    {
     "data": {
      "text/plain": [
       "array([[ 6, 53],\n",
       "       [13, 47],\n",
       "       [18, 44],\n",
       "       [28, 28],\n",
       "       [52, 11],\n",
       "       [53,  6],\n",
       "       [61,  1],\n",
       "       [60,  0]])"
      ]
     },
     "execution_count": 10,
     "metadata": {},
     "output_type": "execute_result"
    }
   ],
   "source": [
    "y = np.vstack((killed, n-killed)).T   # killed and survived\n",
    "y\n"
   ]
  },
  {
   "cell_type": "markdown",
   "metadata": {
    "slideshow": {
     "slide_type": "subslide"
    }
   },
   "source": [
    "## Lösung mittels Logit-Link"
   ]
  },
  {
   "cell_type": "code",
   "execution_count": 11,
   "metadata": {
    "slideshow": {
     "slide_type": "fragment"
    }
   },
   "outputs": [],
   "source": [
    "# supplies the 1's to the design matrix with x=dose\n",
    "X = sm.add_constant(logdose)\n",
    "# y as 2D data: [\"success\", \"failure\"]\n",
    "y = np.vstack((killed, n-killed)).T\n",
    "\n",
    "# supply data to logit model and call fit:\n",
    "# start-values, iterate, calculate statistics ...\n",
    "lfit = sm.GLM(endog=y, exog=X, family=sm.families.Binomial(\n",
    "    link=sm.families.links.logit)).fit()\n"
   ]
  },
  {
   "cell_type": "code",
   "execution_count": 12,
   "metadata": {
    "slideshow": {
     "slide_type": "skip"
    }
   },
   "outputs": [
    {
     "data": {
      "image/png": "[encoded data removed]",
      "text/plain": [
       "<matplotlib.figure.Figure at 0x7f6965d31470>"
      ]
     },
     "metadata": {},
     "output_type": "display_data"
    }
   ],
   "source": [
    "'''show result of fit together with data'''\n",
    "# data\n",
    "plt.plot(logdose, killed/n, 'bo', label='data')\n",
    "# fitted@data\n",
    "plt.plot(logdose, lfit.fittedvalues, 'ro', label='fitted')\n",
    "# whole ROI for doses\n",
    "dgrid = np.linspace(1.65, 1.95, 30+1)\n",
    "# with intercept-constant...\n",
    "xgrid = sm.add_constant(dgrid)\n",
    "# ... for prediction\n",
    "plt.plot(dgrid, lfit.predict(xgrid), 'r-', label='logit fit')\n",
    "plt.axis((1.6, 2.0, 0., 1.1))\n",
    "plt.title('lethal dose of $CS_2$')\n",
    "plt.xlabel('log dose mg/l')\n",
    "plt.ylabel('proportion killed')\n",
    "plt.legend(loc='upper left');\n"
   ]
  },
  {
   "cell_type": "code",
   "execution_count": 13,
   "metadata": {
    "slideshow": {
     "slide_type": "subslide"
    }
   },
   "outputs": [
    {
     "name": "stdout",
     "output_type": "stream",
     "text": [
      "                 Generalized Linear Model Regression Results                  \n",
      "==============================================================================\n",
      "Dep. Variable:           ['y1', 'y2']   No. Observations:                    8\n",
      "Model:                            GLM   Df Residuals:                        6\n",
      "Model Family:                Binomial   Df Model:                            1\n",
      "Link Function:                  logit   Scale:                             1.0\n",
      "Method:                          IRLS   Log-Likelihood:                -18.657\n",
      "Date:                Fri, 02 Mar 2018   Deviance:                       11.116\n",
      "Time:                        18:22:04   Pearson chi2:                    0.167\n",
      "No. Iterations:                     6                                         \n",
      "==============================================================================\n",
      "                 coef    std err          z      P>|z|      [0.025      0.975]\n",
      "------------------------------------------------------------------------------\n",
      "const        -60.7401      5.182    -11.722      0.000     -70.896     -50.584\n",
      "x1            34.2859      2.913     11.769      0.000      28.576      39.996\n",
      "==============================================================================\n"
     ]
    }
   ],
   "source": [
    "# print result: parameter vector beta, statistics, ...\n",
    "print(lfit.summary())\n"
   ]
  },
  {
   "cell_type": "code",
   "execution_count": null,
   "metadata": {},
   "outputs": [],
   "source": []
  },
  {
   "cell_type": "markdown",
   "metadata": {
    "slideshow": {
     "slide_type": "fragment"
    }
   },
   "source": [
    "## Ergebnis:\n",
    "Der Max-Likelihood-Parameter-Vektor-Schätzer ist \n",
    "$$\\widehat{\\boldsymbol\\beta} = \\begin{bmatrix} -60.7 \\\\ 34.3 \\end{bmatrix} \\qquad \n",
    "  \\widehat{\\boldsymbol\\beta}_{95\\%CI} = \\begin{bmatrix} -70.9 \\dots -50.6 \\\\ 28.6 \\dots 40.0 \\end{bmatrix} $$\n"
   ]
  },
  {
   "cell_type": "code",
   "execution_count": 14,
   "metadata": {
    "slideshow": {
     "slide_type": "subslide"
    }
   },
   "outputs": [],
   "source": [
    "'''alternatively use patsy formula style; don't forget the weights'''\n",
    "dataf = pd.DataFrame({'y': killed/n, \n",
    "                      'x': logdose   })\n",
    "zfitf = smf.glm('y ~ x' , dataf, \n",
    "                 family=sm.families.Binomial(link=sm.families.links.logit),\n",
    "                 freq_weights=n\n",
    "               ).fit()\n"
   ]
  },
  {
   "cell_type": "markdown",
   "metadata": {
    "slideshow": {
     "slide_type": "fragment"
    }
   },
   "source": [
    "    help(sm.families.Binomial)\n",
    "        If `endog` is a 2d array, then the input is assumed to be in the format\n",
    "        (successes, failures) and successes/(success + failures) is returned.  \n",
    "        And n is set to successes + failures.\n",
    " \n",
    "http://www.statsmodels.org/devel/generated/statsmodels.genmod.generalized_linear_model.GLM.html\n",
    "\n",
    "    help(smf.glm)\n",
    "        *args, **kwargs\n",
    "\n",
    "    freq_weights : array-like\n",
    "        1d array of frequency weights. The default is None. If None is selected or a blank \n",
    "        value, then the algorithm will replace with an array of 1’s with length equal to \n",
    "        the endog. \n",
    "        WARNING: Using weights is not verified yet for all possible options and results"
   ]
  },
  {
   "cell_type": "code",
   "execution_count": 15,
   "metadata": {
    "slideshow": {
     "slide_type": "skip"
    }
   },
   "outputs": [
    {
     "name": "stdout",
     "output_type": "stream",
     "text": [
      "                 Generalized Linear Model Regression Results                  \n",
      "==============================================================================\n",
      "Dep. Variable:                      y   No. Observations:                    8\n",
      "Model:                            GLM   Df Residuals:                      479\n",
      "Model Family:                Binomial   Df Model:                            1\n",
      "Link Function:                  logit   Scale:                             1.0\n",
      "Method:                          IRLS   Log-Likelihood:                -186.18\n",
      "Date:                Fri, 02 Mar 2018   Deviance:                       1052.6\n",
      "Time:                        18:22:16   Pearson chi2:                     9.91\n",
      "No. Iterations:                     7                                         \n",
      "==============================================================================\n",
      "                 coef    std err          z      P>|z|      [0.025      0.975]\n",
      "------------------------------------------------------------------------------\n",
      "Intercept    -60.7401      5.182    -11.722      0.000     -70.896     -50.584\n",
      "x             34.2859      2.913     11.769      0.000      28.576      39.996\n",
      "==============================================================================\n"
     ]
    }
   ],
   "source": [
    "print(zfitf.summary())\n"
   ]
  },
  {
   "cell_type": "markdown",
   "metadata": {
    "slideshow": {
     "slide_type": "subslide"
    }
   },
   "source": [
    "## Frage: Wie groß ist die LD50?\n",
    "Ab welcher Dosis sterben mehr als die Hälfte der Käfer?"
   ]
  },
  {
   "cell_type": "code",
   "execution_count": 16,
   "metadata": {
    "slideshow": {
     "slide_type": "fragment"
    }
   },
   "outputs": [
    {
     "name": "stdout",
     "output_type": "stream",
     "text": [
      "The ld50 is 59.1mg/l\n"
     ]
    }
   ],
   "source": [
    "'''LD50'''\n",
    "# 50% will be killed according to model\n",
    "pi = .5\n",
    "# special case ld50: g(pi) = log(1) = 0\n",
    "y_ld50 = np.log(pi/(1-pi))\n",
    "# fitted intercept and gain\n",
    "b, m = lfit.params\n",
    "# reverse of y=mx+b; still log\n",
    "xld50 = (y_ld50-b)/m\n",
    "# transform log result to 10^x\n",
    "print('The ld50 is {:.1f}mg/l'.format(10**xld50))\n"
   ]
  },
  {
   "cell_type": "markdown",
   "metadata": {
    "slideshow": {
     "slide_type": "subslide"
    }
   },
   "source": [
    "## Frage: Vertrauensbereich der LD50?\n",
    "Wie verlässlich ist die LD50-Angabe? Suche das 95% Konfidenzintervall.\n",
    "\n",
    "**[ÜA]** Bitte nochmals klar machen, was Konfidenzintervall bedeutet!"
   ]
  },
  {
   "cell_type": "code",
   "execution_count": 17,
   "metadata": {
    "slideshow": {
     "slide_type": "fragment"
    }
   },
   "outputs": [
    {
     "name": "stdout",
     "output_type": "stream",
     "text": [
      "m=34.29(+/-2.91)  b=-60.74(+/-5.18)\n"
     ]
    }
   ],
   "source": [
    "'''y sem?'''\n",
    "# sem of params \"b\"\n",
    "db, dm = lfit.bse\n",
    "print('m={:.2f}(+/-{:.2f})  b={:.2f}(+/-{:.2f})'.format(m, dm, b, db))\n",
    "# now with 95% CI\n",
    "db, dm = stats.norm.ppf(.975)*lfit.bse\n"
   ]
  },
  {
   "cell_type": "markdown",
   "metadata": {
    "slideshow": {
     "slide_type": "fragment"
    }
   },
   "source": [
    "#### Ist es möglich, auf y zurückzurechnen?\n",
    "\n",
    "Für Normalverteilte Werte gilt das Gauß'sche Fehlerfortpflanzungsgesetz. Hier nicht.\n",
    "\n",
    "#### Ausweg: \"worst case\""
   ]
  },
  {
   "cell_type": "code",
   "execution_count": 18,
   "metadata": {
    "slideshow": {
     "slide_type": "skip"
    }
   },
   "outputs": [
    {
     "data": {
      "image/png": "[encoded data removed]",
      "text/plain": [
       "<matplotlib.figure.Figure at 0x7f6965b90b38>"
      ]
     },
     "metadata": {},
     "output_type": "display_data"
    }
   ],
   "source": [
    "'''show confidence interval ??'''\n",
    "\n",
    "def logit(x, beta):\n",
    "    eta = beta[0] + beta[1]*x\n",
    "    return np.exp(eta)/(1+np.exp(eta))\n",
    "\n",
    "# data\n",
    "plt.plot(logdose, killed/n, 'bo', label='data')\n",
    "# whole ROI for doses\n",
    "dgrid = np.linspace(1.0, 2.5, 60+1)\n",
    "# with intercept-constant...\n",
    "xgrid = sm.add_constant(dgrid)\n",
    "# ... for prediction\n",
    "plt.plot(dgrid, lfit.predict(xgrid), 'y.', label='logit fit')\n",
    "plt.plot(dgrid, logit(dgrid, [b, m]), 'y-', label='fit')\n",
    "plt.plot(dgrid, logit(dgrid, [b+db, m]), label='b+ ')\n",
    "plt.plot(dgrid, logit(dgrid, [b-db, m]), label='b -')\n",
    "plt.plot(dgrid, logit(dgrid, [b, m-dm]), label='m -')\n",
    "plt.plot(dgrid, logit(dgrid, [b, m+dm]), label='m+ ')\n",
    "\n",
    "plt.axis((1.0, 2.3, -0.1, 1.1))\n",
    "plt.title('lethal dose of $CS_2$')\n",
    "plt.xlabel('log dose mg/l')\n",
    "plt.ylabel('proportion killed')\n",
    "plt.legend(loc='upper left');\n"
   ]
  },
  {
   "cell_type": "markdown",
   "metadata": {
    "slideshow": {
     "slide_type": "subslide"
    }
   },
   "source": [
    "### Diskrepanz zwischen Daten und Modell"
   ]
  },
  {
   "cell_type": "markdown",
   "metadata": {
    "slideshow": {
     "slide_type": "fragment"
    }
   },
   "source": [
    "#### Grund: Parameter korrelieren"
   ]
  },
  {
   "cell_type": "code",
   "execution_count": 25,
   "metadata": {
    "slideshow": {
     "slide_type": "fragment"
    }
   },
   "outputs": [
    {
     "name": "stdout",
     "output_type": "stream",
     "text": [
      "           Intercept          x\n",
      "Intercept   26.85188 -15.091140\n",
      "x          -15.09114   8.486842\n"
     ]
    }
   ],
   "source": [
    "print(zfitf.cov_params())\n"
   ]
  },
  {
   "cell_type": "markdown",
   "metadata": {
    "slideshow": {
     "slide_type": "subslide"
    }
   },
   "source": [
    "#### Ursache:\n",
    "Lineare Vorhersage für $\\eta$ geht vom Ursprung aus: Konzentration $log(dose)=0$\n",
    "- Eine kleine Änderung in der Steigung bewirkt eine große Änderung von $\\eta$\n",
    "- Eine Änderung im Achsenabschnitt bewirkt eine Verschiebung\n",
    "- Fit benötigt Variation beider\n",
    "    - breite Randverteilungen"
   ]
  },
  {
   "cell_type": "markdown",
   "metadata": {
    "slideshow": {
     "slide_type": "fragment"
    }
   },
   "source": [
    "#### Abhilfe\n",
    "Modellparametrisierung entkoppeln durch Zentrieren\n",
    "\n",
    "Im Mittelpunkt der Datenwolke sind Steigung und Achsenabschnitt unabhängig\n",
    "$$x\\rightarrow x-x_0$$"
   ]
  },
  {
   "cell_type": "code",
   "execution_count": 19,
   "metadata": {
    "collapsed": true,
    "slideshow": {
     "slide_type": "subslide"
    }
   },
   "outputs": [],
   "source": [
    "'''\n",
    "show confidence interval with centralized data\n",
    " - no correlation between gain & intercept\n",
    "'''\n",
    "# the estimate of center from before\n",
    "mdose = xld50\n",
    "# supplies the 1's to the design matrix (with x=dose around zero)\n",
    "Xz = sm.add_constant(logdose-mdose)\n",
    "# y as 2D data: [\"success\", \"failure\"]  (keep as is)\n",
    "yz = np.vstack((killed, n-killed)).T\n",
    "zfit = sm.GLM(endog=yz, exog=Xz, family=sm.families\n",
    "    .Binomial(link=sm.families.links.logit)).fit()\n"
   ]
  },
  {
   "cell_type": "code",
   "execution_count": 20,
   "metadata": {
    "slideshow": {
     "slide_type": "skip"
    }
   },
   "outputs": [
    {
     "name": "stdout",
     "output_type": "stream",
     "text": [
      "                 Generalized Linear Model Regression Results                  \n",
      "==============================================================================\n",
      "Dep. Variable:           ['y1', 'y2']   No. Observations:                    8\n",
      "Model:                            GLM   Df Residuals:                        6\n",
      "Model Family:                Binomial   Df Model:                            1\n",
      "Link Function:                  logit   Scale:                             1.0\n",
      "Method:                          IRLS   Log-Likelihood:                -18.657\n",
      "Date:                Fri, 02 Mar 2018   Deviance:                       11.116\n",
      "Time:                        18:23:00   Pearson chi2:                    0.167\n",
      "No. Iterations:                     6                                         \n",
      "==============================================================================\n",
      "                 coef    std err          z      P>|z|      [0.025      0.975]\n",
      "------------------------------------------------------------------------------\n",
      "const      -5.038e-15      0.132  -3.81e-14      1.000      -0.259       0.259\n",
      "x1            34.2859      2.913     11.769      0.000      28.576      39.996\n",
      "==============================================================================\n"
     ]
    }
   ],
   "source": [
    "print(zfit.summary())\n"
   ]
  },
  {
   "cell_type": "markdown",
   "metadata": {
    "slideshow": {
     "slide_type": "subslide"
    }
   },
   "source": [
    "                     coef    std err          z      P>|z|      [95.0% Conf. Int.]\n",
    "    ------------------------------------------------------------------------------\n",
    "    const        -1.3e-14      0.132   -9.7e-14      1.000        -0.259     0.259    centralized\n",
    "    x1            34.2859      2.913     11.769      0.000        28.576    39.996\n",
    "    ------------------------------------------------------------------------------\n",
    "    const        -60.7401      5.182    -11.722      0.000       -70.896   -50.584    original \n",
    "    x1            34.2859      2.913     11.769      0.000        28.576    39.996"
   ]
  },
  {
   "cell_type": "markdown",
   "metadata": {
    "slideshow": {
     "slide_type": "fragment"
    }
   },
   "source": [
    "#### Ergebnis Zentrierung\n",
    "- Der Achsenabschnitt verschwindet wie erwartet\n",
    "    - sein 95%-Konfidenzintervall ist deutlich enger\n",
    "    - er ist nicht signifikant\n",
    "- Einziger linearer Parameter $\\beta_1$ behält seinen ursrpünglichen Wert\n",
    "     - ebenso sein 95%-Konfidenzintervall"
   ]
  },
  {
   "cell_type": "markdown",
   "metadata": {
    "slideshow": {
     "slide_type": "subslide"
    }
   },
   "source": [
    "### 95%-Konfidenzintervall näherungsweise\n",
    "Damit ergibt die \"worst case\" Abschätzung"
   ]
  },
  {
   "cell_type": "code",
   "execution_count": 21,
   "metadata": {
    "slideshow": {
     "slide_type": "skip"
    }
   },
   "outputs": [
    {
     "data": {
      "image/png": "[encoded data removed]",
      "text/plain": [
       "<matplotlib.figure.Figure at 0x7f6965cbe240>"
      ]
     },
     "metadata": {},
     "output_type": "display_data"
    }
   ],
   "source": [
    "'''show centralized fit and influence of \"confident\" parameters'''\n",
    "b, m = zfit.params\n",
    "db, dm = zfit.bse\n",
    "plt.plot(Xz[:,1], yz[:,0]/n, 'bo', label='data')        # data \n",
    "dgrid = np.linspace(-1.0, 1.5, 250+1)                   # whole ROI for doses\n",
    "xgrid = sm.add_constant(dgrid)                          # with intercept-constant...\n",
    "plt.plot(Xz[:,1], zfit.predict(sm.add_constant(Xz[:,1])), 'r.') \n",
    "plt.plot(dgrid, logit(dgrid, [b, m]),    'r-', label='fit')\n",
    "plt.plot(dgrid, logit(dgrid, [b+db, m]), 'b-', label='b+ ')\n",
    "plt.plot(dgrid, logit(dgrid, [b-db, m]), 'c-', label='b -')\n",
    "plt.plot(dgrid, logit(dgrid, [b, m-dm]), 'y-', label='m -')\n",
    "plt.plot(dgrid, logit(dgrid, [b, m+dm]), 'g-', label='m+ ')\n",
    "plt.axis(( -0.05, .05, 0.1, .9))\n",
    "plt.title('lethal dose of $CS_2$')\n",
    "plt.xlabel('log dose mg/l + {:.2f}'.format(mdose))\n",
    "plt.ylabel('proportion killed')\n",
    "plt.legend(loc='upper left');\n"
   ]
  },
  {
   "cell_type": "code",
   "execution_count": 22,
   "metadata": {
    "slideshow": {
     "slide_type": "skip"
    }
   },
   "outputs": [
    {
     "data": {
      "image/png": "[encoded data removed]",
      "text/plain": [
       "<matplotlib.figure.Figure at 0x7f6965a7d278>"
      ]
     },
     "metadata": {},
     "output_type": "display_data"
    }
   ],
   "source": [
    "'''again'''\n",
    "plt.plot(logdose,     yz[:,0]/n,            'bo', label='data')   \n",
    "plt.plot(dgrid+mdose, logit(dgrid, [b, m]), 'r-', label='fit')\n",
    "\n",
    "# find min and max within all possible \"worst case\" confident interval solutions\n",
    "pij = np.asarray(\n",
    "    [logit(dgrid, [bi, mj])  for bi in [b-db, b, b+db] for mj in [m-dm, m, m+dm]])\n",
    "pmax = pij.max(axis=0)                  # upper \"worst case\" border \n",
    "pmin = pij.min(axis=0)                  # lower -\"-\n",
    "plt.fill_between(\n",
    "    dgrid+mdose, pmin, pmax, color='k', alpha=0.2, label='95% CI')\n",
    "\n",
    "plt.axis(( mdose-0.15, mdose+.15, 0., 1.))\n",
    "plt.title('lethal dose of $CS_2$')\n",
    "plt.xlabel('log dose mg/l')\n",
    "plt.ylabel('proportion killed')\n",
    "plt.legend(loc='upper left');\n"
   ]
  },
  {
   "cell_type": "markdown",
   "metadata": {
    "slideshow": {
     "slide_type": "subslide"
    }
   },
   "source": [
    "## Interpretation als Verdünnungsreihe\n",
    "\n",
    "- Ausgangskonzentration eines Gifts $\\rho_0$\n",
    "- Unabhängige Variable: Verdünnungsfaktor zB. halbieren je Schritt $x$: $$\\rho_x = \\rho_0 \\frac{1}{2^x}$$\n",
    "- Logarithmieren linearisiert die Abhängigkeit von $x$\n",
    "$$\\ln(\\rho_x) = \\ln(\\rho_0) - \\color{green}{x} \\ln (2)$$"
   ]
  },
  {
   "cell_type": "markdown",
   "metadata": {
    "slideshow": {
     "slide_type": "subslide"
    }
   },
   "source": [
    "## (Zwischen) Ergebnis\n",
    "- Parameterschätzer und Konfidenzintervall durch GLM bestimmen\n",
    "- Konfidenzintervall für Daten\n",
    "    - wenn bekannt: bei Normalverteilung t-verteilt\n",
    "    - wenn unbekannt: \n",
    "        - Simulieren\n",
    "        - \"worst case\" Abschätzen durch **unabhängige** Parametrisierung\n",
    "\n",
    "- Logit-Modell beschreibt Dosisabhängigkeit gut\n",
    "    - logarithmische Abhängigkeit sorgt für Linearität in der Verdünnungsreihe"
   ]
  },
  {
   "cell_type": "markdown",
   "metadata": {
    "slideshow": {
     "slide_type": "slide"
    }
   },
   "source": [
    "## Andere Link-Funktion"
   ]
  },
  {
   "cell_type": "markdown",
   "metadata": {
    "slideshow": {
     "slide_type": "slide"
    }
   },
   "source": [
    "### Probit\n"
   ]
  },
  {
   "cell_type": "code",
   "execution_count": 23,
   "metadata": {
    "slideshow": {
     "slide_type": "fragment"
    }
   },
   "outputs": [
    {
     "name": "stdout",
     "output_type": "stream",
     "text": [
      "                 Generalized Linear Model Regression Results                  \n",
      "==============================================================================\n",
      "Dep. Variable:           ['y1', 'y2']   No. Observations:                    8\n",
      "Model:                            GLM   Df Residuals:                        6\n",
      "Model Family:                Binomial   Df Model:                            1\n",
      "Link Function:                 probit   Scale:                             1.0\n",
      "Method:                          IRLS   Log-Likelihood:                -18.092\n",
      "Date:                Wed, 03 May 2017   Deviance:                       9.9870\n",
      "Time:                        10:17:54   Pearson chi2:                    0.158\n",
      "No. Iterations:                     6                                         \n",
      "==============================================================================\n",
      "                 coef    std err          z      P>|z|      [0.025      0.975]\n",
      "------------------------------------------------------------------------------\n",
      "const          0.0166      0.075      0.222      0.824      -0.130       0.163\n",
      "x1            19.7410      1.488     13.266      0.000      16.824      22.658\n",
      "==============================================================================\n"
     ]
    }
   ],
   "source": [
    "'''same same, but probit'''\n",
    "# supply data to probit model and call fit:\n",
    "#     start-values, iterate, calculate statistics ...\n",
    "pfit = sm.GLM(\n",
    "    endog=yz, exog=Xz, family=sm.families\n",
    "            .Binomial(link=sm.families.links.probit)).fit()\n",
    "# print result: parameter vector beta, statistics, ...\n",
    "print(pfit.summary())\n"
   ]
  },
  {
   "cell_type": "markdown",
   "metadata": {
    "slideshow": {
     "slide_type": "slide"
    }
   },
   "source": [
    "### Extremwertverteilung (komplementäre-log-log)"
   ]
  },
  {
   "cell_type": "code",
   "execution_count": 24,
   "metadata": {
    "slideshow": {
     "slide_type": "fragment"
    }
   },
   "outputs": [
    {
     "name": "stdout",
     "output_type": "stream",
     "text": [
      "                 Generalized Linear Model Regression Results                  \n",
      "==============================================================================\n",
      "Dep. Variable:           ['y1', 'y2']   No. Observations:                    8\n",
      "Model:                            GLM   Df Residuals:                        6\n",
      "Model Family:                Binomial   Df Model:                            1\n",
      "Link Function:                cloglog   Scale:                             1.0\n",
      "Method:                          IRLS   Log-Likelihood:                -14.856\n",
      "Date:                Wed, 03 May 2017   Deviance:                       3.5143\n",
      "Time:                        10:19:06   Pearson chi2:                   0.0549\n",
      "No. Iterations:                     6                                         \n",
      "==============================================================================\n",
      "                 coef    std err          z      P>|z|      [0.025      0.975]\n",
      "------------------------------------------------------------------------------\n",
      "const         -0.5215      0.094     -5.520      0.000      -0.707      -0.336\n",
      "x1            22.0147      1.797     12.251      0.000      18.493      25.537\n",
      "==============================================================================\n"
     ]
    }
   ],
   "source": [
    "'''same same, but extreme values'''\n",
    "# supply data to probit model and call fit:\n",
    "#    start-values, iterate, calculate statistics ...\n",
    "efit = sm.GLM(endog=yz, exog=Xz, family=sm\n",
    "              .families.Binomial(link=sm.families.links.cloglog)).fit()\n",
    "# print result: parameter vector beta, statistics, ...\n",
    "print(efit.summary())\n"
   ]
  },
  {
   "cell_type": "markdown",
   "metadata": {
    "slideshow": {
     "slide_type": "slide"
    }
   },
   "source": [
    "### Vergleich der drei Modelle"
   ]
  },
  {
   "cell_type": "code",
   "execution_count": 25,
   "metadata": {
    "slideshow": {
     "slide_type": "skip"
    }
   },
   "outputs": [
    {
     "data": {
      "image/png": "[encoded data removed]",
      "text/plain": [
       "<matplotlib.figure.Figure at 0x7f925730b6a0>"
      ]
     },
     "metadata": {},
     "output_type": "display_data"
    }
   ],
   "source": [
    "'''show result of several fits together with data'''\n",
    "plt.figure( figsize=(8,5))\n",
    "dgrid = np.linspace(-0.25, +0.25, 50+1)\n",
    "xgrid = sm.add_constant(dgrid)\n",
    "plt.plot(logdose, killed/n, 'bo', label='data')                         # data \n",
    "plt.plot(dgrid+mdose, pfit.predict(xgrid), 'g-', label='probit fit')    # ... for prediction\n",
    "plt.plot(dgrid+mdose, zfit.predict(xgrid), 'r--', label='logit fit')    # ... for prediction\n",
    "plt.plot(dgrid+mdose, efit.predict(xgrid), 'c-', label='c-log-log fit') # ... for prediction\n",
    "plt.axis((1.6, 1.9, 0., 1.1))\n",
    "plt.title('lethal dose of $CS_2$')\n",
    "plt.xlabel('log dose mg/l')\n",
    "plt.ylabel('proportion killed')\n",
    "plt.legend(loc='upper left');"
   ]
  },
  {
   "cell_type": "markdown",
   "metadata": {
    "slideshow": {
     "slide_type": "subslide"
    }
   },
   "source": [
    "### Jedoch kein direkter Vergleich möglich!\n",
    "Siehe Kapitel Modellvergleich und Deviance\n",
    "\n",
    "Die Entscheidung für ein Modell muß aus der Theorie kommen.\n",
    "- Ob das Modell dann angemessen ist, *das* kann getestet werden."
   ]
  },
  {
   "cell_type": "markdown",
   "metadata": {
    "slideshow": {
     "slide_type": "subslide"
    }
   },
   "source": [
    "# Fragen?\n",
    "----"
   ]
  },
  {
   "cell_type": "markdown",
   "metadata": {
    "slideshow": {
     "slide_type": "slide"
    }
   },
   "source": [
    "# Kategoriale abhängige Variable\n",
    "\n",
    "## Dichotome Variable\n",
    "- Ja/Nein-Experiment\n",
    "- Merkmal liegt vor/liegt nicht vor"
   ]
  },
  {
   "cell_type": "markdown",
   "metadata": {
    "collapsed": true,
    "slideshow": {
     "slide_type": "slide"
    }
   },
   "source": [
    "# Experiment Wahrnehmungsschwelle \n",
    "- Gabor-Muster\n",
    "- Kontrast \n",
    "\n",
    "$$\\quad\\text{contrast} \\in \\{0\\dots 1\\}$$ \n",
    "$$[100\\%, 20\\%, 4\\%, 0.8\\%]$$"
   ]
  },
  {
   "cell_type": "code",
   "execution_count": 28,
   "metadata": {
    "slideshow": {
     "slide_type": "fragment"
    }
   },
   "outputs": [
    {
     "data": {
      "image/png": "[encoded data removed]",
      "text/plain": [
       "<IPython.core.display.Image object>"
      ]
     },
     "execution_count": 28,
     "metadata": {
      "image/png": {
       "width": "80%"
      }
     },
     "output_type": "execute_result"
    }
   ],
   "source": []
  },
  {
   "cell_type": "markdown",
   "metadata": {
    "slideshow": {
     "slide_type": "fragment"
    }
   },
   "source": [
    "- Streifenbreite $\\text{spatial frequency:}\\;x\\text{ cpd}$"
   ]
  },
  {
   "cell_type": "markdown",
   "metadata": {
    "slideshow": {
     "slide_type": "subslide"
    }
   },
   "source": [
    "## Durchführung\n",
    "- 12 Kontraste\n",
    "- 20 Wiederholungen jeweils"
   ]
  },
  {
   "cell_type": "markdown",
   "metadata": {
    "slideshow": {
     "slide_type": "fragment"
    }
   },
   "source": [
    "## Gemessener Datensatz\n"
   ]
  },
  {
   "cell_type": "code",
   "execution_count": 27,
   "metadata": {
    "slideshow": {
     "slide_type": "fragment"
    }
   },
   "outputs": [
    {
     "name": "stdout",
     "output_type": "stream",
     "text": [
      "type of dataset is <class 'dict'>\n",
      "{'contrasts': array([[ 0.003 ,  0.004 ,  0.005 ,  0.0055,  0.006 ,  0.0065,  0.007 ,\n",
      "         0.0075,  0.008 ,  0.009 ,  0.01  ,  0.012 ]]), 'frequencies': array([[3]], dtype=uint8), 'results': array([[ 3.        ,  0.007     ,  1.        ,  1.        ,  0.08333333,\n",
      "         0.51186373],\n",
      "       [ 3.        ,  0.009     ,  2.        ,  2.        ,  0.25      ,\n",
      "         0.47798932],\n",
      "       [ 3.        ,  0.004     ,  1.        ,  1.        ,  0.75      ,\n",
      "         0.37954401],\n",
      "       ..., \n",
      "       [ 3.        ,  0.003     ,  2.        ,  2.        ,  0.16666667,\n",
      "         0.4236919 ],\n",
      "       [ 3.        ,  0.0065    ,  2.        ,  1.        ,  0.33333333,\n",
      "         0.40862558],\n",
      "       [ 3.        ,  0.009     ,  2.        ,  2.        ,  0.66666667,\n",
      "         0.33939254]]), '__header__': b'MATLAB 5.0 MAT-file, Platform: GLNXA64, Created on: Wed Feb 19 10:36:13 2014', '__globals__': [], '__version__': '1.0'}\n"
     ]
    }
   ],
   "source": [
    "'''load matlab data with python'''\n",
    "mat = scipy.io.loadmat('data/Heiko2014_02_19_1026.mat')   # Python can handle Matlab-data\n",
    "print('type of dataset is {}'.format(type(mat)))          # as a dictionary\n",
    "print(mat)"
   ]
  },
  {
   "cell_type": "code",
   "execution_count": 28,
   "metadata": {
    "slideshow": {
     "slide_type": "subslide"
    }
   },
   "outputs": [
    {
     "name": "stdout",
     "output_type": "stream",
     "text": [
      "shape of <class 'numpy.ndarray'> data is (240, 6)\n",
      "first 5 lines of data:\n",
      "[[ 3.          0.007       1.          1.          0.08333333  0.51186373]\n",
      " [ 3.          0.009       2.          2.          0.25        0.47798932]\n",
      " [ 3.          0.004       1.          1.          0.75        0.37954401]\n",
      " [ 3.          0.008       1.          1.          0.83333333  0.32682218]\n",
      " [ 3.          0.0065      2.          1.          0.08333333  0.53323135]]\n"
     ]
    }
   ],
   "source": [
    "'''get \"results\" part of data out of dictionary'''\n",
    "results = mat['results']\n",
    "print('shape of {} data is {}'.format(type(results), results.shape))\n",
    "print('first 5 lines of data:\\n{}'.format(results[:5]))"
   ]
  },
  {
   "cell_type": "code",
   "execution_count": 29,
   "metadata": {
    "slideshow": {
     "slide_type": "fragment"
    }
   },
   "outputs": [
    {
     "name": "stdout",
     "output_type": "stream",
     "text": [
      "<class 'pandas.core.frame.DataFrame'>\n",
      "RangeIndex: 240 entries, 0 to 239\n",
      "Data columns (total 6 columns):\n",
      "spatialfreq    240 non-null float64\n",
      "contrast       240 non-null float64\n",
      "lpattern       240 non-null float64\n",
      "lanswer        240 non-null float64\n",
      "val            240 non-null float64\n",
      "rt             240 non-null float64\n",
      "dtypes: float64(6)\n",
      "memory usage: 11.3 KB\n"
     ]
    }
   ],
   "source": [
    "'''make a pandas DataFrame with speaking names'''\n",
    "x = pd.DataFrame(mat['results'])\n",
    "x.columns = ['spatialfreq', 'contrast', 'lpattern', 'lanswer', 'val', 'rt' ]\n",
    "x.info()"
   ]
  },
  {
   "cell_type": "code",
   "execution_count": 30,
   "metadata": {
    "slideshow": {
     "slide_type": "subslide"
    }
   },
   "outputs": [
    {
     "name": "stdout",
     "output_type": "stream",
     "text": [
      "   spatialfreq  contrast  answer\n",
      "0          3.0    0.0070       1\n",
      "1          3.0    0.0090       1\n",
      "2          3.0    0.0040       1\n",
      "3          3.0    0.0080       1\n",
      "4          3.0    0.0065       0\n",
      "200 correct answers of 240 total\n"
     ]
    }
   ],
   "source": [
    "'''collect correct answers as 1, wrong ones as 0, together with useful data'''\n",
    "# fill new variable with \"wrong\" answer for all,\n",
    "x['answer'] = 0                                    \n",
    "#  except for \"right\" answer\n",
    "x.loc[x['lpattern']==x['lanswer'], 'answer'] = 1   \n",
    "# of interest: answer correct as function of setup\n",
    "mydata = x[['spatialfreq', 'contrast', 'answer']]  \n",
    "print(mydata.head(5))\n",
    "print('{} correct answers of {} total'.format(x['answer'].sum(), len(x)))\n"
   ]
  },
  {
   "cell_type": "code",
   "execution_count": 31,
   "metadata": {
    "slideshow": {
     "slide_type": "skip"
    }
   },
   "outputs": [
    {
     "data": {
      "image/png": "[encoded data removed]",
      "text/plain": [
       "<matplotlib.figure.Figure at 0x7f925746b1d0>"
      ]
     },
     "metadata": {},
     "output_type": "display_data"
    }
   ],
   "source": [
    "'''plot data with density'''\n",
    "mydata.plot(kind='hexbin', x='contrast', y='answer', gridsize=25)\n",
    "plt.xlim(0.0, 0.015)\n",
    "plt.ylim(-0.05, 1.05);\n"
   ]
  },
  {
   "cell_type": "markdown",
   "metadata": {
    "slideshow": {
     "slide_type": "fragment"
    }
   },
   "source": [
    "## Gesucht: Wahrnehmungsschwelle\n",
    "Festgelegte Schwelle zB. $75\\%$"
   ]
  },
  {
   "cell_type": "markdown",
   "metadata": {
    "slideshow": {
     "slide_type": "slide"
    }
   },
   "source": [
    "## Sinnvolle Darstellung der dichotomen Daten\n",
    "Anteil der korrekten Antworten in Prozent"
   ]
  },
  {
   "cell_type": "code",
   "execution_count": 32,
   "metadata": {
    "slideshow": {
     "slide_type": "fragment"
    }
   },
   "outputs": [
    {
     "name": "stdout",
     "output_type": "stream",
     "text": [
      "                      answer\n",
      "spatialfreq contrast        \n",
      "3.0         0.0030      0.55\n",
      "            0.0040      0.70\n",
      "            0.0050      0.55\n",
      "            0.0055      0.85\n",
      "            0.0060      0.85\n",
      "            0.0065      0.75\n",
      "            0.0070      0.90\n",
      "            0.0075      1.00\n",
      "            0.0080      0.90\n",
      "            0.0090      0.95\n",
      "            0.0100      1.00\n",
      "            0.0120      1.00\n"
     ]
    }
   ],
   "source": [
    "data_pc = mydata.groupby(['spatialfreq', 'contrast']).mean()\n",
    "print(data_pc)\n"
   ]
  },
  {
   "cell_type": "code",
   "execution_count": 33,
   "metadata": {
    "slideshow": {
     "slide_type": "slide"
    }
   },
   "outputs": [
    {
     "name": "stdout",
     "output_type": "stream",
     "text": [
      "after resetting, the index columns are back to ['spatialfreq' 'contrast' 'answer']\n"
     ]
    }
   ],
   "source": [
    "data_pc = data_pc.reset_index()\n",
    "print('after resetting, the index columns are back to {}'\n",
    "      .format(data_pc.columns.values))\n"
   ]
  },
  {
   "cell_type": "code",
   "execution_count": 34,
   "metadata": {
    "slideshow": {
     "slide_type": "skip"
    }
   },
   "outputs": [
    {
     "data": {
      "image/png": "[encoded data removed]",
      "text/plain": [
       "<matplotlib.figure.Figure at 0x7f925722b438>"
      ]
     },
     "metadata": {},
     "output_type": "display_data"
    }
   ],
   "source": [
    "'''graph of means \"percent correct answers\" +/-sem'''\n",
    "data_pc.plot(kind='scatter', x='contrast', y='answer', label='% correct')\n",
    "std_pc = mydata.groupby(['spatialfreq', 'contrast']).sem()  # error of mean\n",
    "plt.errorbar(x=data_pc['contrast'], y=data_pc['answer'],    \n",
    "             yerr=std_pc['answer'], linestyle='')  # without connecting default line\n",
    "plt.xlim(0.0, 0.015)\n",
    "plt.legend(loc='lower right');\n"
   ]
  },
  {
   "cell_type": "markdown",
   "metadata": {
    "slideshow": {
     "slide_type": "subslide"
    }
   },
   "source": [
    "## Was ist die Wahrnehmungsschwelle?"
   ]
  },
  {
   "cell_type": "markdown",
   "metadata": {
    "slideshow": {
     "slide_type": "fragment"
    }
   },
   "source": [
    "- Zufall: Rauschen, Zwinkern, Aufmerksamkeit, Müdigkeit,\n",
    "- Kein Zufall: Adaptation, Individualität (Genetik?), ...\n",
    "- Modell\n",
    "- Anpassen\n",
    "- Auswerten"
   ]
  },
  {
   "cell_type": "markdown",
   "metadata": {
    "slideshow": {
     "slide_type": "subslide"
    }
   },
   "source": [
    "## Generalisiertes Lineares Modell\n",
    "- unabhängige Variable: \n",
    "    - Kontrast\n",
    "    - individuelle Versuchperson\n",
    "    - Umgebungshelligkeit\n",
    "    - Streifenmuster (Breite, Winkel, ....)\n",
    "    - ...\n",
    "- abhängige Variable: \n",
    "    - Binomialverteilung 0/1\n",
    "    - Anteil Antwort \"*percent correct*\"\n",
    "- Modellparameter\n",
    "    - y-Achsenabschnitt\n",
    "    - Abhängigkeit vom *Kontrast*\n",
    "    - Logit-Link\n",
    "- Gesucht\n",
    "    - Wahrnehmungsschwelle"
   ]
  },
  {
   "cell_type": "code",
   "execution_count": 36,
   "metadata": {
    "slideshow": {
     "slide_type": "slide"
    }
   },
   "outputs": [
    {
     "name": "stdout",
     "output_type": "stream",
     "text": [
      "                 Generalized Linear Model Regression Results                  \n",
      "==============================================================================\n",
      "Dep. Variable:                 answer   No. Observations:                  240\n",
      "Model:                            GLM   Df Residuals:                      238\n",
      "Model Family:                Binomial   Df Model:                            1\n",
      "Link Function:                  logit   Scale:                             1.0\n",
      "Method:                          IRLS   Log-Likelihood:                -90.718\n",
      "Date:                Wed, 03 May 2017   Deviance:                       181.44\n",
      "Time:                        10:23:49   Pearson chi2:                     209.\n",
      "No. Iterations:                     6                                         \n",
      "==============================================================================\n",
      "                 coef    std err          z      P>|z|      [0.025      0.975]\n",
      "------------------------------------------------------------------------------\n",
      "Intercept     -1.5850      0.598     -2.652      0.008      -2.756      -0.414\n",
      "contrast     525.4312    104.698      5.019      0.000     320.226     730.636\n",
      "==============================================================================\n"
     ]
    }
   ],
   "source": [
    "fit_lin = smf.glm('answer ~ contrast', mydata, \n",
    "                  family=sm.families.Binomial(link=sm.families.links.logit)\n",
    "                 ).fit()\n",
    "print(fit_lin.summary())\n"
   ]
  },
  {
   "cell_type": "code",
   "execution_count": 37,
   "metadata": {
    "slideshow": {
     "slide_type": "skip"
    }
   },
   "outputs": [
    {
     "data": {
      "image/png": "[encoded data removed]",
      "text/plain": [
       "<matplotlib.figure.Figure at 0x7f92565bed30>"
      ]
     },
     "metadata": {},
     "output_type": "display_data"
    }
   ],
   "source": [
    "'''show logit-fit for %correct'''\n",
    "data_pc.plot(kind='scatter', x='contrast', y='answer')  # dataframe's built in graphics\n",
    "plt.errorbar(x=data_pc['contrast'], y=data_pc['answer'],    \n",
    "             yerr=std_pc['answer'], linestyle='')       # without connecting default line\n",
    "x_contrasts = np.linspace(-0.005, 0.015, 100+1)         # contrast values to use\n",
    "x_df = pd.DataFrame(x_contrasts, columns=['contrast'])\n",
    "y_resp = fit_lin.predict(exog = x_df)   # dataframe fullfills format for endog variable\n",
    "plt.plot(x_contrasts, y_resp)           # show predicted result    \n",
    "plt.plot([-0.005, 0.015], 2*[.75], 'g--', label='threashold')\n",
    "plt.ylim(-0.05, 1.05)\n",
    "plt.legend(loc='lower right');\n"
   ]
  },
  {
   "cell_type": "markdown",
   "metadata": {
    "slideshow": {
     "slide_type": "subslide"
    }
   },
   "source": [
    "# Fragen?"
   ]
  },
  {
   "cell_type": "markdown",
   "metadata": {
    "slideshow": {
     "slide_type": "slide"
    }
   },
   "source": [
    "# Zusammenfassung GLM\n",
    "\n",
    "Erweitert das Lineare Modell (siehe OLS in *Angewandte Statistik I*) um eine nicht-lineare Link-Funktion\n",
    "\n",
    "$$\\mathcal{E}(Y_i) = \\mu_i = g^{-1}(\\mathbf{x}_i^T \\boldsymbol\\beta)$$\n",
    "$$Y_i \\sim f(\\mu_i, \\dots)$$\n",
    "\n",
    "- wenige Vorhersage-Parameter $\\beta_j$\n",
    "- zahlreiche Versuche $i\\in[1\\dots n]$\n",
    "    - Versuchsbedingung $\\mathbf{x}^T_i$ der Designmatrix $\\mathbf{X}$\n",
    "- Wahrscheinlichkeitsverteilung $f$ aus der Exponentialfamilie\n",
    "- Link-Funktion $g$\n",
    "    - Umkehrbar\n",
    "    - verformt linearen Zusammenhang\n",
    "    - Verteilung hält Grenzen ein (zB. bei dichotomen Antworten mit $y=\\%\\mathrm{correct} \\in [0, \\,1]$)"
   ]
  },
  {
   "cell_type": "markdown",
   "metadata": {
    "slideshow": {
     "slide_type": "subslide"
    }
   },
   "source": [
    "- Likelihood\n",
    "    - Wahrscheinlichkeitsverteilung der Daten aus Sicht der Parameter\n",
    "- Log-Likelihood\n",
    "    - für Punkt-Schätzung von Parametern mittels Maximierung\n",
    "    - für Intervall-Schätzung bei genäherter Verteilungsstatistik\n",
    "    - Score Statistik $\\mathbf{U}$ und\n",
    "    - Informationsmatrix $\\mathcal{I}$\n",
    "        - IRLS\n",
    "- Deviance\n",
    "    - zum (hierarchischen) Modellvergleich\n",
    "    - sinnvolle Erweiterung der Pearson Quadratfehlersumme"
   ]
  },
  {
   "cell_type": "markdown",
   "metadata": {
    "slideshow": {
     "slide_type": "slide"
    }
   },
   "source": [
    "# Zusammenfassung Python `statsmodels`\n",
    "### `statsmodels.formula.glm(...)`\n",
    "beschreibt ein **lineares Datenmodell**\n",
    "\n",
    "#### Eingabe Datensatz ` data=`\n",
    "`pandas.DataFrame` mit *Variablennamen*\n",
    "- unabhängige Variablen bzw. Designmatrix\n",
    "- abhängigen Variablen\n",
    "\n",
    "#### Eingabe Modell `formula=`\n",
    "`patsy`-Formel mit abhängiger Variable ~ unabhängigen Variablen\n",
    "- `'y ~ x1 + x2 + x3'`\n",
    "- berücksichtigt bereits die Konstantenspalte der Designmatrix *intercept*\n",
    "    - explizit ausschließen `'~ -1'`"
   ]
  },
  {
   "cell_type": "markdown",
   "metadata": {
    "slideshow": {
     "slide_type": "subslide"
    }
   },
   "source": [
    "### `statsmodels.GLM(...)`\n",
    "\n",
    "#### Eingabe Daten\n",
    "- `exog` : unabhängige Variablen in Spalten der Designmatrix $\\mathbf{X}$ \n",
    "    - zusätzlich Konstante *intercept* anfügen `sm.add_constant(X)`\n",
    "    - Bei *Interaktion* sind zusätzliche Spalten zu berechnen\n",
    "- `endog` : abhängige Variable, gemessene Daten $\\mathbf{y}$\n",
    "- family"
   ]
  },
  {
   "cell_type": "markdown",
   "metadata": {
    "slideshow": {
     "slide_type": "subslide"
    }
   },
   "source": [
    "### `fit = statsmodels.___.fit()`\n",
    "\n",
    "    fit.summary()              # lots of information in tabular form\n",
    "\n",
    "#### Ausgabe Parametervektor\n",
    "    fit.params                 # the point estimate of the parameter vector beta\n",
    "    fit.bse                    # their standard deviation\n",
    "    fit.conf_int().T           #   and confidence intervals\n",
    "    fit.tvalues                # z-value (!) of Gauss statistics \n",
    "    fit.pvalues                #   and corresponding p-values\n",
    "\n",
    "#### Ausgabe Fit-Werte\n",
    "    fit.fittedvalues           # predicted values y according to model\n",
    "    fit.predict(x1)            # calculated prediction for y at point x\n",
    "                               #   x=dataframe for smf; x=exog for sm\n",
    "                               #   default=exog -> fittedvalues\n",
    "    fit.resid_response         # residua compared to data\n",
    "\n",
    "#### Ausgabe Statistiken und Kennzahlen\n",
    "    fit.df_model               # degree of freedom for model (without intercept)\n",
    "    fit.df_resid               # degree of freedom for data\n",
    "    fit.deviance               # scaled deviance (RSS for Gaussian)\n"
   ]
  }
 ],
 "metadata": {
  "hide_input": false,
  "kernelspec": {
   "display_name": "Python 3",
   "language": "python",
   "name": "python3"
  },
  "language_info": {
   "codemirror_mode": {
    "name": "ipython",
    "version": 3
   },
   "file_extension": ".py",
   "mimetype": "text/x-python",
   "name": "python",
   "nbconvert_exporter": "python",
   "pygments_lexer": "ipython3",
   "version": "3.5.2"
  }
 },
 "nbformat": 4,
 "nbformat_minor": 1
}
