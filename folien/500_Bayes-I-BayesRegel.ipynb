{
 "cells": [
  {
   "cell_type": "markdown",
   "metadata": {
    "slideshow": {
     "slide_type": "slide"
    }
   },
   "source": [
    "# Bayes-Statistik I"
   ]
  },
  {
   "cell_type": "markdown",
   "metadata": {
    "slideshow": {
     "slide_type": "fragment"
    }
   },
   "source": [
    "- Schlussfolgern nach Bayes\n",
    "- Was ist Bayes-Statistik\n",
    "    - p(Parameter)\n",
    "- Exakte Mathematische Berechnung\n",
    "    - Bernoulli-Experiment\n",
    "    - Beta-Verteilung\n",
    "    - Interpretation\n",
    "- Posterior Stichproben\n",
    "    - Gitter-Näherung\n",
    "    - MCMC"
   ]
  },
  {
   "cell_type": "markdown",
   "metadata": {
    "slideshow": {
     "slide_type": "slide"
    }
   },
   "source": [
    "# Schlussfolgern nach Bayes"
   ]
  },
  {
   "cell_type": "markdown",
   "metadata": {
    "slideshow": {
     "slide_type": "fragment"
    }
   },
   "source": [
    "### Beispiel WG\n",
    "\n",
    "- Ludger ist penibel\n",
    "- Erik ist gutmütig\n",
    "- Michael läßt seine Sachen herumliegen, drückt sich um das Müllruntertragen\n",
    "\n",
    "Sie kommen nach Hause, die Küche ist ein Saustall. $\\qquad\\Rightarrow$ **Wer wars?**"
   ]
  },
  {
   "cell_type": "markdown",
   "metadata": {
    "slideshow": {
     "slide_type": "fragment"
    }
   },
   "source": [
    "#### Kalendereintrag\n",
    "\n",
    "Michael ist seit 2 Wochen im Urlaub. $\\qquad\\Rightarrow$ **Wer wars?**"
   ]
  },
  {
   "cell_type": "markdown",
   "metadata": {
    "slideshow": {
     "slide_type": "fragment"
    }
   },
   "source": [
    "#### Kühlschrank-Notiz \n",
    "\n",
    "von Ludger \"sorry, mußte dringend weg, mache später sauber\". $\\qquad\\Rightarrow$ **Wer wars?**"
   ]
  },
  {
   "cell_type": "markdown",
   "metadata": {
    "slideshow": {
     "slide_type": "slide"
    }
   },
   "source": [
    "# Satz von Bayes\n",
    "\n",
    "Thomas Bayes (1702-1761)\n",
    "\n",
    "$$p(A\\,|\\,B) = \\frac{p(B\\,|\\,A)\\,p(A)}{p(B)}$$\n",
    "\n",
    "verknüpft bedingte Wahrscheinlichkeit $p(A|B)$ zweier Zufallsvariablen $A$ und $B$ <br>\n",
    "mit bedingter Wahrscheinlichkeit $p(B|A)$\n",
    "- Verbundwahrscheinlichkeiten $\\;p(A,B) = p(A|B)p(B)\\;$ und $\\;p(A,B) = p(B|A)p(A)\\;$"
   ]
  },
  {
   "cell_type": "markdown",
   "metadata": {
    "slideshow": {
     "slide_type": "subslide"
    }
   },
   "source": [
    "## Beispiel Bluttest\n",
    "\n",
    "- Treffer-Rate von $99\\%$ bei vorliegender Krankheit\n",
    "- Fehler-Rate von $5\\%$ für gesunde Personen\n",
    "- Die Krankheit ist relativ selten in der Bevölkerung: $0,1\\%$\n",
    "\n",
    "### Wie wahrscheinlich ist es, daß man bei positivem Test die Krankheit hat?\n",
    "\n",
    "- $\\geq 99\\%$\n",
    "- $\\geq 95\\%$\n",
    "- $\\geq 90\\%$\n",
    "- $\\geq 50\\%$\n",
    "- $\\geq 0\\%$\n"
   ]
  },
  {
   "cell_type": "markdown",
   "metadata": {
    "slideshow": {
     "slide_type": "subslide"
    }
   },
   "source": [
    "### 100.000 Leute\n",
    "\n",
    "                  | krank   | gesund  | Summe\n",
    "    | Test+       |         |         |  \n",
    "    | Test-       |         |         |\n",
    "    | Summe:      |    100  | 99.900  | 100.000"
   ]
  },
  {
   "cell_type": "markdown",
   "metadata": {
    "slideshow": {
     "slide_type": "subslide"
    }
   },
   "source": [
    "### 100.000 Leute\n",
    "                  \n",
    "                  | krank   | gesund  | Summe\n",
    "    | Test+       |     99  |         |  \n",
    "    | Test-       |      1  |         |\n",
    "    | Summe:      |    100  | 99.900  | 100.000"
   ]
  },
  {
   "cell_type": "markdown",
   "metadata": {
    "slideshow": {
     "slide_type": "subslide"
    }
   },
   "source": [
    "### 100.000 Leute\n",
    "                  \n",
    "                  | krank   | gesund  | Summe\n",
    "    | Test+       |     99  |  4.995  | \n",
    "    | Test-       |      1  | 94.905  | \n",
    "    | Summe:      |    100  | 99.900  | 100.000"
   ]
  },
  {
   "cell_type": "markdown",
   "metadata": {
    "slideshow": {
     "slide_type": "subslide"
    }
   },
   "source": [
    "### 100.000 Leute\n",
    "                  \n",
    "                  | krank   | gesund  | Summe\n",
    "    | Test+       |     99  |  4.995  |   5.094   =>  99/5.094 = 1,9%\n",
    "    | Test-       |      1  | 94.905  |  94.906  \n",
    "    | Summe:      |    100  | 99.900  | 100.000"
   ]
  },
  {
   "cell_type": "markdown",
   "metadata": {
    "slideshow": {
     "slide_type": "subslide"
    }
   },
   "source": [
    "### Mathematisch mit der Regel von Bayes\n",
    "\n",
    "- Krank: K\n",
    "- ja: j\n",
    "- Test: T\n",
    "- pos: +\n",
    "\n",
    "$$\\begin{aligned}\n",
    "p(\\mathrm{Krank}\\!=\\!\\mathrm{ja}|\\mathrm{Test}\\!=\\!\\mathrm{pos}) &= \\frac{p(\\mathrm{Test}\\!=\\!\\mathrm{pos}|\\mathrm{Krank}\\!=\\!\\mathrm{ja})p(\\mathrm{Krank}\\!=\\!\\mathrm{ja})}{p(\\mathrm{Test}\\!=\\!\\mathrm{pos})} \\\\\n",
    "p(\\mathrm{K}\\!=\\!\\mathrm{j}|\\mathrm{T}\\!=\\!\\mathrm{+}) &= \\frac{p(\\mathrm{T}\\!=\\!\\mathrm{+}|\\mathrm{K}\\!=\\!\\mathrm{j})p(\\mathrm{K}\\!=\\!\\mathrm{j})}{p(\\mathrm{T}\\!=\\!\\mathrm{+})}\n",
    "\\end{aligned}$$"
   ]
  },
  {
   "cell_type": "markdown",
   "metadata": {
    "slideshow": {
     "slide_type": "fragment"
    }
   },
   "source": [
    "$$\n",
    "= \\frac{p(\\mathrm{Test}\\!=\\!\\mathrm{pos}|\\mathrm{Krank}\\!=\\!\\mathrm{ja})p(\\mathrm{Krank}\\!=\\!\\mathrm{ja})}{p(\\mathrm{Test}\\!=\\!\\mathrm{pos},\\mathrm{Krank}\\!=\\!\\mathrm{ja})+p(\\mathrm{Test}\\!=\\!\\mathrm{pos},\\mathrm{Krank}\\!=\\!\\mathrm{nein})}\n",
    "$$"
   ]
  },
  {
   "cell_type": "markdown",
   "metadata": {
    "slideshow": {
     "slide_type": "fragment"
    }
   },
   "source": [
    "$$\n",
    "\\qquad\\qquad = \\frac{p(\\mathrm{Test}\\!=\\!\\mathrm{pos}|\\mathrm{Krank}\\!=\\!\\mathrm{ja})p(\\mathrm{Krank}\\!=\\!\\mathrm{ja})}{p(\\mathrm{Test}\\!=\\!\\mathrm{pos}|\\mathrm{Krank}\\!=\\!\\mathrm{ja})p(\\mathrm{Krank}\\!=\\!\\mathrm{ja})+p(\\mathrm{Test}\\!=\\!\\mathrm{pos}|\\mathrm{Krank}\\!=\\!\\mathrm{nein})p(\\mathrm{Krank}\\!=\\!\\mathrm{nein})}\n",
    "$$"
   ]
  },
  {
   "cell_type": "markdown",
   "metadata": {
    "slideshow": {
     "slide_type": "fragment"
    }
   },
   "source": [
    "$$p(\\mathrm{Krank}\\!=\\!\\mathrm{ja}|\\mathrm{Test}\\!=\\!\\mathrm{pos}) = \\frac{99\\%\\cdot 0.1\\%}{99\\%\\cdot 0.1\\%\n",
    "+ 5\\%\\cdot 99.9\\%}$$"
   ]
  },
  {
   "cell_type": "markdown",
   "metadata": {
    "slideshow": {
     "slide_type": "fragment"
    }
   },
   "source": [
    "$$\\qquad\\qquad\\qquad = \\frac{0.00099}{0.00099+0.04995} = 1.9\\%$$"
   ]
  },
  {
   "cell_type": "markdown",
   "metadata": {
    "slideshow": {
     "slide_type": "subslide"
    }
   },
   "source": [
    "## Ergebnis\n",
    "\n",
    "- alle Möglichkeiten berücksichtigen\n",
    "- Reihenuntersuchung $\\quad\\diagup$\n",
    "- bei Vorhandensein von Symptomen $\\;\\checkmark$"
   ]
  },
  {
   "cell_type": "markdown",
   "metadata": {
    "slideshow": {
     "slide_type": "subslide"
    }
   },
   "source": [
    "### [ÜA]: Wiederholung des Tests\n",
    "Sie haben ein positives Testergebnis erhalten, wissen jedoch nun, daß sie dennoch nur zu 1,9% krank sind.\n",
    "\n",
    "Sie wiederholen den Test und erhalten ein negatives Ergebnis. \n",
    "\n",
    "#### 1) Wie sehr beruhigt Sie das?\n",
    "#### 2) Was wäre im Falle eines (zweiten) positiven Ergebnisses?"
   ]
  },
  {
   "cell_type": "markdown",
   "metadata": {
    "slideshow": {
     "slide_type": "slide"
    }
   },
   "source": [
    "## Beispiel: Haarfarbe & Augenfarbe\n",
    "(Snee 1974; aus Kruschke)\n",
    "\n",
    "    %      schwarz brünett   rot   blond | Randv.\n",
    "    -------------------------------------+--------\n",
    "    braun    11      20       4       1  |  37\n",
    "    blau      3      14       3      16  |  36\n",
    "    nuss      3       9       3       2  |  16\n",
    "    grün      1       5       2       3  |  11\n",
    "    -------------------------------------+--------\n",
    "    Randv.   18      48      12      21  | 100"
   ]
  },
  {
   "cell_type": "markdown",
   "metadata": {
    "slideshow": {
     "slide_type": "fragment"
    }
   },
   "source": [
    "#### Bedingte Wahrscheinlichkeiten: Augenfarbe je Haarfarbe\n",
    "\n",
    "    %      schwarz brünett   rot   blond\n",
    "    blau     17      30      25      76 \n",
    "    -------------------------------------\n",
    "            100     100     100     100"
   ]
  },
  {
   "cell_type": "markdown",
   "metadata": {
    "slideshow": {
     "slide_type": "fragment"
    }
   },
   "source": [
    "$$p(H|A) = \\frac{p(A|H)p(H)}{p(A)}$$"
   ]
  },
  {
   "cell_type": "markdown",
   "metadata": {
    "slideshow": {
     "slide_type": "fragment"
    }
   },
   "source": [
    "#### Bedingte Wahrscheinlichkeiten: Haarfarbe je Augenfarbe\n",
    "\n",
    "    %      schwarz brünett   rot   blond\n",
    "    blau      8      39       8      45  | 100"
   ]
  },
  {
   "cell_type": "markdown",
   "metadata": {
    "slideshow": {
     "slide_type": "slide"
    }
   },
   "source": [
    "# Bayes'sches Schlußfolgern\n",
    "\n",
    "$$\\begin{aligned}\n",
    "p(B|A) &= \\frac{p(A|B)p(B)}{p(A)} \\\\\n",
    " &= \\frac{p(A|B)p(B)}{\\sum_{B'} p(A|B')p(B')}\n",
    "\\end{aligned}$$"
   ]
  },
  {
   "cell_type": "markdown",
   "metadata": {
    "slideshow": {
     "slide_type": "subslide"
    }
   },
   "source": [
    "# Fragen?"
   ]
  },
  {
   "cell_type": "markdown",
   "metadata": {
    "slideshow": {
     "slide_type": "slide"
    }
   },
   "source": [
    "# Was nennt man Bayes Statistik?\n",
    "\n",
    "- Nicht (nur) der *Satz von Bayes*\n",
    "- Statistische Behandlung von Parametern"
   ]
  },
  {
   "cell_type": "markdown",
   "metadata": {
    "slideshow": {
     "slide_type": "fragment"
    }
   },
   "source": [
    "### Frequentistische Statistik\n",
    "- Wahrer Parameter $\\theta$\n",
    "- Streuung, Rauschen, Zufall\n",
    "- Gesetz der großen Zahl, Hauptsatz der Statistik\n",
    "- Schätzer $\\hat\\theta$, Vertrauensbereich, Konfidenzintervall\n",
    "- Nullhypothesen-Signifikanztest (NHST)\n",
    "    - zB. $\\qquad T=\\frac{\\hat{X}-\\mu_0}{\\hat S_X}\\sqrt{n} \\sim t(n-1)\\;$ unter $H_0$"
   ]
  },
  {
   "cell_type": "markdown",
   "metadata": {
    "slideshow": {
     "slide_type": "subslide"
    }
   },
   "source": [
    "### Bayes Statistik\n",
    "- Wahrer Parameter $\\theta$\n",
    "- Wissen über den wahren Parameter\n",
    "    - Verteilung $\\quad p(\\theta)$"
   ]
  },
  {
   "cell_type": "markdown",
   "metadata": {
    "collapsed": true,
    "slideshow": {
     "slide_type": "fragment"
    }
   },
   "source": [
    "$$p(\\theta\\,|\\,\\mathrm{D}) = \\frac{p(\\mathrm{D}\\,|\\,\\theta)\\,p(\\theta)}{p(\\mathrm{D})}$$"
   ]
  },
  {
   "cell_type": "markdown",
   "metadata": {
    "collapsed": true,
    "slideshow": {
     "slide_type": "subslide"
    }
   },
   "source": [
    "$$p(\\theta\\,|\\,\\mathrm{D}) = \\frac{p(\\mathrm{D}\\,|\\,\\theta)\\,p(\\theta)}{p(\\mathrm{D})}$$\n",
    "Bezeichnungen\n",
    "$$posterior = \\frac{likelihood \\cdot prior}{evidence}$$\n",
    "\n",
    "prior: 先验概率\n",
    "posterior: 后验概率\n",
    "\n",
    "mit Normierung im Nenner\n",
    "$$p(D) = \\sum_{\\theta'} p(\\mathrm{D}\\,|\\,\\theta')\\,p(\\theta')$$\n",
    "bzw.\n",
    "$$p(D) = \\int_{\\theta'=-\\infty}^{\\infty} p(\\mathrm{D}\\,|\\,\\theta')\\,p(\\theta')\\,\\mathrm{d}\\theta' \\;=\\mathcal{E}(p(\\mathrm{D}\\,|\\,\\theta')\\,p(\\theta'))$$"
   ]
  },
  {
   "cell_type": "markdown",
   "metadata": {
    "slideshow": {
     "slide_type": "slide"
    }
   },
   "source": [
    "# Anwendung\n",
    "\n",
    "- Vorwissen, Prior $p(\\theta)$\n",
    "- Messung: Daten $D$\n",
    "- Posterior $p(\\theta|D)$\n",
    "- $\\Rightarrow$ neues, verbessertes **Wissen** $p(\\theta)$"
   ]
  },
  {
   "cell_type": "markdown",
   "metadata": {
    "slideshow": {
     "slide_type": "slide"
    }
   },
   "source": [
    "## Reihenfolge der Datenerhebung\n",
    "\n",
    "Messungen $D_1$ und $D_2$\n",
    "\n",
    "#### Spielt die Reihenfolge eine Rolle?\n",
    "\n",
    "$p(\\theta|D_1, D_2)$ und $p(\\theta|D_2, D_1)$"
   ]
  },
  {
   "cell_type": "markdown",
   "metadata": {
    "slideshow": {
     "slide_type": "subslide"
    }
   },
   "source": [
    "### Voraussetzung: Unabhängigkeit der Messungen\n",
    "\n",
    "Likelihood $\\;p(D_1, D_2|\\theta) = p(D_1|\\theta)\\cdot p(D_2|\\theta)$\n",
    "\n",
    "$\\Rightarrow$ Reihenfolge spielt keine Rolle für Likelihood"
   ]
  },
  {
   "cell_type": "markdown",
   "metadata": {
    "slideshow": {
     "slide_type": "fragment"
    }
   },
   "source": [
    "Posterior <br>\n",
    "$\\begin{align}\n",
    "p(\\theta|D_1, D_2) &= \\frac{p(D_1, D_2|\\theta)p(\\theta)}{\\sum_{\\theta'}p(D_1, D_2|\\theta')p(\\theta')} \\\\\n",
    "&= \\frac{p(D_1|\\theta)p(D_2|\\theta)p(\\theta)}{\\sum_{\\theta'}p(D_1|\\theta')p(D_2|\\theta)p(\\theta')} \\\\\n",
    "&= \\frac{p(D_2|\\theta)p(D_1|\\theta)p(\\theta)}{\\sum_{\\theta'}p(D_2|\\theta')p(D_1|\\theta)p(\\theta')} \\\\\n",
    "&= p(\\theta|D_2, D_1)\n",
    "\\end{align}$\n",
    "\n",
    "$\\Rightarrow$ Reihenfolge spielt keine Rolle für Posterior"
   ]
  },
  {
   "cell_type": "markdown",
   "metadata": {
    "slideshow": {
     "slide_type": "subslide"
    }
   },
   "source": [
    "# Fragen?"
   ]
  }
 ],
 "metadata": {
  "celltoolbar": "Slideshow",
  "kernelspec": {
   "display_name": "Python 3",
   "language": "python",
   "name": "python3"
  },
  "language_info": {
   "codemirror_mode": {
    "name": "ipython",
    "version": 3
   },
   "file_extension": ".py",
   "mimetype": "text/x-python",
   "name": "python",
   "nbconvert_exporter": "python",
   "pygments_lexer": "ipython3",
   "version": "3.6.5"
  },
  "latex_envs": {
   "LaTeX_envs_menu_present": true,
   "autoclose": false,
   "autocomplete": true,
   "bibliofile": "biblio.bib",
   "cite_by": "apalike",
   "current_citInitial": 1,
   "eqLabelWithNumbers": true,
   "eqNumInitial": 1,
   "hotkeys": {
    "equation": "Ctrl-E",
    "itemize": "Ctrl-I"
   },
   "labels_anchors": false,
   "latex_user_defs": false,
   "report_style_numbering": false,
   "user_envs_cfg": false
  }
 },
 "nbformat": 4,
 "nbformat_minor": 1
}
