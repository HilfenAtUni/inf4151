{
 "cells": [
  {
   "cell_type": "markdown",
   "metadata": {},
   "source": [
    "(für später, bitte dieses Feld stehenlassen)\n",
    "\n",
    "# Korrektur\n",
    "\n",
    "Viel Erfolg!\n",
    "\n",
    "### Bewertung\n",
    "\n",
    "#### _/15 Punkte\n",
    "\n",
    "----"
   ]
  },
  {
   "cell_type": "code",
   "execution_count": 1,
   "metadata": {
    "collapsed": true
   },
   "outputs": [],
   "source": [
    "# standard libraries, not all are needed \n",
    "import numpy as np                      # all of math \n",
    "from scipy import stats                 # statistical methods\n",
    "import pandas as pd                     # for Dataframes\n",
    "import statsmodels.api as sm            # contains GLM\n",
    "import statsmodels.formula.api as smf   # same glm with patsy \n",
    "import patsy                            # handles formula strings\n",
    "from matplotlib import pyplot as plt    # plotting methods\n",
    "# The following keeps graphics inline=persistent within this notebook after saving/closing\n",
    "%matplotlib inline"
   ]
  },
  {
   "cell_type": "markdown",
   "metadata": {},
   "source": [
    "# GLM"
   ]
  },
  {
   "cell_type": "markdown",
   "metadata": {},
   "source": [
    "#### Bitte lösen sie die Aufgaben und mindestens einen Bonus-Teil\n",
    "- innerhalb dieses Notebooks \n",
    "- welches Sie bitte umbenennen in `A01_IHRNAME.ipynb` (IHRNAME passend ersetzen)\n",
    "\n",
    "und schicken \n",
    "\n",
    "#### bis zum <span style=\"color:red\">Montag 7. Mai 2018 23:00</span>\n",
    "eine Email\n",
    "- mit Betreff `Angewandte Statistik II`\n",
    "- an `uli.wannek@uni-tuebingen.de`\n",
    "- mit dem ausgeführten Notebook als Anhang\n",
    "\n",
    "#### Danke!"
   ]
  },
  {
   "cell_type": "markdown",
   "metadata": {},
   "source": [
    "### Hinweise\n",
    "- Text-Antworten sowie $\\LaTeX$-Formeln am besten in *markdown* Zellen\n",
    "    - Sie müssen nicht, dürfen aber durchaus, Text in `print('')`-Anweisungen ausgeben\n",
    "    - Wenn Sie Ergebnisse aus Zellen verwenden ist `print('{}'.format())` in code-Zellen hingegen extrem praktisch\n",
    "- Sie dürfen in diesem Notebook gerne alles, was nicht zu den Aufgaben gehört, löschen.\n",
    "- Sie dürfen gerne (zu Ihrem späteren **und** meinem jetzigen Verständnis) Kommentare in weiteren markdown-Zellen einfügen. Das hilft wirklich!\n",
    "- Es gibt Punkte für\n",
    "    - Ihre Überlegung\n",
    "    - Ihr Programm\n",
    "    - Ihre Kommentare(!)\n",
    "    - und schließlich für das richtige Ergebnis\n",
    "    - mit Zusammenfassung wie zB.: *\"der Mittelwert beträgt 17km/h\"*\n",
    "- Sie dürfen (müssen aber nicht) alle Antworten natürlich auch auch auf Deutsch verfassen.\n",
    "- Lediglich Kommentare in Code-Zellen sollten (müssen aber nicht) englisch sein.    \n",
    "\n",
    "#### Zu erreichende Punkte\n",
    "(15 Punkte)"
   ]
  },
  {
   "cell_type": "markdown",
   "metadata": {},
   "source": [
    "# Aufgabe 1: Ohnmacht\n",
    "\n",
    "#### Fitten Sie das Beispiel der Jet-Piloten mit Blackout\n",
    "mit einem Binomial-Modell mit Logit Link-Funktion"
   ]
  },
  {
   "cell_type": "markdown",
   "metadata": {},
   "source": [
    "#### Was bedeuten die Parameter?\n",
    "- die der Fit zurückgibt?\n",
    "- Wie lautet die Logit-Funktion?"
   ]
  },
  {
   "cell_type": "markdown",
   "metadata": {},
   "source": [
    "#### Reproduzieren Sie damit die Graphik\n",
    "mit Beschriftung für die Daten und das Logit-Modell\n",
    "- x-Achse: Alter\n",
    "- y-Achse: Wahrscheinlichkeit für Blackout"
   ]
  },
  {
   "cell_type": "markdown",
   "metadata": {},
   "source": [
    "#### Wie groß ist die Wahrscheinlichkeit\n",
    "- für eine 45-Jährige, einen Blackout zu erleiden?\n",
    "- Wie groß ist sein Chancenverhältnis (odds-ratio)\n",
    "- Wie groß ist sein logarithmiertes Chancenverhältnis (log-odds-ratio)"
   ]
  },
  {
   "cell_type": "markdown",
   "metadata": {},
   "source": [
    "#### Bonus: Wie groß ist die Deviance \n",
    "- für das Modell (aus der Theorie)?\n",
    "    - Geben Sie die Formel an, es genügt eine Python-Formel (mit Kommentar), berechnen Sie sie damit numerisch\n",
    "- wie groß die aus dem `fit()` erhaltene Deviance?\n",
    "- und wie hängen diese zusammen?\n",
    "\n",
    "Obacht, bei Fehlern bitte nachdenken."
   ]
  },
  {
   "cell_type": "markdown",
   "metadata": {},
   "source": [
    "(5+1 Punkte)"
   ]
  },
  {
   "cell_type": "markdown",
   "metadata": {},
   "source": [
    "# Aufgabe 2: Säugetiergehirne\n",
    "\n",
    "#### Wie schwer sollte das Gehirn eines Erdhörnchens*Groundsquirrel* sein\n",
    "- wenn es dem Modell \"ein Säugetier\" entspricht\n",
    "- wenn es dem Modell \"Affe\" entspricht\n",
    "- wenn es dem Modell \"Säugetier ohne Affen\" entspricht\n",
    "- wenn es dem gewichteten ($n_{Affe}$ und $n_{\\overline{Affe}}$) Mittel ein Mischwesen \"Affe - kein Affe\" wäre"
   ]
  },
  {
   "cell_type": "markdown",
   "metadata": {},
   "source": [
    "#### Erklären Sie jeweils den Unterschied\n",
    "... der obigen sowie dem gemessenen Gewicht in ein paar Sätzen. \n",
    "\n",
    "Was schließen Sie daraus?"
   ]
  },
  {
   "cell_type": "markdown",
   "metadata": {},
   "source": [
    "#### Hinweis\n",
    "Orientieren Sie sich an den Modellen aus der Vorlesung, berechnen Sie die Vorhersage mit den glm-Methoden aus dem Fit heraus, indem Sie eine passende (*exogene*) Variable (*predictor*) als `DataFrame` übergeben. Oder bequemer das *Formel*-Modell benutzen."
   ]
  },
  {
   "cell_type": "markdown",
   "metadata": {},
   "source": [
    "#### Bonus\n",
    "Ist der Mensch im Datensatz auch für das separierte Modell und die Kategorie \"Affe\" ein Ausreißer ($\\alpha=5\\%$)?"
   ]
  },
  {
   "cell_type": "markdown",
   "metadata": {},
   "source": [
    "(3+1 Punkte)"
   ]
  },
  {
   "cell_type": "markdown",
   "metadata": {},
   "source": [
    "# Aufgabe 3: Vererbung der Augenfarbe\n",
    "\n",
    "Galton (1889) hat die Vererbung von Augenfarbe (hell, dunkel, mittel/gemischt) anhand 78 Großfamilien mit mindestens 6 Kindern untersucht.\n",
    "- Augenfarbe der Eltern P: (H: *hazel* (grün-braun), L: *light* oder D: *dark*)\n",
    "- Augenfarbe der Großeltern G: (wie Eltern)\n",
    "- Augenfarbe der Kinder (L: *light*)\n",
    "In der Tabelle (csv-Datei) ist für jede Familie die Anzahl der Eltern/Großeltern je Augenfarbenmerkmal sowie die Anzahl der Kinder der Familie N und die der helläugigen darunter L angegeben."
   ]
  },
  {
   "cell_type": "markdown",
   "metadata": {},
   "source": [
    "#### Laden Sie den Datensatz\n",
    "und erstellen Sie passende Kategorien\n",
    "- für Eltern (wie viele Kategorien für die Kombinationmöglichkeiten?)\n",
    "- und Großeltern (wie viele Kategorien für diese Kombinationsmöglichkeiten?)\n",
    "- sowie für die abhängige Variable $y$ der hellen Augenfarbe unter den Geschwistern\n",
    "    - Was wählen Sie als sinnvolle abhängige Variable y?\n",
    "    - Welche Verteilung ist für diese Variable angemessen? \n",
    "- **Hinweis:** ein `'C(x)'` im Patsy-String kategorisiert eine ansonsten metrische Variable $x$\n",
    "und fügen diese drei Größen Pi, Gi und y als neue Variablen dem Datensatz hinzu"
   ]
  },
  {
   "cell_type": "markdown",
   "metadata": {},
   "source": [
    "#### Fit P\n",
    "Passen Sie ein Modell mit einer Logit-Link-Funktion an.\n",
    "- Beachten Sie zuerst **nur** die Eltern-Daten als lineare unabhängige Variable\n",
    "\n",
    "Den Achsenabschnitt dürfen Sie weglassen."
   ]
  },
  {
   "cell_type": "markdown",
   "metadata": {},
   "source": [
    "#### Ausreißer\n",
    "- Suchen Sie die Ausreißer und verwerfen die Daten der *deutlichen* Ausreißer.\n",
    "- Passen Sie das obige Modell nochmals an"
   ]
  },
  {
   "cell_type": "markdown",
   "metadata": {},
   "source": [
    "#### Ergebnis Eltern\n",
    "- Fassen Sie die Vorhersage für alle Eltern-Kombinationen in einer 3x3 Tabelle zusammen\n",
    "- Was erkennen Sie?\n",
    "- Erklärung?"
   ]
  },
  {
   "cell_type": "markdown",
   "metadata": {},
   "source": [
    "#### Fit G\n",
    "Fügen Sie nun zum Modell die zusätzliche kategorialen Variablen der Großeltern hinzu, auch dieses ohne Achsenabschnittsparameter.\n",
    "- Denken Sie an die Möglichkeit  `'C(x)'` im Patsy-String\n",
    "- Passen Sie das Modell an\n",
    "- Erklären Sie augenscheinliche Unterschiede im `summary()`-Ergebnis zum vorigen nur-Eltern-Modell\n",
    "    - [Erklären heißt erkennen, bennen, Ursache vermuten und begründen]"
   ]
  },
  {
   "cell_type": "markdown",
   "metadata": {},
   "source": [
    "#### Erkennen Sie ein Muster für die Vererbung durch Großeltern?\n",
    "- Plotten Sie hierzu die Originaldaten, die vom Modell P und die vom Modell P+G vorhergesagten Werte (der Einfachheit halber in einem Scatter hintereinanderweg)\n",
    "    - **Hinweis** ohne Angabe eines x-Wertes für den `plt.plot()`-Befehl wird bei DataFrames `x` der interne Index genommen; wollen Sie das vermeiden, wandeln Sie die Daten in ein numpy-nd-array `np.asarray(x)` um\n",
    "    - bei Vektoren (Listen, numpy-nd-arrays) wird automatisch ein neuer Index von 0 ab generiert"
   ]
  },
  {
   "cell_type": "markdown",
   "metadata": {},
   "source": [
    "#### Bonus 1\n",
    "- Versuchen Sie dieses Ergebnis (Einfluß Großeltern) biologisch zu erklären."
   ]
  },
  {
   "cell_type": "markdown",
   "metadata": {},
   "source": [
    "#### Bonus 2\n",
    "- Können Sie manche Ausreißer erklären?"
   ]
  },
  {
   "cell_type": "markdown",
   "metadata": {},
   "source": [
    "(6+1+1 Punkte)"
   ]
  }
 ],
 "metadata": {
  "kernelspec": {
   "display_name": "Python 3",
   "language": "python",
   "name": "python3"
  },
  "language_info": {
   "codemirror_mode": {
    "name": "ipython",
    "version": 3
   },
   "file_extension": ".py",
   "mimetype": "text/x-python",
   "name": "python",
   "nbconvert_exporter": "python",
   "pygments_lexer": "ipython3",
   "version": "3.6.5"
  }
 },
 "nbformat": 4,
 "nbformat_minor": 2
}
