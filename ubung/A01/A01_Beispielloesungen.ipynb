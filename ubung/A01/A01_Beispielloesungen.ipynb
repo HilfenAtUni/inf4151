{
 "cells": [
  {
   "cell_type": "code",
   "execution_count": 1,
   "metadata": {},
   "outputs": [
    {
     "name": "stderr",
     "output_type": "stream",
     "text": [
      "/media/self/develop/branch.git/works/uni/private/fachrichtung/ma/uni_tue_exercise/python3/lib/python3.6/site-packages/statsmodels/compat/pandas.py:56: FutureWarning: The pandas.core.datetools module is deprecated and will be removed in a future version. Please use the pandas.tseries module instead.\n",
      "  from pandas.core import datetools\n"
     ]
    }
   ],
   "source": [
    "# standard libraries, not all are needed \n",
    "import numpy as np                      # all of math \n",
    "from scipy import stats                 # statistical methods\n",
    "import pandas as pd                     # for Dataframes\n",
    "import statsmodels.api as sm            # contains GLM\n",
    "import statsmodels.formula.api as smf   # same glm with patsy \n",
    "import patsy                            # handles formula strings\n",
    "from matplotlib import pyplot as plt    # plotting methods\n",
    "# The following keeps graphics inline=persistent within this notebook after saving/closing\n",
    "%matplotlib inline"
   ]
  },
  {
   "cell_type": "markdown",
   "metadata": {},
   "source": [
    "# GLM"
   ]
  },
  {
   "cell_type": "markdown",
   "metadata": {},
   "source": [
    "# Aufgabe 1: Ohnmacht\n",
    "\n",
    "#### Fitten Sie das Beispiel der Jet-Piloten mit Blackout\n",
    "mit einem Binomial-Modell mit Logit Link-Funktion"
   ]
  },
  {
   "cell_type": "markdown",
   "metadata": {},
   "source": [
    "#### T.F.:"
   ]
  },
  {
   "cell_type": "code",
   "execution_count": 2,
   "metadata": {
    "scrolled": true
   },
   "outputs": [
    {
     "name": "stdout",
     "output_type": "stream",
     "text": [
      "                 Generalized Linear Model Regression Results                  \n",
      "==============================================================================\n",
      "Dep. Variable:                  Signs   No. Observations:                    8\n",
      "Model:                            GLM   Df Residuals:                        6\n",
      "Model Family:                Binomial   Df Model:                            1\n",
      "Link Function:                  logit   Scale:                             1.0\n",
      "Method:                          IRLS   Log-Likelihood:                -4.2173\n",
      "Date:                Mon, 28 May 2018   Deviance:                       8.4345\n",
      "Time:                        10:37:23   Pearson chi2:                     7.42\n",
      "No. Iterations:                     4                                         \n",
      "==============================================================================\n",
      "                 coef    std err          z      P>|z|      [0.025      0.975]\n",
      "------------------------------------------------------------------------------\n",
      "const         -2.9209      2.647     -1.104      0.270      -8.108       2.266\n",
      "Age            0.1057      0.080      1.315      0.188      -0.052       0.263\n",
      "==============================================================================\n"
     ]
    }
   ],
   "source": [
    "# read the data\n",
    "data = pd.read_csv('gforces.txt', sep='\\t',)\n",
    "\n",
    "# prepare x; add a column with 1's\n",
    "data_x = data[['Age']]\n",
    "data_x = sm.add_constant(data_x)\n",
    "\n",
    "\n",
    "# prepare y\n",
    "data_y = data[['Signs']]\n",
    "data_y\n",
    "\n",
    "# fit the model\n",
    "model_jet = sm.GLM(endog=data_y, exog=data_x, \n",
    "                   family=sm.families.Binomial(link=sm.families.links.logit))\n",
    "jet_results = model_jet.fit()\n",
    "# show the results\n",
    "print(jet_results.summary())\n"
   ]
  },
  {
   "cell_type": "markdown",
   "metadata": {},
   "source": [
    "#### Was bedeuten die Parameter?\n",
    "- die der Fit zurückgibt?\n",
    "- Wie lautet die Logit-Funktion?"
   ]
  },
  {
   "cell_type": "markdown",
   "metadata": {},
   "source": [
    "### Antwort:\n",
    "- \"const\"\n",
    "- \"Age\"\n",
    "- Logit-Funktion:"
   ]
  },
  {
   "cell_type": "markdown",
   "metadata": {},
   "source": [
    "#### Reproduzieren Sie damit die Graphik\n",
    "mit Beschriftung für die Daten und das Logit-Modell\n",
    "- x-Achse: Alter\n",
    "- y-Achse: Wahrscheinlichkeit für Blackout"
   ]
  },
  {
   "cell_type": "code",
   "execution_count": 20,
   "metadata": {},
   "outputs": [
    {
     "data": {
      "image/png": "[encoded data removed]",
      "text/plain": [
       "<Figure size 432x288 with 1 Axes>"
      ]
     },
     "metadata": {},
     "output_type": "display_data"
    }
   ],
   "source": [
    "# orignal matrix x\n",
    "dgrid = np.linspace(18, 55)\n",
    "# design martix\n",
    "xgrid = sm.add_constant(dgrid)\n",
    "# test\n",
    "# print(jet_results.fittedvalues)\n",
    "# print('\\n-----{}----- \\n-----{}---- \\n-----{}-----'.format(\n",
    "#     jet_results.params,\n",
    "#     jet_results.params[::2],\n",
    "#     jet_results.params[:2]))\n",
    "# print(dgrid)\n",
    "# print(xgrid)\n",
    "# print(jet_results.summary())\n",
    "\n",
    "# data\n",
    "plt.plot(data[['Age']], data[['Signs']], 'bo', label='data')\n",
    "# fitted\n",
    "plt.plot(data[['Age']], jet_results.fittedvalues, 'ro', label='fitted')\n",
    "# logit fit\n",
    "plt.plot(dgrid, jet_results.predict(xgrid), 'r-', label='logit fit')\n",
    "# label\n",
    "plt.title('Beobachtete und gefittete Daten für die Piloten mit/ohne Blackout')\n",
    "plt.xlabel('Alter')\n",
    "plt.ylabel('Wahrscheinlichkeit für Blackout')\n",
    "plt.legend(loc='lower right');\n"
   ]
  },
  {
   "cell_type": "markdown",
   "metadata": {},
   "source": [
    "#### Wie groß ist die Wahrscheinlichkeit\n",
    "- für eine 45-Jährige, einen Blackout zu erleiden?\n",
    "- Wie groß ist sein Chancenverhältnis (odds-ratio)\n",
    "- Wie groß ist sein logarithmiertes Chancenverhältnis (log-odds-ratio)"
   ]
  },
  {
   "cell_type": "code",
   "execution_count": 5,
   "metadata": {},
   "outputs": [
    {
     "name": "stdout",
     "output_type": "stream",
     "text": [
      "Probability: 0.8623883612488173\n",
      "Odds-ratio: 6.266827203534089\n",
      "log-odds-ratio: 1.835270198424896\n",
      "LOR calculated with the logit function: 1.8356\n"
     ]
    }
   ],
   "source": [
    "# get the probability for a 45 to black out by using the model:\n",
    "p = jet_results.predict([[1, 45]])\n",
    "p = p[0]\n",
    "print('Probability:', p)\n",
    "\n",
    "# calculate the odds-ratio for a 45 year old:\n",
    "print('Odds-ratio:', p / (1-p))\n",
    "\n",
    "# calculate the log-odds-ratio\n",
    "print('log-odds-ratio:', np.log(p / (1-p)))\n",
    "# or:\n",
    "print('LOR calculated with the logit function:', -2.9209+0.1057*45)"
   ]
  },
  {
   "cell_type": "markdown",
   "metadata": {},
   "source": [
    "#### Bonus: Wie groß ist die Deviance \n",
    "- für das Modell (aus der Theorie)?\n",
    "    - Geben Sie die Formel an, es genügt eine Python-Formel (mit Kommentar), berechnen Sie sie damit numerisch\n",
    "- wie groß die aus dem `fit()` erhaltene Deviance?\n",
    "- und wie hängen diese zusammen?\n",
    "\n",
    "Obacht, bei Fehlern bitte nachdenken."
   ]
  },
  {
   "cell_type": "markdown",
   "metadata": {},
   "source": [
    "- Definition Deviance?\n",
    "- Formel gemäß Exponentialfamilie?\n",
    "- Maximales Modell? \n",
    "    - Grenzwerte(!)\n",
    "- Statistik?\n",
    "- Berechnung gemäß Modell\n",
    "- Berechnung gemäß GLM-Fit\n",
    "    - residuale Deviances?  "
   ]
  },
  {
   "cell_type": "markdown",
   "metadata": {},
   "source": [
    "(5+1 Punkte)"
   ]
  },
  {
   "cell_type": "markdown",
   "metadata": {},
   "source": [
    "---"
   ]
  },
  {
   "cell_type": "markdown",
   "metadata": {},
   "source": [
    "# Aufgabe 2: Säugetiergehirne\n",
    "\n",
    "#### Wie schwer sollte das Gehirn eines Erdhörnchens*Groundsquirrel* sein\n",
    "- wenn es dem Modell \"ein Säugetier\" entspricht\n",
    "- wenn es dem Modell \"Affe\" entspricht\n",
    "- wenn es dem Modell \"Säugetier ohne Affen\" entspricht\n",
    "- wenn es dem gewichteten ($n_{Affe}$ und $n_{\\overline{Affe}}$) Mittel ein Mischwesen \"Affe - kein Affe\" wäre"
   ]
  },
  {
   "cell_type": "markdown",
   "metadata": {},
   "source": [
    "#### F.W.:"
   ]
  },
  {
   "cell_type": "code",
   "execution_count": 24,
   "metadata": {
    "scrolled": true
   },
   "outputs": [
    {
     "name": "stdout",
     "output_type": "stream",
     "text": [
      "The weight of a groundsquirrel in the 'Mammal-Model' is predicted as: 1.509000285711569\n",
      "The weight of a groundsquirrel in the 'Ape-Model' is predicted as: 4.3985627509081\n",
      "The weight of a groundsquirrel in the 'None-Ape-Model' is predicted as: 1.3575027372967097\n"
     ]
    }
   ],
   "source": [
    "'''import the dataset from csv file (tab-separated) into a Pandas dataframe object:'''\n",
    "animals = pd.read_csv('animals.txt', sep='\\t')  # tab-separated\n",
    "\n",
    "'''rescale weight because of spread: create new variable from linear data'''\n",
    "animals['log_BodyWt'] = np.log10(animals['BodyWt'])             # new variable, converted from original data\n",
    "animals['log_BrainWt'] = np.log10(animals['BrainWt'])           # new variable, converted from original data\n",
    "animalsdata = animals[['log_BodyWt', 'log_BrainWt', 'Species']] # focus on list of relevant data\n",
    "animalsdata = animalsdata.dropna(axis=0)                        # drop lines with invalid data\n",
    "\n",
    "'''fit linear Gaussian (default) model with Patsy formula'''\n",
    "wfit = smf.glm(formula='log_BrainWt ~ log_BodyWt', data=animalsdata).fit()\n",
    "\n",
    "# get data\n",
    "x = np.asarray(animalsdata['log_BodyWt'])            # extract independent variable\n",
    "y = np.asarray(animalsdata['log_BrainWt'])           # extract dependent variable\n",
    "y_hat = np.asarray(wfit.fittedvalues)                # estimated linear result\n",
    "x_bar = x.mean()\n",
    "\n",
    "'''distinguish monkeys from other mammals'''\n",
    "animalsdata['IsMonkey']='no'                                             # create new variable in dataframe\n",
    "pnames = ['Man', 'Baboon', 'Chimpanzee', 'Gorilla', 'Owlmonkey', \n",
    "          'Patasmonkey', 'Rhesusmonkey', 'Galago' ]                      # list of old world monkeys\n",
    "animalsdata.loc[animalsdata['Species'].isin(pnames), 'IsMonkey'] = 'yes' # locate and change\n",
    "\n",
    "'''enhanced linear model: monkeys ------v  separated from other mammals'''\n",
    "mfit = smf.glm(formula='log_BrainWt ~ IsMonkey + log_BodyWt', data=animalsdata).fit() \n",
    "\n",
    "'''add groundsquirrel to the ape family'''\n",
    "animalsdata.loc[animalsdata['Species'].isin(['Groundsquirrel']), 'IsMonkey'] = 'yes' # locate and change\n",
    "\n",
    "mfit2 = smf.glm(formula='log_BrainWt ~ IsMonkey + log_BodyWt', data=animalsdata).fit() \n",
    "\n",
    "print(\"The weight of a groundsquirrel in the 'Mammal-Model' is predicted as:\", np.power(10,y_hat[26]))\n",
    "print(\"The weight of a groundsquirrel in the 'Ape-Model' is predicted as:\", np.power(10,np.asarray(mfit2.fittedvalues)[26]))\n",
    "print(\"The weight of a groundsquirrel in the 'None-Ape-Model' is predicted as:\", np.power(10,np.asarray(mfit.fittedvalues)[26]))\n"
   ]
  },
  {
   "cell_type": "markdown",
   "metadata": {},
   "source": [
    "#### T.F.:"
   ]
  },
  {
   "cell_type": "code",
   "execution_count": 26,
   "metadata": {},
   "outputs": [
    {
     "name": "stdout",
     "output_type": "stream",
     "text": [
      "Measured weight of the squirrels brain: 4.0\n",
      "Predicted value for model 1: 1.5088580237041396\n",
      "Predicted value for model 2: 4.60348339562958\n",
      "Predicted value for model 3: 1.3576461144981522\n",
      "Predicted value for model 4: 1.7764638281925302\n"
     ]
    }
   ],
   "source": [
    "animalsdata = animals[['Species', 'BodyWt', 'BrainWt', 'log_BodyWt', 'log_BrainWt']].copy()\n",
    "\n",
    "animalsdata['IsMonkey']='no'                                             # create new variable in dataframe\n",
    "pnames = ['Man', 'Baboon', 'Chimpanzee', 'Gorilla', 'Owlmonkey', \n",
    "          'Patasmonkey', 'Rhesusmonkey', 'Galago' ]                      # list of old world monkeys\n",
    "animalsdata.loc[animalsdata['Species'].isin(pnames), 'IsMonkey'] = 'yes' # locate and change\n",
    "\n",
    "gs = animalsdata.loc[animalsdata['Species'] == 'Groundsquirrel']      # the row with the measured data for the squirrel\n",
    "gs_log_weight = np.asarray(gs['log_BodyWt'])[0]\n",
    "\n",
    "brainWt1 = np.power(10, 0.9271+0.7517 * gs_log_weight)\n",
    "brainWt2 = np.power(10, 0.8670+0.5303 * 1 + 0.7374 * gs_log_weight)\n",
    "brainWt3 = np.power(10, 0.8670+0.5303 * 0 + 0.7374 * gs_log_weight)\n",
    "\n",
    "print('Measured weight of the squirrels brain:', np.asarray(gs['BrainWt'])[0])\n",
    "print('Predicted value for model 1:', brainWt1)\n",
    "print('Predicted value for model 2:', brainWt2)\n",
    "print('Predicted value for model 3:', brainWt3)\n",
    "\n",
    "n_M = len(animalsdata.loc[animalsdata['IsMonkey'] == 'yes'])   # number of animals that are monkeys\n",
    "n_nM = len(animalsdata.loc[animalsdata['IsMonkey'] == 'no'])   # number of not-monkes\n",
    "\n",
    "brainWt4 = (brainWt2 * n_M + brainWt3 * n_nM) / (n_M + n_nM)\n",
    "print('Predicted value for model 4:', brainWt4)"
   ]
  },
  {
   "cell_type": "markdown",
   "metadata": {},
   "source": [
    "#### Erklären Sie jeweils den Unterschied\n",
    "... der obigen sowie dem gemessenen Gewicht in ein paar Sätzen. \n",
    "\n",
    "Was schließen Sie daraus?"
   ]
  },
  {
   "cell_type": "markdown",
   "metadata": {},
   "source": [
    "gemessener Wert beträgt 4,0g.\n",
    "\n",
    "Vorhersage Modell \"Säugetier\" ist zu gering\n",
    "\n",
    "Vorhersage erweitertes Modell ist besser\n",
    "\n",
    "Vorhersage erweitertes Modells nicht-Affe ist noch schlechter\n",
    "\n",
    "Erdhörnchen ist ein recht großer Ausreißer, was die Körpergewicht-Gehirngewicht-Rate angeht."
   ]
  },
  {
   "cell_type": "markdown",
   "metadata": {},
   "source": [
    "#### Hinweis\n",
    "Orientieren Sie sich an den Modellen aus der Vorlesung, berechnen Sie die Vorhersage mit den glm-Methoden aus dem Fit heraus, indem Sie eine passende (*exogene*) Variable (*predictor*) als `DataFrame` übergeben. Oder bequemer das *Formel*-Modell benutzen."
   ]
  },
  {
   "cell_type": "markdown",
   "metadata": {},
   "source": [
    "#### Bonus\n",
    "Ist der Mensch im Datensatz auch für das separierte Modell und die Kategorie \"Affe\" ein Ausreißer ($\\alpha=5\\%$)?"
   ]
  },
  {
   "cell_type": "code",
   "execution_count": 27,
   "metadata": {},
   "outputs": [
    {
     "name": "stdout",
     "output_type": "stream",
     "text": [
      "predicted brain weight: 523.6120491888954\n",
      "measured brain weight: 1320.0\n",
      "Ratio between measured and predicted: 2.5209503907420663\n"
     ]
    }
   ],
   "source": [
    "# get the data for a human\n",
    "human = animalsdata.loc[animalsdata['Species'] == 'Man']\n",
    "human_log_BoW = np.asarray(human['log_BodyWt'])[0]\n",
    "human_BrW = np.asarray(human['BrainWt'])[0]\n",
    "\n",
    "# calculate the predicted brain weight for a human for the advanced model and isMonkey? = 1\n",
    "pred_human_BrW = np.power(10, 0.8670+0.5303 * 1 + 0.7374 * human_log_BoW)\n",
    "print('predicted brain weight:', pred_human_BrW)\n",
    "print('measured brain weight:', human_BrW)\n",
    "print('Ratio between measured and predicted:', human_BrW / pred_human_BrW)"
   ]
  },
  {
   "cell_type": "markdown",
   "metadata": {},
   "source": [
    "Der Mensch im Datensatz ist definitiv ein Ausreißer. Gemessen wurden 1320g Gehirnmasse und vorhergesagt wurden nur 524g. Die Diskrepanz zwischen gemessenem und vorhergesagtem Wert beträgt über 250%."
   ]
  },
  {
   "cell_type": "markdown",
   "metadata": {},
   "source": [
    "#### Test(!)"
   ]
  },
  {
   "cell_type": "markdown",
   "metadata": {},
   "source": [
    "(3+1 Punkte)"
   ]
  },
  {
   "cell_type": "markdown",
   "metadata": {},
   "source": [
    "---"
   ]
  },
  {
   "cell_type": "markdown",
   "metadata": {},
   "source": [
    "# Aufgabe 3: Vererbung der Augenfarbe\n",
    "\n",
    "Galton (1889) hat die Vererbung von Augenfarbe (hell, dunkel, mittel/gemischt) anhand 78 Großfamilien mit mindestens 6 Kindern untersucht.\n",
    "- Augenfarbe der Eltern P: (H: *hazel* (grün-braun), L: *light* oder D: *dark*)\n",
    "- Augenfarbe der Großeltern G: (wie Eltern)\n",
    "- Augenfarbe der Kinder (L: *light*)\n",
    "In der Tabelle (csv-Datei) ist für jede Familie die Anzahl der Eltern/Großeltern je Augenfarbenmerkmal sowie die Anzahl der Kinder der Familie N und die der helläugigen darunter L angegeben."
   ]
  },
  {
   "cell_type": "markdown",
   "metadata": {},
   "source": [
    "#### Laden Sie den Datensatz\n",
    "und erstellen Sie passende Kategorien\n",
    "- für Eltern (wie viele Kategorien für die Kombinationmöglichkeiten?)\n",
    "- und Großeltern (wie viele Kategorien für diese Kombinationsmöglichkeiten?)\n",
    "- sowie für die abhängige Variable $y$ der hellen Augenfarbe unter den Geschwistern\n",
    "    - Was wählen Sie als sinnvolle abhängige Variable y?\n",
    "    - Welche Verteilung ist für diese Variable angemessen? \n",
    "- **Hinweis:** ein `'C(x)'` im Patsy-String kategorisiert eine ansonsten metrische Variable $x$\n",
    "und fügen diese drei Größen Pi, Gi und y als neue Variablen dem Datensatz hinzu"
   ]
  },
  {
   "cell_type": "markdown",
   "metadata": {},
   "source": [
    "#### L.G.:"
   ]
  },
  {
   "cell_type": "code",
   "execution_count": 9,
   "metadata": {},
   "outputs": [],
   "source": [
    "# Laden des Datensatzes\n",
    "galton = pd.read_csv('GaltonEyeColorHeredity.csv', sep=',')"
   ]
  },
  {
   "cell_type": "code",
   "execution_count": 10,
   "metadata": {},
   "outputs": [],
   "source": [
    "color_percentage = galton['L']/galton['N'] \n",
    "galton['percentage']=color_percentage  "
   ]
  },
  {
   "cell_type": "markdown",
   "metadata": {},
   "source": [
    "#### Fit P\n",
    "Passen Sie ein Modell mit einer Logit-Link-Funktion an.\n",
    "- Beachten Sie zuerst **nur** die Eltern-Daten als lineare unabhängige Variable\n",
    "\n",
    "Den Achsenabschnitt dürfen Sie weglassen."
   ]
  },
  {
   "cell_type": "code",
   "execution_count": 11,
   "metadata": {
    "scrolled": true
   },
   "outputs": [
    {
     "name": "stdout",
     "output_type": "stream",
     "text": [
      "                 Generalized Linear Model Regression Results                  \n",
      "==============================================================================\n",
      "Dep. Variable:             percentage   No. Observations:                   78\n",
      "Model:                            GLM   Df Residuals:                       72\n",
      "Model Family:                Binomial   Df Model:                            5\n",
      "Link Function:                  logit   Scale:                             1.0\n",
      "Method:                          IRLS   Log-Likelihood:                -36.398\n",
      "Date:                Wed, 09 May 2018   Deviance:                       127.53\n",
      "Time:                        11:49:32   Pearson chi2:                     16.6\n",
      "No. Iterations:                     7                                         \n",
      "==============================================================================\n",
      "                 coef    std err          z      P>|z|      [0.025      0.975]\n",
      "------------------------------------------------------------------------------\n",
      "Intercept      0.5200      0.410      1.268      0.205      -0.284       1.324\n",
      "C(PL)[T.1]     0.4728      0.659      0.717      0.473      -0.819       1.765\n",
      "C(PL)[T.2]     2.4017      0.762      3.154      0.002       0.909       3.894\n",
      "C(PH)[T.1]     0.1309      0.627      0.209      0.835      -1.098       1.359\n",
      "C(PH)[T.2]    -0.1219      1.172     -0.104      0.917      -2.418       2.174\n",
      "C(PD)[T.1]    -0.8056      0.630     -1.278      0.201      -2.041       0.430\n",
      "C(PD)[T.2]    -1.6588      0.833     -1.992      0.046      -3.291      -0.027\n",
      "==============================================================================\n"
     ]
    }
   ],
   "source": [
    "# Fit für PARENTS\n",
    "fit_parents = smf.glm('percentage ~ C(PL) + C(PH) + C(PD)', galton, family=sm.families.Binomial()).fit()\n",
    "print(fit_parents.summary())"
   ]
  },
  {
   "cell_type": "markdown",
   "metadata": {},
   "source": [
    "#### Ausreißer\n",
    "- Suchen Sie die Ausreißer und verwerfen die Daten der *deutlichen* Ausreißer.\n",
    "- Passen Sie das obige Modell nochmals an"
   ]
  },
  {
   "cell_type": "code",
   "execution_count": 12,
   "metadata": {},
   "outputs": [],
   "source": [
    "# Prediction für das fit_parents Model für Definition der Ausreißer\n",
    "prediction_parents = fit_parents.predict (galton.iloc[:,0:3]);\n",
    "\n",
    "variance = prediction_parents - galton['percentage']\n",
    "#plt.plot(variance);"
   ]
  },
  {
   "cell_type": "code",
   "execution_count": 13,
   "metadata": {},
   "outputs": [
    {
     "name": "stdout",
     "output_type": "stream",
     "text": [
      "Indizes der Ausreißer:\n",
      "Int64Index([17, 46], dtype='int64')\n",
      "                 Generalized Linear Model Regression Results                  \n",
      "==============================================================================\n",
      "Dep. Variable:             percentage   No. Observations:                   76\n",
      "Model:                            GLM   Df Residuals:                       70\n",
      "Model Family:                Binomial   Df Model:                            5\n",
      "Link Function:                  logit   Scale:                             1.0\n",
      "Method:                          IRLS   Log-Likelihood:                -33.089\n",
      "Date:                Wed, 09 May 2018   Deviance:                       127.79\n",
      "Time:                        11:49:37   Pearson chi2:                     9.26\n",
      "No. Iterations:                     7                                         \n",
      "==============================================================================\n",
      "                 coef    std err          z      P>|z|      [0.025      0.975]\n",
      "------------------------------------------------------------------------------\n",
      "Intercept      0.6380      0.434      1.469      0.142      -0.213       1.489\n",
      "C(PL)[T.1]     0.5257      0.673      0.781      0.435      -0.793       1.845\n",
      "C(PL)[T.2]     2.7881      0.931      2.995      0.003       0.964       4.613\n",
      "C(PH)[T.1]     0.1838      0.641      0.287      0.774      -1.073       1.441\n",
      "C(PH)[T.2]    -0.2399      1.180     -0.203      0.839      -2.553       2.073\n",
      "C(PD)[T.1]    -0.9765      0.647     -1.509      0.131      -2.245       0.292\n",
      "C(PD)[T.2]    -1.7767      0.845     -2.103      0.035      -3.433      -0.121\n",
      "==============================================================================\n"
     ]
    },
    {
     "data": {
      "image/png": "[encoded data removed]",
      "text/plain": [
       "<Figure size 432x288 with 1 Axes>"
      ]
     },
     "metadata": {},
     "output_type": "display_data"
    }
   ],
   "source": [
    "quantile_75 = variance.quantile(.75)\n",
    "quantile_25 = variance.quantile(.25)\n",
    "inter_quantile = quantile_75 - quantile_25\n",
    "\n",
    "# Definition der deutlichen Ausreißer\n",
    "# Hier habe ich das Doppelte der Definition der normalen Ausreißer genommen\n",
    "obvious_outliers = variance[variance > quantile_75 + 3 * inter_quantile]\n",
    "obvious_outliers = obvious_outliers.append(variance[variance < quantile_25 - 3 * inter_quantile])\n",
    "\n",
    "print('Indizes der Ausreißer:')\n",
    "print (obvious_outliers.index) \n",
    "plt.boxplot(variance);\n",
    "plt.title('Boxplot mit Ausreißer');\n",
    "\n",
    "# Anpassung des Models ohne Ausreißer\n",
    "galton_02 = galton.drop(galton.index[obvious_outliers.index]) \n",
    "fit_parents_outliers = smf.glm('percentage ~ C(PL)+C(PH)+C(PD)', galton_02 ,family=sm.families.Binomial()).fit()\n",
    "print(fit_parents_outliers.summary())"
   ]
  },
  {
   "cell_type": "markdown",
   "metadata": {},
   "source": [
    "Nach meiner Definition habe ich nur 2 Ausreißer klassifiziert."
   ]
  },
  {
   "cell_type": "markdown",
   "metadata": {},
   "source": [
    "#### Ergebnis Eltern\n",
    "- Fassen Sie die Vorhersage für alle Eltern-Kombinationen in einer 3x3 Tabelle zusammen\n",
    "- Was erkennen Sie?\n",
    "- Erklärung?"
   ]
  },
  {
   "cell_type": "code",
   "execution_count": 28,
   "metadata": {},
   "outputs": [
    {
     "data": {
      "image/png": "[encoded data removed]",
      "text/plain": [
       "<Figure size 432x288 with 1 Axes>"
      ]
     },
     "metadata": {},
     "output_type": "display_data"
    }
   ],
   "source": [
    "galtondaten = pd.read_csv(\"GaltonEyeColorHeredity.csv\", sep = \",\") \n",
    "anteilhelleraugen = (galtondaten[\"L\"]/galtondaten[\"N\"]) \n",
    "galtondaten[\"AnteilhellerAugen\"] = anteilhelleraugen \n",
    "alleelternkombis = pd.DataFrame.drop_duplicates(galtondaten.iloc[:,0:3])\n",
    "plt.hist(galtondaten[\"AnteilhellerAugen\"], bins = 25); "
   ]
  },
  {
   "cell_type": "code",
   "execution_count": 32,
   "metadata": {},
   "outputs": [
    {
     "name": "stdout",
     "output_type": "stream",
     "text": [
      "                 Generalized Linear Model Regression Results                  \n",
      "==============================================================================\n",
      "Dep. Variable:      AnteilhellerAugen   No. Observations:                   78\n",
      "Model:                            GLM   Df Residuals:                       72\n",
      "Model Family:                Binomial   Df Model:                            5\n",
      "Link Function:                  logit   Scale:                             1.0\n",
      "Method:                          IRLS   Log-Likelihood:                -36.398\n",
      "Date:                Wed, 09 May 2018   Deviance:                       127.53\n",
      "Time:                        12:09:16   Pearson chi2:                     16.6\n",
      "No. Iterations:                     7                                         \n",
      "==============================================================================\n",
      "                 coef    std err          z      P>|z|      [0.025      0.975]\n",
      "------------------------------------------------------------------------------\n",
      "Intercept      0.5200      0.410      1.268      0.205      -0.284       1.324\n",
      "C(PL)[T.1]     0.4728      0.659      0.717      0.473      -0.819       1.765\n",
      "C(PL)[T.2]     2.4017      0.762      3.154      0.002       0.909       3.894\n",
      "C(PH)[T.1]     0.1309      0.627      0.209      0.835      -1.098       1.359\n",
      "C(PH)[T.2]    -0.1219      1.172     -0.104      0.917      -2.418       2.174\n",
      "C(PD)[T.1]    -0.8056      0.630     -1.278      0.201      -2.041       0.430\n",
      "C(PD)[T.2]    -1.6588      0.833     -1.992      0.046      -3.291      -0.027\n",
      "==============================================================================\n"
     ]
    }
   ],
   "source": [
    "galtonfit = smf.glm(formula = \"AnteilhellerAugen ~ C(PL) + C(PH) + C(PD)\", data = galtondaten, family=sm.families.Binomial()).fit()\n",
    "print(galtonfit.summary()) "
   ]
  },
  {
   "cell_type": "code",
   "execution_count": 33,
   "metadata": {},
   "outputs": [
    {
     "data": {
      "image/png": "[encoded data removed]",
      "text/plain": [
       "<Figure size 432x288 with 1 Axes>"
      ]
     },
     "metadata": {},
     "output_type": "display_data"
    }
   ],
   "source": [
    "elternvorhersagen = galtonfit.predict(galtondaten.iloc[:, 0:3])\n",
    "Abweichungen = anteilhelleraugen - elternvorhersagen \n",
    "plt.boxplot(Abweichungen) \n",
    "QA75 = Abweichungen.quantile(0.75) \n",
    "QA25 = Abweichungen.quantile(0.25) \n",
    "IQA = QA75 - QA25\n",
    "Ausreißer = Abweichungen[Abweichungen > QA75 + 1.5 * IQA] \n",
    "Ausreißer = Ausreißer.append(Abweichungen[Abweichungen < QA25 - 1.5 * IQA])\n",
    "ExtremeAusreißer = Abweichungen[Abweichungen > QA75 + 3 * IQA] \n",
    "ExtremeAusreißer = ExtremeAusreißer.append(Abweichungen[Abweichungen < QA25 - 3 * IQA])\n",
    "galtondatenbereinigt = galtondaten.drop(galtondaten.index[ExtremeAusreißer.index]) "
   ]
  },
  {
   "cell_type": "code",
   "execution_count": 34,
   "metadata": {},
   "outputs": [
    {
     "name": "stdout",
     "output_type": "stream",
     "text": [
      "                 Generalized Linear Model Regression Results                  \n",
      "==============================================================================\n",
      "Dep. Variable:      AnteilhellerAugen   No. Observations:                   76\n",
      "Model:                            GLM   Df Residuals:                       70\n",
      "Model Family:                Binomial   Df Model:                            5\n",
      "Link Function:                  logit   Scale:                             1.0\n",
      "Method:                          IRLS   Log-Likelihood:                -33.089\n",
      "Date:                Wed, 09 May 2018   Deviance:                       127.79\n",
      "Time:                        12:10:54   Pearson chi2:                     9.26\n",
      "No. Iterations:                     7                                         \n",
      "==============================================================================\n",
      "                 coef    std err          z      P>|z|      [0.025      0.975]\n",
      "------------------------------------------------------------------------------\n",
      "Intercept      0.6380      0.434      1.469      0.142      -0.213       1.489\n",
      "C(PL)[T.1]     0.5257      0.673      0.781      0.435      -0.793       1.845\n",
      "C(PL)[T.2]     2.7881      0.931      2.995      0.003       0.964       4.613\n",
      "C(PH)[T.1]     0.1838      0.641      0.287      0.774      -1.073       1.441\n",
      "C(PH)[T.2]    -0.2399      1.180     -0.203      0.839      -2.553       2.073\n",
      "C(PD)[T.1]    -0.9765      0.647     -1.509      0.131      -2.245       0.292\n",
      "C(PD)[T.2]    -1.7767      0.845     -2.103      0.035      -3.433      -0.121\n",
      "==============================================================================\n"
     ]
    }
   ],
   "source": [
    "galtonfit = smf.glm(formula = \"AnteilhellerAugen ~ C(PL) + C(PH) + C(PD)\", data = galtondatenbereinigt, family=sm.families.Binomial()).fit()\n",
    "print(galtonfit.summary()) "
   ]
  },
  {
   "cell_type": "code",
   "execution_count": 35,
   "metadata": {
    "scrolled": true
   },
   "outputs": [
    {
     "data": {
      "text/html": [
       "<div>\n",
       "<style scoped>\n",
       "    .dataframe tbody tr th:only-of-type {\n",
       "        vertical-align: middle;\n",
       "    }\n",
       "\n",
       "    .dataframe tbody tr th {\n",
       "        vertical-align: top;\n",
       "    }\n",
       "\n",
       "    .dataframe thead th {\n",
       "        text-align: right;\n",
       "    }\n",
       "</style>\n",
       "<table border=\"1\" class=\"dataframe\">\n",
       "  <thead>\n",
       "    <tr style=\"text-align: right;\">\n",
       "      <th></th>\n",
       "      <th>PL</th>\n",
       "      <th>PH</th>\n",
       "      <th>PD</th>\n",
       "    </tr>\n",
       "  </thead>\n",
       "  <tbody>\n",
       "    <tr>\n",
       "      <th>PL</th>\n",
       "      <td>0.948905</td>\n",
       "      <td>0.754666</td>\n",
       "      <td>0.546658</td>\n",
       "    </tr>\n",
       "    <tr>\n",
       "      <th>PH</th>\n",
       "      <td>0.754666</td>\n",
       "      <td>0.598214</td>\n",
       "      <td>0.461386</td>\n",
       "    </tr>\n",
       "    <tr>\n",
       "      <th>PD</th>\n",
       "      <td>0.546658</td>\n",
       "      <td>0.461386</td>\n",
       "      <td>0.242544</td>\n",
       "    </tr>\n",
       "  </tbody>\n",
       "</table>\n",
       "</div>"
      ],
      "text/plain": [
       "          PL        PH        PD\n",
       "PL  0.948905  0.754666  0.546658\n",
       "PH  0.754666  0.598214  0.461386\n",
       "PD  0.546658  0.461386  0.242544"
      ]
     },
     "execution_count": 35,
     "metadata": {},
     "output_type": "execute_result"
    }
   ],
   "source": [
    "ergebnisseeltern = np.asarray(fit_parents.predict(alleelternkombis)) \n",
    "eltern3x3 = pd.DataFrame([[ergebnisseeltern[0],ergebnisseeltern[3],ergebnisseeltern[4]],\n",
    "             [ergebnisseeltern[3],ergebnisseeltern[1],ergebnisseeltern[5]],\n",
    "             [ergebnisseeltern[4],ergebnisseeltern[5],ergebnisseeltern[2]]], columns = [\"PL\", \"PH\", \"PD\"], index = [\"PL\", \"PH\", \"PD\"])\n",
    "eltern3x3 "
   ]
  },
  {
   "cell_type": "markdown",
   "metadata": {},
   "source": [
    "#### J.M.:\n",
    "\n",
    "Wenn beide Elternteile helläugig sind\n",
    "\n",
    "Wenn beide Elternteile dunkeläugig sind\n",
    "\n",
    "Diese zwei Einflüsse sind die einzigen signifikanten.\n",
    "\n",
    "Da helle Augen rezessiv vererbt werden"
   ]
  },
  {
   "cell_type": "markdown",
   "metadata": {},
   "source": [
    "#### Fit G\n",
    "Fügen Sie nun zum Modell die zusätzliche kategorialen Variablen der Großeltern hinzu, auch dieses ohne Achsenabschnittsparameter.\n",
    "- Denken Sie an die Möglichkeit  `'C(x)'` im Patsy-String\n",
    "- Passen Sie das Modell an\n",
    "- Erklären Sie augenscheinliche Unterschiede im `summary()`-Ergebnis zum vorigen nur-Eltern-Modell\n",
    "    - [Erklären heißt erkennen, bennen, Ursache vermuten und begründen]"
   ]
  },
  {
   "cell_type": "code",
   "execution_count": 36,
   "metadata": {
    "scrolled": false
   },
   "outputs": [
    {
     "name": "stdout",
     "output_type": "stream",
     "text": [
      "                 Generalized Linear Model Regression Results                  \n",
      "==============================================================================\n",
      "Dep. Variable:             percentage   No. Observations:                   76\n",
      "Model:                            GLM   Df Residuals:                       70\n",
      "Model Family:                Binomial   Df Model:                            5\n",
      "Link Function:                  logit   Scale:                             1.0\n",
      "Method:                          IRLS   Log-Likelihood:                -33.089\n",
      "Date:                Wed, 09 May 2018   Deviance:                       127.79\n",
      "Time:                        12:11:47   Pearson chi2:                     9.26\n",
      "No. Iterations:                     7                                         \n",
      "==============================================================================\n",
      "                 coef    std err          z      P>|z|      [0.025      0.975]\n",
      "------------------------------------------------------------------------------\n",
      "Intercept      0.6380      0.434      1.469      0.142      -0.213       1.489\n",
      "C(PL)[T.1]     0.5257      0.673      0.781      0.435      -0.793       1.845\n",
      "C(PL)[T.2]     2.7881      0.931      2.995      0.003       0.964       4.613\n",
      "C(PH)[T.1]     0.1838      0.641      0.287      0.774      -1.073       1.441\n",
      "C(PH)[T.2]    -0.2399      1.180     -0.203      0.839      -2.553       2.073\n",
      "C(PD)[T.1]    -0.9765      0.647     -1.509      0.131      -2.245       0.292\n",
      "C(PD)[T.2]    -1.7767      0.845     -2.103      0.035      -3.433      -0.121\n",
      "==============================================================================\n",
      "                 Generalized Linear Model Regression Results                  \n",
      "==============================================================================\n",
      "Dep. Variable:             percentage   No. Observations:                   76\n",
      "Model:                            GLM   Df Residuals:                       60\n",
      "Model Family:                Binomial   Df Model:                           15\n",
      "Link Function:                  logit   Scale:                             1.0\n",
      "Method:                          IRLS   Log-Likelihood:                -32.348\n",
      "Date:                Wed, 09 May 2018   Deviance:                       129.03\n",
      "Time:                        12:11:47   Pearson chi2:                     7.67\n",
      "No. Iterations:                     7                                         \n",
      "==============================================================================\n",
      "                 coef    std err          z      P>|z|      [0.025      0.975]\n",
      "------------------------------------------------------------------------------\n",
      "Intercept      0.1806      0.692      0.261      0.794      -1.177       1.538\n",
      "C(PL)[T.1]     0.3556      0.844      0.422      0.673      -1.298       2.009\n",
      "C(PL)[T.2]     2.6079      1.198      2.177      0.029       0.260       4.956\n",
      "C(PH)[T.1]     0.0954      0.786      0.121      0.903      -1.445       1.636\n",
      "C(PH)[T.2]    -0.5464      1.313     -0.416      0.677      -3.119       2.027\n",
      "C(PD)[T.1]    -0.8139      0.791     -1.029      0.304      -2.364       0.737\n",
      "C(PD)[T.2]    -1.6995      1.007     -1.688      0.091      -3.672       0.273\n",
      "C(GL)[T.1]     0.4737      1.942      0.244      0.807      -3.332       4.280\n",
      "C(GL)[T.2]     1.0523      1.761      0.598      0.550      -2.399       4.504\n",
      "C(GL)[T.3]     0.9034      1.413      0.639      0.523      -1.866       3.672\n",
      "C(GL)[T.4]     0.5405      1.395      0.388      0.698      -2.193       3.274\n",
      "C(GH)[T.1]     0.4318      0.775      0.557      0.578      -1.088       1.952\n",
      "C(GH)[T.2]     0.1817      1.783      0.102      0.919      -3.313       3.677\n",
      "C(GH)[T.3]    -1.3284      2.448     -0.543      0.587      -6.127       3.470\n",
      "C(GH)[T.4]    -0.3784      2.207     -0.171      0.864      -4.703       3.947\n",
      "C(GD)[T.1]    -0.4217      1.273     -0.331      0.740      -2.917       2.073\n",
      "C(GD)[T.2]    -0.5705      1.499     -0.381      0.703      -3.508       2.367\n",
      "C(GD)[T.3]    -0.1541      1.483     -0.104      0.917      -3.061       2.753\n",
      "==============================================================================\n"
     ]
    }
   ],
   "source": [
    "fit_par_gran = smf.glm('percentage ~ C(PL)+C(PH)+C(PD)+C(GL)+C(GH)+C(GD)', galton_02, family=sm.families.Binomial()).fit()\n",
    "\n",
    "params_all = fit_par_gran.params\n",
    "print (fit_parents_outliers.summary())\n",
    "print (fit_par_gran.summary())"
   ]
  },
  {
   "cell_type": "markdown",
   "metadata": {},
   "source": [
    "#### Erkennen Sie ein Muster für die Vererbung durch Großeltern?\n",
    "- Plotten Sie hierzu die Originaldaten, die vom Modell P und die vom Modell P+G vorhergesagten Werte (der Einfachheit halber in einem Scatter hintereinanderweg)\n",
    "    - **Hinweis** ohne Angabe eines x-Wertes für den `plt.plot()`-Befehl wird bei DataFrames `x` der interne Index genommen; wollen Sie das vermeiden, wandeln Sie die Daten in ein numpy-nd-array `np.asarray(x)` um\n",
    "    - bei Vektoren (Listen, numpy-nd-arrays) wird automatisch ein neuer Index von 0 ab generiert"
   ]
  },
  {
   "cell_type": "code",
   "execution_count": 37,
   "metadata": {},
   "outputs": [
    {
     "data": {
      "image/png": "[encoded data removed]",
      "text/plain": [
       "<Figure size 432x288 with 1 Axes>"
      ]
     },
     "metadata": {},
     "output_type": "display_data"
    }
   ],
   "source": [
    "# Predictions der Datensätz E und E+P\n",
    "prediction_parents = fit_parents.predict (galton.iloc[:,0:3]);\n",
    "prediction_grannies = fit_par_gran.predict (galton.iloc[:,0:6]);\n",
    "\n",
    "# Plot\n",
    "plt.plot(galton['percentage'], 'y-', label = 'Daten')\n",
    "plt.plot(prediction_grannies, 'r-', label = 'E+G Modell')\n",
    "plt.plot(prediction_parents, 'b-', label = 'E Modell')\n",
    "plt.xlabel('Datenpunkt')\n",
    "plt.ylabel('Wahrscheinlichkeit für helläugiges Kind')\n",
    "plt.title('Modellvergleich');\n",
    "plt.legend(loc='lower left');"
   ]
  },
  {
   "cell_type": "markdown",
   "metadata": {},
   "source": [
    "Wie man in dem Plot oben erkennt, Erlauben die Daten der Eltern und Großeltern eine bessere Vorhersage der Wahrscheinlichkeit ein Kind mit hellen Augen zu bekommen, als nur das Eltern Modell alleine."
   ]
  },
  {
   "cell_type": "markdown",
   "metadata": {},
   "source": [
    "#### Bonus 1\n",
    "- Versuchen Sie dieses Ergebnis (Einfluß Großeltern) biologisch zu erklären."
   ]
  },
  {
   "cell_type": "markdown",
   "metadata": {},
   "source": [
    "### ANTWORT\n",
    "Die Prädiktion wird durch das Eltern+Großeltern-Modell genauer. Die biologische Erklärung hierfür könnte sein, dass Augenfarben auch rezessiv vererbt werden können. Somit können auch Kinder von helläugigen Eltern braune Augen bekommen."
   ]
  },
  {
   "cell_type": "markdown",
   "metadata": {},
   "source": [
    "#### Bonus 2\n",
    "- Können Sie manche Ausreißer erklären?"
   ]
  },
  {
   "cell_type": "markdown",
   "metadata": {},
   "source": [
    "* Vater(?)\n",
    "* Zahlendreher\n",
    "* Rekombination\n",
    "* Spontanmution"
   ]
  },
  {
   "cell_type": "markdown",
   "metadata": {},
   "source": [
    "(6+1+1 Punkte)"
   ]
  },
  {
   "cell_type": "markdown",
   "metadata": {},
   "source": [
    "----"
   ]
  },
  {
   "cell_type": "code",
   "execution_count": 19,
   "metadata": {},
   "outputs": [
    {
     "name": "stdout",
     "output_type": "stream",
     "text": [
      "Teilnehmende: 15\n",
      "Ergebnis im Mittel=8.20, mit Standardabweichung=4.81\n"
     ]
    },
    {
     "data": {
      "image/png": "[encoded data removed]",
      "text/plain": [
       "<Figure size 576x360 with 1 Axes>"
      ]
     },
     "metadata": {},
     "output_type": "display_data"
    }
   ],
   "source": [
    "'''Ergebnisse Übungsaufgaben'''"
   ]
  }
 ],
 "metadata": {
  "kernelspec": {
   "display_name": "Python 3",
   "language": "python",
   "name": "python3"
  },
  "language_info": {
   "codemirror_mode": {
    "name": "ipython",
    "version": 3
   },
   "file_extension": ".py",
   "mimetype": "text/x-python",
   "name": "python",
   "nbconvert_exporter": "python",
   "pygments_lexer": "ipython3",
   "version": "3.6.5"
  }
 },
 "nbformat": 4,
 "nbformat_minor": 2
}
