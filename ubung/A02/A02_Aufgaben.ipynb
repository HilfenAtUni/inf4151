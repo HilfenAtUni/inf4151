{
 "cells": [
  {
   "cell_type": "markdown",
   "metadata": {},
   "source": [
    "# Korrektur\n",
    "\n",
    "Viel Erfolg!\n",
    "\n",
    "### Bewertung\n",
    "\n",
    "#### _/17 Punkte\n",
    "\n",
    "----"
   ]
  },
  {
   "cell_type": "markdown",
   "metadata": {},
   "source": [
    "#### Bitte lösen sie die Aufgaben\n",
    "- innerhalb dieses Notebooks \n",
    "- welches Sie bitte umbenennen in `A01_IHRNAME.ipynb` (IHRNAME passend ersetzen)\n",
    "\n",
    "und schicken \n",
    "\n",
    "#### bis zum <span style=\"color:red\">Sonntag 27. Mai 2017 23:00</span> (6 Tage länger Zeit!) \n",
    "eine Email\n",
    "- mit Betreff `Angewandte Statistik II`\n",
    "- an `uli.wannek@uni-tuebingen.de`\n",
    "- mit dem ausgeführten Notebook als Anhang\n",
    "\n",
    "#### Danke!"
   ]
  },
  {
   "cell_type": "markdown",
   "metadata": {},
   "source": [
    "### Hinweise\n",
    "- Text-Antworten sowie $\\LaTeX$-Formeln am besten in *markdown* Zellen\n",
    "    - Sie müssen nicht, dürfen aber durchaus, Text in `print('')`-Anweisungen ausgeben\n",
    "    - Wenn Sie Ergebnisse aus Zellen verwenden ist `print('{}'.format())` in code-Zellen hingegen extrem praktisch\n",
    "- Sie dürfen in diesem Notebook gerne alles, was nicht zu den Aufgaben gehört, löschen.\n",
    "- Sie dürfen gerne (zu Ihrem späteren **und** meinem jetzigen Verständnis) Kommentare in weiteren markdown-Zellen einfügen. Das hilft wirklich!\n",
    "- Es gibt Punkte für\n",
    "    - Ihre Überlegung\n",
    "    - Ihr Programm\n",
    "    - Ihre Kommentare(!)\n",
    "    - und schließlich für das richtige Ergebnis\n",
    "    - mit Zusammenfassung wie zB.: *\"der Mittelwert beträgt 17km/h\"*\n",
    "- Sie dürfen (müssen aber nicht) alle Antworten natürlich auch auch auf Deutsch verfassen.\n",
    "- Lediglich Kommentare in Code-Zellen sollten (müssen aber nicht) englisch sein.    \n",
    "\n",
    "#### Zu erreichende Punkte\n",
    "(17 Punkte)"
   ]
  },
  {
   "cell_type": "markdown",
   "metadata": {},
   "source": [
    "----"
   ]
  },
  {
   "cell_type": "markdown",
   "metadata": {},
   "source": [
    "# Kovarianz & PCA"
   ]
  },
  {
   "cell_type": "code",
   "execution_count": 1,
   "metadata": {
    "collapsed": true
   },
   "outputs": [],
   "source": [
    "import numpy as np                       # mathematical methods\n",
    "from scipy import stats                  # statistical methods\n",
    "from matplotlib import pyplot as plt     # plotting methods\n",
    "from scipy import stats                  # statistic methods\n",
    "%matplotlib inline"
   ]
  },
  {
   "cell_type": "markdown",
   "metadata": {},
   "source": [
    "# Aufgabe 1: Kovarianzmatrix\n",
    "\n",
    "#### Wie ändern sich\n",
    "Eigenwerte und Eigenvektoren einer Kovarianzmatrix wenn Sie in dem zugrundeliegenden Datensatz zwei Einträge (zB. Elefant und Maus) austauschen?"
   ]
  },
  {
   "cell_type": "markdown",
   "metadata": {},
   "source": [
    "#### Wie ändern sich\n",
    "Eigenwerten und Eigenvektoren einer Kovarianzmatrix wenn Sie den zugrundeliegenden Datensatz mit einem Faktor $\\beta$ skalieren (zB. $10^{-3}$ alle Gewichte in kg statt g angeben)?"
   ]
  },
  {
   "cell_type": "markdown",
   "metadata": {},
   "source": [
    "#### Wie ändern sich\n",
    "Eigenwerten und Eigenvektoren einer Kovarianzmatrix wenn Sie in dem zugrundeliegenden Datensatz zwei Variablen (zB. Körpergewicht und Schlafdauer) austauschen?"
   ]
  },
  {
   "cell_type": "markdown",
   "metadata": {},
   "source": [
    "(2 Punkte)"
   ]
  },
  {
   "cell_type": "markdown",
   "metadata": {},
   "source": [
    "----"
   ]
  },
  {
   "cell_type": "markdown",
   "metadata": {},
   "source": [
    "# Aufgabe 2: Eine ausführliche PCA\n",
    "\n",
    "Versuchen Sie die \"Buchstaben-Bilder X-T-D\" aus der Vorlesung nachzuvollziehen indem Sie selbst Bilder entwerfen und die Eigenvektorzerlegung \n",
    "\n",
    "## A) nach \"Rezept von Hand\" durchführen\n",
    "und  dann\n",
    "\n",
    "## B) Vergleichen mit der Methode aus *sklearn*\n",
    "indem Sie die entsprechenden Daten, Matrizen und Vektoren extrahieren"
   ]
  },
  {
   "cell_type": "markdown",
   "metadata": {},
   "source": [
    "### a) Bauen Sie sich mindestens 3 Kategorien à 10 unterschiedlich verrauschte \"Bilder\"\n",
    "Für dankbare Ergebnisse wählen Sie das Rauschen so groß, daß Standardabweichungen leicht überlappen"
   ]
  },
  {
   "cell_type": "markdown",
   "metadata": {},
   "source": [
    "### b) Ziehen Sie den Mittelwert ab. \n",
    "Welche Form hat Ihr Mittelwert?\n",
    "Welche Form hat Ihre Datenmatrix vorher und nachher?"
   ]
  },
  {
   "cell_type": "markdown",
   "metadata": {},
   "source": [
    "### c) Bauen Sie die Kovarianzmatrix C\n",
    "Welche Form hat sie? "
   ]
  },
  {
   "cell_type": "markdown",
   "metadata": {},
   "source": [
    "### d) Diagonalisieren Sie die Matrix\n",
    "Welche Eigenwerte erhalten Sie? Wo würden Sie passenderweise abschneiden?\n",
    "\n",
    "Welche Eigenvektoren erhalten und welche behalten Sie? Diese einzelnen Vektoren sind Ihre Hauptkomponenten."
   ]
  },
  {
   "cell_type": "markdown",
   "metadata": {},
   "source": [
    "### e) Bilden Sie daraus eine passende Projektionsmatrix W\n",
    "Welche Form haben diese? \n",
    "\n",
    "#### A) und B)"
   ]
  },
  {
   "cell_type": "markdown",
   "metadata": {},
   "source": [
    "### f) Geben Sie die Projektion des ersten Bildes in den Unterraum an\n",
    "Welche Form haben diese Hauptkomponenten-Anteils-Vektoren?\n",
    "\n",
    "#### A) und B)"
   ]
  },
  {
   "cell_type": "markdown",
   "metadata": {},
   "source": [
    "### g) Projizieren Sie *alle* Ihre Daten \n",
    "Welche Form hat diese Matrix?\n",
    "\n",
    "#### A) und B)"
   ]
  },
  {
   "cell_type": "markdown",
   "metadata": {},
   "source": [
    "## Erstellen Sie Graphiken:\n",
    "### h) Anteile aller Hauptkomponenten je Pixel\n",
    "Am besten unterschiedlich klassifiziert (gstrichelt, gepunktet, durchgezogen, ) je nach Buchstaben.\n",
    "\n",
    "#### A) und B)"
   ]
  },
  {
   "cell_type": "markdown",
   "metadata": {},
   "source": [
    "### i) Anteile an der ersten vs. Anteile an der zweiten Hauptkomponente\n",
    "Reichen diese beiden schon zur Klassifikation in Buchstaben?\n",
    "\n",
    "Wenn ja: welche Koordinaten $\\alpha_1$ und $\\alpha_2$ haben die mittleren Buchstaben im Hauptkomponenten-Unterraum?\n",
    "\n",
    "\n",
    "#### A) und B)"
   ]
  },
  {
   "cell_type": "markdown",
   "metadata": {},
   "source": [
    "### j) Wenn nein: nehmen Sie eine weitere Hauptkomponente hinzu\n",
    "Reicht es jetzt?"
   ]
  },
  {
   "cell_type": "markdown",
   "metadata": {},
   "source": [
    "### k) Machen Sie für je einen Buchstaben je Gruppe eine Rücktransformation auf die ursprünglichen Variabeln und stellen diese Buchstaben dar.\n",
    "Vergessen Sie nicht den Mittelwert hinzuzufügen. Erkennen Sie Ihre Buchstaben wieder?\n",
    "\n",
    "#### A) und B)"
   ]
  },
  {
   "cell_type": "markdown",
   "metadata": {},
   "source": [
    "#### <span style=\"color:green\">[ab hier optional]</span> \n",
    "\n",
    "### l) Seien Sie \"gemein\" und geben ein verfremdetes Bild vor.\n",
    "Bei dem Sie einzelne Pixel stark verändern.\n",
    "\n",
    "Das ist dann so ähnlich wie im Beispiel Gesichterkennung eine Blume zu testen\n",
    "\n",
    "#### nur B)"
   ]
  },
  {
   "cell_type": "markdown",
   "metadata": {},
   "source": [
    "### m) Projizieren Sie dieses Bild in den vorhandenen Unterraum\n",
    "Dadurch verlieren Sie Information außerhalb der \"gelernten\" Varianz"
   ]
  },
  {
   "cell_type": "markdown",
   "metadata": {},
   "source": [
    "### n) und führen Sie auch für diesen die Rückprojektion durch\n",
    "Erkennen Sie ihr verfremdetes Bild trotzdem wieder?\n",
    "\n",
    "Das ist dann ein Test, ob Ihre Klassifizierung gut arbeitet, das heißt, die ursprünglichen Bilder den gewünschten Unterraum gut darstellen. \n",
    "\n",
    "#### nur B)"
   ]
  },
  {
   "cell_type": "markdown",
   "metadata": {},
   "source": [
    "(10+2 Punkte)"
   ]
  },
  {
   "cell_type": "markdown",
   "metadata": {},
   "source": [
    "----"
   ]
  },
  {
   "cell_type": "markdown",
   "metadata": {},
   "source": [
    "# Aufgabe 3: Schlafverhalten bei Säugetieren\n",
    "\n",
    "In der *sleep* Datenbank gibt es die Variablen *TotalSleep*, *Dreaming* und *NonDreaming*\n",
    "\n",
    "(siehe A01 oder Download von http://www.statsci.org/data/general/sleep.html )\n",
    "\n",
    "### Kopieren Sie sich die Daten in eine Datenmatrix\n",
    "\n",
    "Vergessen Sie nicht, ungültige Daten (jedoch so wenige wie möglich) zu eliminieren\n",
    "\n",
    "#### Hinweis:\n",
    "Ein `numpy.ndarray` erhalten Sie aus dem `DataFrame` mit der empfohlenen Methode: \n",
    "\n",
    "    variables = ['a', 'b', 'c']\n",
    "    xy = df(variables).values \n",
    "\n",
    "das Sie optional mittel `.T` transponieren können."
   ]
  },
  {
   "cell_type": "markdown",
   "metadata": {},
   "source": [
    "### Führen Sie eine PCA durch\n",
    "(mit der `sklearn` Bibliothek.)\n",
    "\n",
    "Umgehen Sie Fehlermeldungen wie zB.\n",
    "\n",
    "    RuntimeWarning: Mean of empty slice     \n",
    "    \n",
    "durch Reduzieren der Freiheitsgrade. (Warum?)"
   ]
  },
  {
   "cell_type": "markdown",
   "metadata": {},
   "source": [
    "### Was ist die Bedeutung der ersten Hauptkomponente?"
   ]
  },
  {
   "cell_type": "markdown",
   "metadata": {},
   "source": [
    "### Was ist die Bedeutung der zweiten?"
   ]
  },
  {
   "cell_type": "markdown",
   "metadata": {},
   "source": [
    "### Was können Sie über die dritte sagen?"
   ]
  },
  {
   "cell_type": "markdown",
   "metadata": {},
   "source": [
    "#### <span style=\"color:green\">[ab hier optional]</span> \n",
    "### Veranschaulichen Sie sich das Ergebnis mittels einer 3D Graphik\n",
    "(wählen Sie einen passenden Blickwinkel)"
   ]
  },
  {
   "cell_type": "markdown",
   "metadata": {},
   "source": [
    "(5+1 Punkte)"
   ]
  },
  {
   "cell_type": "markdown",
   "metadata": {},
   "source": [
    "----"
   ]
  }
 ],
 "metadata": {
  "hide_input": false,
  "kernelspec": {
   "display_name": "Python 3",
   "language": "python",
   "name": "python3"
  },
  "language_info": {
   "codemirror_mode": {
    "name": "ipython",
    "version": 3
   },
   "file_extension": ".py",
   "mimetype": "text/x-python",
   "name": "python",
   "nbconvert_exporter": "python",
   "pygments_lexer": "ipython3",
   "version": "3.6.5"
  }
 },
 "nbformat": 4,
 "nbformat_minor": 1
}
