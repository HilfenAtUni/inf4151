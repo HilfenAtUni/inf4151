{
 "cells": [
  {
   "cell_type": "markdown",
   "metadata": {},
   "source": [
    "# Korrektur\n",
    "\n",
    "Viel Erfolg!\n",
    "\n",
    "### Bewertung\n",
    "\n",
    "#### _/17 Punkte\n",
    "\n",
    "----"
   ]
  },
  {
   "cell_type": "markdown",
   "metadata": {},
   "source": [
    "#### Bitte lösen sie die Aufgaben \n",
    "- innerhalb dieses Notebooks \n",
    "- welches Sie bitte umbenennen in `A01_IHRNAME.ipynb` (IHRNAME passend ersetzen)\n",
    "\n",
    "und schicken \n",
    "\n",
    "#### bis zum <span style=\"color:red\">Montag 11. Juni 2018 23:00</span>\n",
    "eine Email\n",
    "- mit Betreff `Angewandte Statistik II`\n",
    "- an `uli.wannek@uni-tuebingen.de`\n",
    "- mit dem ausgeführten Notebook als Anhang\n",
    "\n",
    "#### Danke!"
   ]
  },
  {
   "cell_type": "markdown",
   "metadata": {},
   "source": [
    "### Hinweise\n",
    "- Text-Antworten sowie $\\LaTeX$-Formeln am besten in *markdown* Zellen\n",
    "    - Sie müssen nicht, dürfen aber durchaus, Text in `print('')`-Anweisungen ausgeben\n",
    "    - Wenn Sie Ergebnisse aus Zellen verwenden ist `print('{}'.format())` in code-Zellen hingegen extrem praktisch\n",
    "- Sie dürfen in diesem Notebook gerne alles, was nicht zu den Aufgaben gehört, löschen.\n",
    "- Sie dürfen gerne (zu Ihrem späteren **und** meinem jetzigen Verständnis) Kommentare in weiteren markdown-Zellen einfügen. Das hilft wirklich!\n",
    "- Es gibt Punkte für\n",
    "    - Ihre Überlegung\n",
    "    - Ihr Programm\n",
    "    - Ihre Kommentare(!)\n",
    "    - und schließlich für das richtige Ergebnis\n",
    "    - mit Zusammenfassung wie zB.: *\"der Mittelwert beträgt 17km/h\"*\n",
    "- Sie dürfen (müssen aber nicht) alle Antworten natürlich auch auch auf Deutsch verfassen.\n",
    "- Lediglich Kommentare in Code-Zellen sollten (müssen aber nicht) englisch sein.    \n",
    "\n",
    "#### Zu erreichende Punkte\n",
    "(17 Punkte)"
   ]
  },
  {
   "cell_type": "markdown",
   "metadata": {},
   "source": [
    "----"
   ]
  },
  {
   "cell_type": "markdown",
   "metadata": {},
   "source": [
    "# ICA & PCA"
   ]
  },
  {
   "cell_type": "code",
   "execution_count": 1,
   "metadata": {
    "collapsed": true
   },
   "outputs": [],
   "source": [
    "import numpy as np                       # mathematical methods\n",
    "from scipy import stats                  # statistical methods\n",
    "from matplotlib import pyplot as plt     # plotting methods\n",
    "from scipy import stats                  # statistic methods\n",
    "%matplotlib inline"
   ]
  },
  {
   "cell_type": "markdown",
   "metadata": {},
   "source": [
    "# Aufgabe 1: Korrelation und PCA\n",
    "\n",
    "Sie haben zwei Messreihen $x_0$ und $x_1$, von denen Sie vermuten, daß sie beide aus zwei *getrennten* Ursachen (Quellen) zusammengesetzt sind. Laden Sie die Datendatei mit den beiden Messreihen.\n",
    "\n",
    "    X = np.loadtxt('waves.txt')\n",
    "    print(X.shape)"
   ]
  },
  {
   "cell_type": "code",
   "execution_count": null,
   "metadata": {},
   "outputs": [],
   "source": []
  },
  {
   "cell_type": "markdown",
   "metadata": {},
   "source": [
    "### a) Laden sie die Daten und plotten die beiden Messreihen in X  (in Abhängigkeit der Zeit, =Index)\n",
    "Was sehen Sie? Beschreibung!"
   ]
  },
  {
   "cell_type": "code",
   "execution_count": null,
   "metadata": {},
   "outputs": [],
   "source": []
  },
  {
   "cell_type": "markdown",
   "metadata": {},
   "source": [
    "### b) Sind diese beiden Messreihen X[0] und X[1] unabhängig?\n",
    "Was berechnen Sie dazu und was ist Ihr Ergebnis mit Begründung?"
   ]
  },
  {
   "cell_type": "code",
   "execution_count": null,
   "metadata": {},
   "outputs": [],
   "source": []
  },
  {
   "cell_type": "markdown",
   "metadata": {},
   "source": [
    "### c) Was würde eine PCA daraus machen?\n",
    "Plotten Sie zur Anschauung die beiden Messreihen gegeneinander"
   ]
  },
  {
   "cell_type": "code",
   "execution_count": null,
   "metadata": {},
   "outputs": [],
   "source": []
  },
  {
   "cell_type": "markdown",
   "metadata": {},
   "source": [
    "### d) Führen Sie eine PCA durch\n",
    "mit dem Ziel, eine 2x2 Projektionsmatrix zu erhalten und geben diese an"
   ]
  },
  {
   "cell_type": "code",
   "execution_count": null,
   "metadata": {},
   "outputs": [],
   "source": []
  },
  {
   "cell_type": "markdown",
   "metadata": {},
   "source": [
    "### e) Projektion auf die Hauptkomponenten\n",
    "Lassen Sie `pca` die Projektion der beiden gemischten Signale $X_i$ auf die beiden in d) gefundenen Hauptkomponenten berechnen und nennen diese $Z_i$"
   ]
  },
  {
   "cell_type": "code",
   "execution_count": null,
   "metadata": {},
   "outputs": [],
   "source": []
  },
  {
   "cell_type": "markdown",
   "metadata": {},
   "source": [
    "### f) Sind die beiden Z[0] und Z[1] jetzt unabhängig voneinander?\n",
    "Plotten Sie zum einen Z[0] und Z[1] gegen die Zeit und zum anderen Z[0] gegen Z[1]"
   ]
  },
  {
   "cell_type": "code",
   "execution_count": null,
   "metadata": {},
   "outputs": [],
   "source": []
  },
  {
   "cell_type": "markdown",
   "metadata": {},
   "source": [
    "### g) Konnten Sie also die Quellen der beiden gemischten Signale finden?"
   ]
  },
  {
   "cell_type": "code",
   "execution_count": null,
   "metadata": {},
   "outputs": [],
   "source": []
  },
  {
   "cell_type": "markdown",
   "metadata": {},
   "source": [
    "(3,5 Punkte)"
   ]
  },
  {
   "cell_type": "markdown",
   "metadata": {},
   "source": [
    "----"
   ]
  },
  {
   "cell_type": "markdown",
   "metadata": {},
   "source": [
    "# Aufgabe 2: ICA (von Hand)\n",
    "\n",
    "Die selben Daten aus Aufgabe 1), aber Sie vermuten zwei gemischte, aus *unabhängigen* Quellen stammende Signale.\n",
    "\n",
    "### a) Berechnen Sie die Kurtosis von X[0] und X[1] und von Z[0] und Z[1]\n",
    "von den durch PCA in Aufgabe 1) erhaltenen dekorrelierten Signalen.\n",
    "\n",
    "Was schließen Sie aus dem Kurtosis-Vergleich X bzw Z?"
   ]
  },
  {
   "cell_type": "code",
   "execution_count": null,
   "metadata": {},
   "outputs": [],
   "source": []
  },
  {
   "cell_type": "markdown",
   "metadata": {},
   "source": [
    "### b) Zeichnen Sie die vier Histogramme\n",
    "beschriften Sie sie x0, x1, z0 und z1, benutzen Sie *gleiche, sinnvolle* Bineinteilung und wenn Sie zwei Histogramme in eine Graphik zeichnen erhalten Sie Transparenz durch den Parameter `alpha=0.4`.\n",
    "- Erklären Sie: welches Histogramm hat welche Kurtosis?"
   ]
  },
  {
   "cell_type": "code",
   "execution_count": null,
   "metadata": {},
   "outputs": [],
   "source": []
  },
  {
   "cell_type": "markdown",
   "metadata": {},
   "source": [
    "### c) Projection Pursuit\n",
    "Den Raum der möglichen Projektionen können Sie mittels Einheitsvektoren abtasten. Die beste Entmischung ist gesucht. Berechnen Sie dazu zu jeder möglichen Projektion der $Z_i$ (1° Schritte in 360° genügt) die entstehende Kurtosis.\n",
    "\n",
    "#### Zeichnen Sie eine Graphik dieser Kurtosis in Abhängigkeit vom Projektions-Winkel\n",
    "\n",
    "#### Zeichnen Sie die Kurtosis in eine Graphik X[0] gegen X[1] je  Projektions-Winkel ein\n",
    "Orientieren Sie sich am Beispiel aus der Vorlesung\n",
    "\n",
    "#### Zeichen Sie den gesuchten Extremwert ein\n",
    "Was fällt Ihnen auf?"
   ]
  },
  {
   "cell_type": "code",
   "execution_count": null,
   "metadata": {},
   "outputs": [],
   "source": []
  },
  {
   "cell_type": "markdown",
   "metadata": {},
   "source": [
    "### d) [Bonus] wo finden Sie die Kurtosis-Werte\n",
    "aus a) in der (ersten) Graphik von c)?"
   ]
  },
  {
   "cell_type": "code",
   "execution_count": null,
   "metadata": {},
   "outputs": [],
   "source": []
  },
  {
   "cell_type": "markdown",
   "metadata": {},
   "source": [
    "(3,5+0.5 Punkte)"
   ]
  },
  {
   "cell_type": "markdown",
   "metadata": {},
   "source": [
    "----"
   ]
  },
  {
   "cell_type": "markdown",
   "metadata": {},
   "source": [
    "# Aufgabe 3: ICA (mittels `sklearn`)\n",
    "\n",
    "### a) Führen Sie eine fastICA durch\n",
    "idealerweise im Anschluß an Aufgabe 2) mit den selben Daten wie in Aufgabe 1). Nennen Sie die zurückgegebenen entmischten Daten Y.\n",
    "\n",
    "Transponieren Sie dazu gegebenenfalls die zu übergebenden und zurückgegebenen Daten passend und **beschreiben** Sie die Formen der jeweiligen Daten mit **Begründung**."
   ]
  },
  {
   "cell_type": "code",
   "execution_count": null,
   "metadata": {},
   "outputs": [],
   "source": []
  },
  {
   "cell_type": "markdown",
   "metadata": {},
   "source": [
    "### b) Plotten Sie die beiden entmischten Signale Y[0] gegen Y[1]\n",
    "Was ist Y[0] und Y[1]?"
   ]
  },
  {
   "cell_type": "code",
   "execution_count": null,
   "metadata": {},
   "outputs": [],
   "source": []
  },
  {
   "cell_type": "markdown",
   "metadata": {},
   "source": [
    "### c) Sind die beiden Y[0] und Y[1] unabhängig voneinander?\n",
    "Was berechnen Sie? Ihr Ergebnis also? Mit Begründung..."
   ]
  },
  {
   "cell_type": "code",
   "execution_count": null,
   "metadata": {},
   "outputs": [],
   "source": []
  },
  {
   "cell_type": "markdown",
   "metadata": {},
   "source": [
    "### d) Wie groß ist die Kurtosis von Y[0] und Y[1]? \n",
    "- Und was bedeutet das im Vergleich zu Aufgabe 2a) und 2b) also?\n",
    "- Finden Sie diese beiden Werte der Kurtosis in der Graphik aus Aufgabe 2e). Was fällt Ihnen auf?"
   ]
  },
  {
   "cell_type": "code",
   "execution_count": null,
   "metadata": {},
   "outputs": [],
   "source": []
  },
  {
   "cell_type": "markdown",
   "metadata": {},
   "source": [
    "### e) [Bonusfrage] Warum?\n",
    "Warum funktioniert die ICA mit der default-Einstellung trotzdem? (Ihre Überlegungen oder ein Zitat Ihrer Informationsquelle)"
   ]
  },
  {
   "cell_type": "code",
   "execution_count": null,
   "metadata": {},
   "outputs": [],
   "source": []
  },
  {
   "cell_type": "markdown",
   "metadata": {},
   "source": [
    "### f) Machen Sie sich klar, was die folgenden Methoden der `sklearn.decomposition.fastICA` bedeuten:\n",
    "- Wie groß ist Ihr `n_components`, was bedeutet es und woran erkennt man es noch? \n",
    "- Wie sieht die zu übergebende(!) Datenmatrix aus, welche Bedeutung haben Spalten und Zeilen?\n",
    "- Wie sieht die Rückgabematrix aus, welche Bedeutung haben Spalten und Zeilen?\n",
    "- Wie sieht `ica.mixing_` aus, und was ist deren Bedeutung?\n",
    "- Zeigen Sie durch Berechnen mittels Pythons `numpy`-Matrixoperationen anhand Ihrer Ergebnisse Y aus a) und der Datenmatrix X die Bedeutung von `ica.mixing_`. "
   ]
  },
  {
   "cell_type": "code",
   "execution_count": null,
   "metadata": {},
   "outputs": [],
   "source": []
  },
  {
   "cell_type": "markdown",
   "metadata": {},
   "source": [
    "(5+1 Punkte)"
   ]
  },
  {
   "cell_type": "markdown",
   "metadata": {},
   "source": [
    "---"
   ]
  },
  {
   "cell_type": "markdown",
   "metadata": {},
   "source": [
    "# Aufgabe 4: *Natural Images*\n",
    "\n",
    "Es gibt auf http://mldata.org eine Bilderdatenbank \"`natural-scenes-data`\" mit 32x32 Pixel-Ausschnitten aus natürlichen Bildern, die mittels Python direkt aus dem Internet zugänglich ist:\n",
    "\n",
    "    from sklearn.datasets import fetch_mldata\n",
    "\n",
    "    image_patches = fetch_mldata(\"natural-scenes-data\")     # fetch lots of natural image patches\n",
    "    Xraw = image_patches.data\n",
    "\n",
    "oder\n",
    "\n",
    "    # alternatively download from http://mldata.org/repository/data/viewslug/natural-scenes-data/\n",
    "    Xraw = (pd.read_csv('natural-scenes-data.csv', sep=',', header=None)).values"
   ]
  },
  {
   "cell_type": "code",
   "execution_count": null,
   "metadata": {},
   "outputs": [],
   "source": []
  },
  {
   "cell_type": "markdown",
   "metadata": {},
   "source": [
    "### a) Laden Sie die Bilder-Datenbank\n",
    "#### Wie viele Bildausschnitte sind enthalten?\n",
    "\n",
    "#### Ansehen  eines Beispielbildes\n",
    "\n",
    "    plt.imshow(Xraw[801].reshape(32, 32), cmap=\"gray\")  # show 6th image; vector->square"
   ]
  },
  {
   "cell_type": "code",
   "execution_count": null,
   "metadata": {},
   "outputs": [],
   "source": []
  },
  {
   "cell_type": "markdown",
   "metadata": {},
   "source": [
    "### Verbessern der Statstik\n",
    "Unterteilen Sie die 32x32 Pixel Ausschnitte in 8x8 Pixel Ausschnitte\n",
    "\n",
    "    X = Xraw.reshape(1000, 4, 8, 4, 8)           # make 3D temporarily 5D\n",
    "    X = np.rollaxis(X, 3, 2).reshape(-1, 8 * 8)  # and recollect right axes, -1 means auto scale \n",
    "\n",
    "#### Wie viele Bildausschnitte haben Sie jetzt?\n",
    "\n",
    "#### Ansehen eines Beispielbildes\n",
    "\n",
    "    plt.imshow(Xraw[4*4*801].reshape(8, 8), cmap=\"gray\")  # show corner from 6th image "
   ]
  },
  {
   "cell_type": "code",
   "execution_count": null,
   "metadata": {},
   "outputs": [],
   "source": []
  },
  {
   "cell_type": "markdown",
   "metadata": {},
   "source": [
    "### b) führen Sie eine PCA durch\n",
    "für die Bilder in X. Beschränken Sie sich auf 49 Hauptkomponenten."
   ]
  },
  {
   "cell_type": "code",
   "execution_count": null,
   "metadata": {},
   "outputs": [],
   "source": []
  },
  {
   "cell_type": "markdown",
   "metadata": {},
   "source": [
    "#### Komponenten\n",
    "Zeigen Sie die 49 *Haupt*komponenten, das sind quasi Filter für diese natürlichen Bildausschnitte. Es sollte in etwa so aussehen wie das Beispiel in der Vorlesung.\n",
    "\n",
    "    plt.figure(figsize=(10, 10))\n",
    "    for i, f in enumerate( ??? ):\n",
    "        plt.subplot(7, 7, i+1)                    # draw images in 7x7 grid\n",
    "        plt.imshow(f.reshape(8, 8), cmap=\"gray\")\n",
    "        plt.axis(\"off\")"
   ]
  },
  {
   "cell_type": "code",
   "execution_count": null,
   "metadata": {},
   "outputs": [],
   "source": []
  },
  {
   "cell_type": "markdown",
   "metadata": {},
   "source": [
    "### c) führen Sie eine ICA durch\n",
    "für die Bilder in X. Beschränken Sie sich auf 49 unabhängige Komponenten."
   ]
  },
  {
   "cell_type": "code",
   "execution_count": null,
   "metadata": {},
   "outputs": [],
   "source": []
  },
  {
   "cell_type": "markdown",
   "metadata": {},
   "source": [
    "#### Komponenten\n",
    "Zeigen Sie die 49 *unabhängigen* Komponenten, das sind quasi Filter für diese natürlichen Bildausschnitte. Es sollte in etwa so aussehen wie das Beispiel in der Vorlesung."
   ]
  },
  {
   "cell_type": "code",
   "execution_count": null,
   "metadata": {},
   "outputs": [],
   "source": []
  },
  {
   "cell_type": "markdown",
   "metadata": {},
   "source": [
    "(5 Punkte)"
   ]
  },
  {
   "cell_type": "markdown",
   "metadata": {},
   "source": [
    "----"
   ]
  }
 ],
 "metadata": {
  "hide_input": false,
  "kernelspec": {
   "display_name": "Python 3",
   "language": "python",
   "name": "python3"
  },
  "language_info": {
   "codemirror_mode": {
    "name": "ipython",
    "version": 3
   },
   "file_extension": ".py",
   "mimetype": "text/x-python",
   "name": "python",
   "nbconvert_exporter": "python",
   "pygments_lexer": "ipython3",
   "version": "3.6.5"
  }
 },
 "nbformat": 4,
 "nbformat_minor": 1
}
