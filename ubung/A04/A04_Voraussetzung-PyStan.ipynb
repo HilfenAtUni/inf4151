{
 "cells": [
  {
   "cell_type": "markdown",
   "metadata": {},
   "source": [
    "# Bitte Voraussetzungen für weitere Vorlesungsstunden installieren\n",
    "\n",
    "Viel Erfolg!\n",
    "\n",
    "### ohne Bewertung\n",
    "#### bis zum <span style=\"color:red\">Mittwoch 20. Juni 2017 14:15</span>\n",
    "\n",
    "... und bringen Sie Ihre Probleme damit und Fragen dazu zur Übungsstunde mit\n",
    "\n",
    "----"
   ]
  },
  {
   "cell_type": "markdown",
   "metadata": {},
   "source": [
    "## Python Stan\n",
    "\n",
    "Bitte installieren Sie die `pystan` Bibliothek in Ihr Python, sie wird neben `numpy` auch `cython` voraussetzen.\n",
    "    \n",
    "> Note\n",
    "> Installing PyStan involves compiling Stan. This may take a considerable amount of time.\n",
    "> \n",
    "\n",
    "#### Entweder\n",
    "\n",
    "    conda install pystan\n",
    "\n",
    "#### oder\n",
    "http://pystan.readthedocs.io/en/latest/getting_started.html\n",
    "\n",
    "http://pystan.readthedocs.io/en/latest/windows.html#windows\n",
    "\n",
    "#### oder\n",
    "https://pypi.python.org/pypi/pystan\n",
    "\n",
    "----"
   ]
  },
  {
   "cell_type": "markdown",
   "metadata": {},
   "source": [
    "## Installation testen mit"
   ]
  },
  {
   "cell_type": "code",
   "execution_count": 3,
   "metadata": {
    "scrolled": true
   },
   "outputs": [
    {
     "name": "stderr",
     "output_type": "stream",
     "text": [
      "INFO:pystan:COMPILING THE C++ CODE FOR MODEL anon_model_95013624776d537c3cd7cd4d641c30e0 NOW.\n"
     ]
    }
   ],
   "source": [
    "import pystan\n",
    "\n",
    "schools_code = \"\"\"\n",
    "data {\n",
    "    int<lower=0> J; // number of schools\n",
    "    real y[J]; // estimated treatment effects\n",
    "    real<lower=0> sigma[J]; // s.e. of effect estimates\n",
    "}\n",
    "parameters {\n",
    "    real mu;\n",
    "    real<lower=0> tau;\n",
    "    real eta[J];\n",
    "}\n",
    "transformed parameters {\n",
    "    real theta[J];\n",
    "    for (j in 1:J)\n",
    "    theta[j] <- mu + tau * eta[j];\n",
    "}\n",
    "model {\n",
    "    eta ~ normal(0, 1);\n",
    "    y ~ normal(theta, sigma);\n",
    "}\n",
    "\"\"\"\n",
    "\n",
    "schools_dat = {'J': 8,\n",
    "               'y': [28,  8, -3,  7, -1,  1, 18, 12],\n",
    "               'sigma': [15, 10, 16, 11,  9, 11, 10, 18]}\n",
    "\n",
    "fit = pystan.stan(model_code=schools_code, data=schools_dat,\n",
    "                  iter=1000, chains=4)\n"
   ]
  },
  {
   "cell_type": "markdown",
   "metadata": {},
   "source": [
    "und nach längerer Rechenzeit (~1/2 Minute achten Sie auf \"Kernel ready\")"
   ]
  },
  {
   "cell_type": "code",
   "execution_count": 2,
   "metadata": {
    "scrolled": false
   },
   "outputs": [
    {
     "name": "stdout",
     "output_type": "stream",
     "text": [
      "Inference for Stan model: anon_model_95013624776d537c3cd7cd4d641c30e0.\n",
      "4 chains, each with iter=1000; warmup=500; thin=1; \n",
      "post-warmup draws per chain=500, total post-warmup draws=2000.\n",
      "\n",
      "           mean se_mean     sd   2.5%    25%    50%    75%  97.5%  n_eff   Rhat\n",
      "mu         7.66    0.29   5.47  -2.88   4.58   7.77  10.75  18.14    361   1.01\n",
      "tau         6.8    0.25   5.75   0.27   2.66   5.38    9.3  21.74    546    1.0\n",
      "eta[0]     0.42    0.02   0.93  -1.43  -0.19    0.4   1.04    2.3   2000    1.0\n",
      "eta[1]   8.5e-3    0.02   0.94  -1.87  -0.58   0.01   0.62   1.86   2000    1.0\n",
      "eta[2]    -0.22    0.02   0.96  -2.12  -0.86  -0.22   0.39   1.71   2000    1.0\n",
      "eta[3]    -0.05    0.02   0.89  -1.84  -0.62  -0.04   0.54   1.68   2000    1.0\n",
      "eta[4]    -0.35    0.02   0.85   -2.0  -0.92  -0.36   0.17   1.35   2000    1.0\n",
      "eta[5]    -0.16    0.02   0.88   -1.9  -0.75  -0.16   0.45   1.55   2000    1.0\n",
      "eta[6]     0.36    0.02    0.9  -1.46  -0.23   0.39   0.92   2.07   2000    1.0\n",
      "eta[7]     0.07    0.02   0.95  -1.88  -0.55   0.09   0.67   1.96   2000    1.0\n",
      "theta[0]  11.43    0.25    8.2  -1.97   6.04  10.05  15.41  31.45   1104    1.0\n",
      "theta[1]   7.82    0.14   6.19  -4.85   3.98   7.95  11.59  20.47   2000    1.0\n",
      "theta[2]   5.82    0.18   8.03 -11.76   1.76   6.46  10.63  20.63   2000    1.0\n",
      "theta[3]   7.45    0.15   6.55  -6.07    3.5   7.48   11.2  21.06   2000    1.0\n",
      "theta[4]   4.93    0.14    6.2  -9.09   1.18   5.57   9.04  15.96   2000    1.0\n",
      "theta[5]   6.32    0.15   6.72  -7.61   2.32   6.63  10.75  19.25   2000    1.0\n",
      "theta[6]  10.85    0.16   6.96  -1.01   6.27   9.88  14.87  26.42   2000    1.0\n",
      "theta[7]   8.25    0.18    8.0  -8.24   3.67   8.08  12.49  25.93   2000    1.0\n",
      "lp__      -4.88    0.09   2.59 -10.72  -6.52  -4.69  -3.02  -0.39    744    1.0\n",
      "\n",
      "Samples were drawn using NUTS at Wed Jun 13 16:19:37 2018.\n",
      "For each parameter, n_eff is a crude measure of effective sample size,\n",
      "and Rhat is the potential scale reduction factor on split chains (at \n",
      "convergence, Rhat=1).\n"
     ]
    }
   ],
   "source": [
    "print(fit)"
   ]
  },
  {
   "cell_type": "code",
   "execution_count": 4,
   "metadata": {},
   "outputs": [
    {
     "data": {
      "text/plain": [
       "<Figure size 640x480 with 8 Axes>"
      ]
     },
     "execution_count": 4,
     "metadata": {},
     "output_type": "execute_result"
    }
   ],
   "source": [
    "fit.plot()"
   ]
  },
  {
   "cell_type": "markdown",
   "metadata": {},
   "source": [
    "----"
   ]
  }
 ],
 "metadata": {
  "hide_input": false,
  "kernelspec": {
   "display_name": "Python 3",
   "language": "python",
   "name": "python3"
  },
  "language_info": {
   "codemirror_mode": {
    "name": "ipython",
    "version": 3
   },
   "file_extension": ".py",
   "mimetype": "text/x-python",
   "name": "python",
   "nbconvert_exporter": "python",
   "pygments_lexer": "ipython3",
   "version": "3.6.5"
  },
  "latex_envs": {
   "LaTeX_envs_menu_present": true,
   "autoclose": false,
   "autocomplete": true,
   "bibliofile": "biblio.bib",
   "cite_by": "apalike",
   "current_citInitial": 1,
   "eqLabelWithNumbers": true,
   "eqNumInitial": 1,
   "hotkeys": {
    "equation": "Ctrl-E",
    "itemize": "Ctrl-I"
   },
   "labels_anchors": false,
   "latex_user_defs": false,
   "report_style_numbering": false,
   "user_envs_cfg": false
  }
 },
 "nbformat": 4,
 "nbformat_minor": 1
}
